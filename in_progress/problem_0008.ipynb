{
 "cells": [
  {
   "attachments": {},
   "cell_type": "markdown",
   "id": "d24ddc0f",
   "metadata": {},
   "source": [
    "# [Question 8](https://projecteuler.net/problem=8)"
   ]
  },
  {
   "attachments": {},
   "cell_type": "markdown",
   "id": "d51cb63d",
   "metadata": {},
   "source": [
    "The four adjacent digits in the $1000$-digit number that have the greatest product are $9 \\times 9 \\times 8 \\times 9 = 5832$.<br>\n",
    "<br>\n",
    "73167176531330624919225119674426574742355349194934<br>\n",
    "96983520312774506326239578318016984801869478851843<br>\n",
    "85861560789112949495459501737958331952853208805511<br>\n",
    "12540698747158523863050715693290963295227443043557<br>\n",
    "66896648950445244523161731856403098711121722383113<br>\n",
    "62229893423380308135336276614282806444486645238749<br>\n",
    "30358907296290491560440772390713810515859307960866<br>\n",
    "70172427121883998797908792274921901699720888093776<br>\n",
    "65727333001053367881220235421809751254540594752243<br>\n",
    "52584907711670556013604839586446706324415722155397<br>\n",
    "53697817977846174064955149290862569321978468622482<br>\n",
    "83972241375657056057490261407972968652414535100474<br>\n",
    "82166370484403199890008895243450658541227588666881<br>\n",
    "16427171479924442928230863465674813919123162824586<br>\n",
    "17866458359124566529476545682848912883142607690042<br>\n",
    "24219022671055626321111109370544217506941658960408<br>\n",
    "07198403850962455444362981230987879927244284909188<br>\n",
    "84580156166097919133875499200524063689912560717606<br>\n",
    "05886116467109405077541002256983155200055935729725<br>\n",
    "71636269561882670428252483600823257530420752963450<br>\n",
    "Find the thirteen adjacent digits in the $1000$-digit number that have the greatest product. What is the value of this product?<br>\n"
   ]
  },
  {
   "attachments": {},
   "cell_type": "markdown",
   "id": "43f48cb3",
   "metadata": {},
   "source": [
    "# Solution"
   ]
  },
  {
   "cell_type": "code",
   "execution_count": null,
   "id": "32db2e3b",
   "metadata": {},
   "outputs": [],
   "source": [
    "def solution():\n",
    "\tpass"
   ]
  },
  {
   "attachments": {},
   "cell_type": "markdown",
   "id": "f45c7fa3",
   "metadata": {},
   "source": [
    "# Run"
   ]
  },
  {
   "cell_type": "code",
   "execution_count": null,
   "id": "2fe303e0",
   "metadata": {},
   "outputs": [],
   "source": [
    "%%time\n",
    "solution()"
   ]
  }
 ],
 "metadata": {
  "language_info": {
   "name": "python"
  }
 },
 "nbformat": 4,
 "nbformat_minor": 5
}
