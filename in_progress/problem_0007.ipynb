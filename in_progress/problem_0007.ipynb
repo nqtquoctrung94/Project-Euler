{
 "cells": [
  {
   "attachments": {},
   "cell_type": "markdown",
   "id": "3c75baa6",
   "metadata": {},
   "source": [
    "# [Question 7](https://projecteuler.net/problem=7)"
   ]
  },
  {
   "attachments": {},
   "cell_type": "markdown",
   "id": "4dd8c357",
   "metadata": {},
   "source": [
    "By listing the first six prime numbers: $2, 3, 5, 7, 11$, and $13$, we can see that the $6th$ prime is $13$.<br>\n",
    "What is the $10\\,001$st prime number?<br>\n"
   ]
  },
  {
   "attachments": {},
   "cell_type": "markdown",
   "id": "bd13ae24",
   "metadata": {},
   "source": [
    "# Solution"
   ]
  },
  {
   "cell_type": "code",
   "execution_count": null,
   "id": "b74fb4d6",
   "metadata": {},
   "outputs": [],
   "source": [
    "def solution():\n",
    "\tpass"
   ]
  },
  {
   "attachments": {},
   "cell_type": "markdown",
   "id": "beb20c46",
   "metadata": {},
   "source": [
    "# Run"
   ]
  },
  {
   "cell_type": "code",
   "execution_count": null,
   "id": "555d7d1c",
   "metadata": {},
   "outputs": [],
   "source": [
    "%%time\n",
    "solution()"
   ]
  }
 ],
 "metadata": {
  "language_info": {
   "name": "python"
  }
 },
 "nbformat": 4,
 "nbformat_minor": 5
}
