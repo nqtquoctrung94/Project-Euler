{
 "cells": [
  {
   "cell_type": "markdown",
   "id": "57f90695",
   "metadata": {},
   "source": [
    "# [Question 59](https://projecteuler.net/problem=59)"
   ]
  },
  {
   "cell_type": "markdown",
   "id": "5117a839",
   "metadata": {},
   "source": [
    "## XOR Decryption\n",
    "Each character on a computer is assigned a unique code and the preferred standard is ASCII (American Standard Code for Information Interchange). For example, uppercase A = 65, asterisk (*) = 42, and lowercase k = 107.<br>\n",
    "\n",
    "A modern encryption method is to take a text file, convert the bytes to ASCII, then XOR each byte with a given value, taken from a secret key. The advantage with the XOR function is that using the same encryption key on the cipher text, restores the plain text; for example, 65 XOR 42 = 107, then 107 XOR 42 = 65.<br>\n",
    "\n",
    "For unbreakable encryption, the key is the same length as the plain text message, and the key is made up of random bytes. The user would keep the encrypted message and the encryption key in different locations, and without both \"halves\", it is impossible to decrypt the message.<br>\n",
    "\n",
    "Unfortunately, this method is impractical for most users, so the modified method is to use a password as a key. If the password is shorter than the message, which is likely, the key is repeated cyclically throughout the message. The balance for this method is using a sufficiently long password key for security, but short enough to be memorable.<br>\n",
    "\n",
    "Your task has been made easy, as the encryption key consists of three lower case characters. Using [0059_cipher.txt](https://projecteuler.net/resources/documents/0059_cipher.txt), a file containing the encrypted ASCII codes, and the knowledge that the plain text must contain common English words, decrypt the message and find the sum of the ASCII values in the original text.<br>\n",
    "\n"
   ]
  },
  {
   "cell_type": "markdown",
   "id": "da93c778",
   "metadata": {},
   "source": [
    "# Solution"
   ]
  },
  {
   "cell_type": "markdown",
   "id": "e5131600",
   "metadata": {},
   "source": [
    "This solution assume the most common word in the text is `the` and the most common char is space"
   ]
  },
  {
   "cell_type": "code",
   "execution_count": 30,
   "id": "d1b3d564",
   "metadata": {},
   "outputs": [],
   "source": [
    "def decypher_message(\n",
    "        keys: list, # Key consist of 3 character a,b,c in ASCII value [ord(a), ord(b), orc(c)]\n",
    "        encrypted_code:list # code is read from the input file, split into list of number\n",
    "    ) -> str:\n",
    "\n",
    "    message = ''\n",
    "\n",
    "    for index, code in enumerate(encrypted_code):\n",
    "        key = keys[index%3]\n",
    "        decoded_char = chr(code^key)\n",
    "        message += decoded_char\n",
    "    \n",
    "    return message"
   ]
  },
  {
   "cell_type": "code",
   "execution_count": 31,
   "id": "6897b4fe",
   "metadata": {},
   "outputs": [],
   "source": [
    "def count_words(message:str) -> dict:\n",
    "    word_count = {}\n",
    "    for word in message.lower().split():\n",
    "        word_count[word] = word_count.get(word, 0) + 1\n",
    "    return word_count"
   ]
  },
  {
   "cell_type": "code",
   "execution_count": 32,
   "id": "68fb67f8",
   "metadata": {},
   "outputs": [],
   "source": [
    "def sum_ASCII_values(message:str) -> int:\n",
    "    return sum(ord(char) for char in message)"
   ]
  },
  {
   "cell_type": "code",
   "execution_count": 33,
   "id": "96b8c1ce",
   "metadata": {},
   "outputs": [],
   "source": [
    "def solution():\n",
    "\t# Read file\n",
    "\twith open(r'input files\\0059_cipher.txt', 'r') as file:\n",
    "\t\tinput_text = file.read()\n",
    "\n",
    "\tencrypted_code = [int(number) for number in input_text.split(',')]\n",
    "\n",
    "\t# Try all combination of 3 char code a-b-c, result will have the most number of 'the' word count\n",
    "\tthe_count = 0\n",
    "\ttrue_message = ''\n",
    "\tchars_range = range(ord('a'), ord('z')+1)\n",
    "\tfor a in chars_range:\n",
    "\t\tfor b in chars_range:\n",
    "\t\t\tfor c in chars_range:\n",
    "\t\t\t\tdecoded_message = decypher_message([a,b,c], encrypted_code)\n",
    "\t\t\t\twords_dict = count_words(decoded_message)\n",
    "\t\t\t\tif words_dict.get('the', 0) > the_count:\n",
    "\t\t\t\t\ttrue_message = decoded_message\n",
    "\tprint(f\"The message is:\\n{true_message}\")\n",
    "\treturn sum_ASCII_values(true_message)"
   ]
  },
  {
   "cell_type": "markdown",
   "id": "aa3960a4",
   "metadata": {},
   "source": [
    "# Run"
   ]
  },
  {
   "cell_type": "code",
   "execution_count": 34,
   "id": "4b6f6156",
   "metadata": {},
   "outputs": [
    {
     "name": "stdout",
     "output_type": "stream",
     "text": [
      "The message is:\n",
      "An extract taken from the introduction of one of Euler's most celebrated papers, \"De summis serierum reciprocarum\" [On the sums of series of reciprocals]: I have recently found, quite unexpectedly, an elegant expression for the entire sum of this series 1 + 1/4 + 1/9 + 1/16 + etc., which depends on the quadrature of the circle, so that if the true sum of this series is obtained, from it at once the quadrature of the circle follows. Namely, I have found that the sum of this series is a sixth part of the square of the perimeter of the circle whose diameter is 1; or by putting the sum of this series equal to s, it has the ratio sqrt(6) multiplied by s to 1 of the perimeter to the diameter. I will soon show that the sum of this series to be approximately 1.644934066842264364; and from multiplying this number by six, and then taking the square root, the number 3.141592653589793238 is indeed produced, which expresses the perimeter of a circle whose diameter is 1. Following again the same steps by which I had arrived at this sum, I have discovered that the sum of the series 1 + 1/16 + 1/81 + 1/256 + 1/625 + etc. also depends on the quadrature of the circle. Namely, the sum of this multiplied by 90 gives the biquadrate (fourth power) of the circumference of the perimeter of a circle whose diameter is 1. And by similar reasoning I have likewise been able to determine the sums of the subsequent series in which the exponents are even numbers.\n",
      "CPU times: total: 14.4 s\n",
      "Wall time: 16 s\n"
     ]
    },
    {
     "data": {
      "text/plain": [
       "129448"
      ]
     },
     "execution_count": 34,
     "metadata": {},
     "output_type": "execute_result"
    }
   ],
   "source": [
    "%%time\n",
    "solution()"
   ]
  }
 ],
 "metadata": {
  "kernelspec": {
   "display_name": "base",
   "language": "python",
   "name": "python3"
  },
  "language_info": {
   "codemirror_mode": {
    "name": "ipython",
    "version": 3
   },
   "file_extension": ".py",
   "mimetype": "text/x-python",
   "name": "python",
   "nbconvert_exporter": "python",
   "pygments_lexer": "ipython3",
   "version": "3.10.9"
  }
 },
 "nbformat": 4,
 "nbformat_minor": 5
}
