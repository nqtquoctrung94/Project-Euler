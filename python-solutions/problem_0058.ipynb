{
 "cells": [
  {
   "cell_type": "markdown",
   "id": "fae04ee6",
   "metadata": {},
   "source": [
    "# [Question 58](https://projecteuler.net/problem=58)"
   ]
  },
  {
   "cell_type": "markdown",
   "id": "d97a6f83",
   "metadata": {},
   "source": [
    "## Spiral Primes\n",
    "Starting with 1 and spiralling anticlockwise in the following way, a square spiral with side length 7 is formed.<br>\n",
    "\n",
    "<pre style=\"text-align: center;\">\n",
    "<span style=\"color: red\"><b>37</b></span> 36 35 34 33 32 <span style=\"color: red\"><b>31</b></span>\n",
    "38 <span style=\"color: red\"><b>17</b></span> 16 15 14 <span style=\"color: red\"><b>13</b></span> 30\n",
    "39 18 <span style=\"color: red\"> <b>5</b></span>  4 <span style=\"color: red\"> <b>3</b></span> 12 29\n",
    "40 19  6  1  2 11 28\n",
    "41 20 <span style=\"color: red\"> <b>7</b></span>  8  9 10 27\n",
    "42 21 22 23 24 25 26\n",
    "<span style=\"color: red\"><b>43</b></span> 44 45 46 47 48 49</p>\n",
    "</pre>\n",
    "\n",
    "It is interesting to note that the odd squares lie along the bottom right diagonal, but what is more interesting is that 8 out of the 13 numbers lying along both diagonals are prime; that is, a ratio of 8/13 ≈ 62%.<br>\n",
    "If one complete new layer is wrapped around the spiral above, a square spiral with side length 9 will be formed. If this process is continued, what is the side length of the square spiral for which the ratio of primes along both diagonals first falls below 10%?<br>\n"
   ]
  },
  {
   "cell_type": "markdown",
   "id": "c194113f",
   "metadata": {},
   "source": [
    "# Solution"
   ]
  },
  {
   "cell_type": "markdown",
   "id": "3aae68ed",
   "metadata": {},
   "source": [
    "Whether it is spiralling clockwise or anti-clockwise, the numbers at the corner will be the same, so we can use the result from problem_0028 to support solving this"
   ]
  },
  {
   "cell_type": "code",
   "execution_count": 14,
   "id": "971ec891",
   "metadata": {},
   "outputs": [],
   "source": [
    "from snippet.euler_lib import is_prime"
   ]
  },
  {
   "cell_type": "code",
   "execution_count": 15,
   "id": "2fe31763",
   "metadata": {},
   "outputs": [],
   "source": [
    "def ring_count_prime(ring: int) -> int:\n",
    "    \"\"\"This function count the number of prime numbers of the 4 diagonal positions of the ring\n",
    "    The four corners will have the format (size**2 - 2*ring*n) for n=[0,1,2,3]\n",
    "    \"\"\"\n",
    "    size = ring*2 + 1\n",
    "    return sum(1 for n in range(4) if is_prime(size**2 - 2*ring*n))"
   ]
  },
  {
   "cell_type": "code",
   "execution_count": 16,
   "id": "d60c928c",
   "metadata": {},
   "outputs": [],
   "source": [
    "def solution():\n",
    "\tring = 1\t\t\t# This count the first ring is the ring 2 -> 9\n",
    "\tnumber_count = 1 \t# This count number 1 in the middle area\n",
    "\tprime_count = 0\n",
    "\n",
    "\twhile True:\n",
    "\t\tnumber_count += 4\n",
    "\t\tprime_count += ring_count_prime(ring)\n",
    "\n",
    "\t\tif prime_count / number_count < 0.1:\n",
    "\t\t\treturn ring*2 + 1 # The question require return the side lenght\n",
    "\t\t\n",
    "\t\tring += 1"
   ]
  },
  {
   "cell_type": "markdown",
   "id": "640d5c1e",
   "metadata": {},
   "source": [
    "# Run"
   ]
  },
  {
   "cell_type": "code",
   "execution_count": 17,
   "id": "b6607792",
   "metadata": {},
   "outputs": [
    {
     "name": "stdout",
     "output_type": "stream",
     "text": [
      "CPU times: total: 4.98 s\n",
      "Wall time: 5.55 s\n"
     ]
    },
    {
     "data": {
      "text/plain": [
       "26241"
      ]
     },
     "execution_count": 17,
     "metadata": {},
     "output_type": "execute_result"
    }
   ],
   "source": [
    "%%time\n",
    "solution()"
   ]
  }
 ],
 "metadata": {
  "kernelspec": {
   "display_name": "base",
   "language": "python",
   "name": "python3"
  },
  "language_info": {
   "codemirror_mode": {
    "name": "ipython",
    "version": 3
   },
   "file_extension": ".py",
   "mimetype": "text/x-python",
   "name": "python",
   "nbconvert_exporter": "python",
   "pygments_lexer": "ipython3",
   "version": "3.10.9"
  }
 },
 "nbformat": 4,
 "nbformat_minor": 5
}
