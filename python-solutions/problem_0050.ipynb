{
 "cells": [
  {
   "cell_type": "markdown",
   "id": "460b762a",
   "metadata": {},
   "source": [
    "# [Question 50](https://projecteuler.net/problem=50)"
   ]
  },
  {
   "cell_type": "markdown",
   "id": "b80fa08f",
   "metadata": {},
   "source": [
    "## Consecutive Prime Sum\n",
    "The prime $41$, can be written as the sum of six consecutive primes:<br>\n",
    "$$41 = 2 + 3 + 5 + 7 + 11 + 13.$$\n",
    "\n",
    "This is the longest sum of consecutive primes that adds to a prime below one-hundred.<br>\n",
    "The longest sum of consecutive primes below one-thousand that adds to a prime, contains $21$ terms, and is equal to $953$.<br>\n",
    "Which prime, below one-million, can be written as the sum of the most consecutive primes?<br>\n"
   ]
  },
  {
   "cell_type": "markdown",
   "id": "8c577567",
   "metadata": {},
   "source": [
    "# Solution"
   ]
  },
  {
   "cell_type": "code",
   "execution_count": 1,
   "id": "5dc3b0eb",
   "metadata": {},
   "outputs": [],
   "source": [
    "from snippet.euler_lib import sieve_of_eratosthenes"
   ]
  },
  {
   "cell_type": "code",
   "execution_count": 2,
   "id": "0b70f430",
   "metadata": {},
   "outputs": [],
   "source": [
    "def consecutive_prime_sum(primes:list, target_prime:int, start_index:int, end_index:int) -> int:\n",
    "    sum_primes = sum(primes[start_index: end_index])\n",
    "    while sum_primes != target_prime:\n",
    "        if sum_primes > target_prime:\n",
    "            start_index += 1\n",
    "        else:\n",
    "            end_index += 1\n",
    "        sum_primes = sum(primes[start_index: end_index])\n",
    "    return end_index - start_index"
   ]
  },
  {
   "cell_type": "code",
   "execution_count": 3,
   "id": "fb31f725",
   "metadata": {},
   "outputs": [],
   "source": [
    "def solution():\n",
    "    prime_list = sieve_of_eratosthenes(1000000)\n",
    "    max_chain = 0\n",
    "    max_prime = 0\n",
    "    least_chain_sum = 0\n",
    "\n",
    "    for prime in reversed(prime_list):\n",
    "        # If current prime already smaller than least sum of longest chain, then no need to check further, the chain result will always be shorter than max_chain\n",
    "        if prime < least_chain_sum:\n",
    "            continue\n",
    "        chain = consecutive_prime_sum(prime_list, prime, 0, 1)\n",
    "\n",
    "        # If found longer chain\n",
    "        if chain > max_chain:\n",
    "            # Update values\n",
    "            max_chain, max_prime = chain, prime\n",
    "            least_chain_sum = sum(prime_list[:max_chain])\n",
    "    return max_prime\n"
   ]
  },
  {
   "cell_type": "markdown",
   "id": "4d2bd397",
   "metadata": {},
   "source": [
    "# Run"
   ]
  },
  {
   "cell_type": "code",
   "execution_count": 4,
   "id": "16825a3f",
   "metadata": {},
   "outputs": [
    {
     "name": "stdout",
     "output_type": "stream",
     "text": [
      "CPU times: total: 13.2 s\n",
      "Wall time: 19.2 s\n"
     ]
    },
    {
     "data": {
      "text/plain": [
       "997651"
      ]
     },
     "execution_count": 4,
     "metadata": {},
     "output_type": "execute_result"
    }
   ],
   "source": [
    "%%time\n",
    "solution()"
   ]
  }
 ],
 "metadata": {
  "kernelspec": {
   "display_name": "base",
   "language": "python",
   "name": "python3"
  },
  "language_info": {
   "codemirror_mode": {
    "name": "ipython",
    "version": 3
   },
   "file_extension": ".py",
   "mimetype": "text/x-python",
   "name": "python",
   "nbconvert_exporter": "python",
   "pygments_lexer": "ipython3",
   "version": "3.11.4"
  }
 },
 "nbformat": 4,
 "nbformat_minor": 5
}
