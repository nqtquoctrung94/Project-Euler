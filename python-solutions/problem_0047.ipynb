{
 "cells": [
  {
   "cell_type": "markdown",
   "id": "1e9423e8",
   "metadata": {},
   "source": [
    "# [Question 47](https://projecteuler.net/problem=47)"
   ]
  },
  {
   "cell_type": "markdown",
   "id": "0c7cf7f8",
   "metadata": {},
   "source": [
    "## Distinct Primes Factors\n",
    "The first two consecutive numbers to have two distinct prime factors are:<br>\n",
    "\\begin{align}\n",
    "14 &= 2 \\times 7\\\\\n",
    "15 &= 3 \\times 5.\n",
    "\\end{align}\n",
    "The first three consecutive numbers to have three distinct prime factors are:<br>\n",
    "\\begin{align}\n",
    "644 &= 2^2 \\times 7 \\times 23\\\\\n",
    "645 &= 3 \\times 5 \\times 43\\\\\n",
    "646 &= 2 \\times 17 \\times 19.\n",
    "\\end{align}\n",
    "Find the first four consecutive integers to have four distinct prime factors each. What is the first of these numbers?<br>\n"
   ]
  },
  {
   "cell_type": "markdown",
   "id": "4d515871",
   "metadata": {},
   "source": [
    "# Solution"
   ]
  },
  {
   "cell_type": "code",
   "execution_count": 3,
   "id": "fc8792a3",
   "metadata": {},
   "outputs": [],
   "source": [
    "from snippet.euler_lib import sieve_of_eratosthenes"
   ]
  },
  {
   "cell_type": "code",
   "execution_count": 77,
   "id": "bb877bbb",
   "metadata": {},
   "outputs": [],
   "source": [
    "def is_four_prime_factor(n: int, primes: list, checker: dict) -> bool:\n",
    "    # If already checked, return result\n",
    "    if checker.get(n):\n",
    "        return len(checker[n]) == 4\n",
    "\n",
    "    number = n\n",
    "    unique_divisors = set([])\n",
    "    for prime in primes:\n",
    "        if prime > number:\n",
    "            break\n",
    "\n",
    "        while number % prime == 0:\n",
    "            if checker.get(number):\n",
    "                unique_divisors.update(checker[number])\n",
    "                break\n",
    "            number = number//prime\n",
    "            unique_divisors.add(prime)\n",
    "\n",
    "    # Check result, update dict, return\n",
    "    checker[n] = unique_divisors\n",
    "    return len(unique_divisors) == 4"
   ]
  },
  {
   "cell_type": "code",
   "execution_count": 78,
   "id": "a79ad801",
   "metadata": {},
   "outputs": [],
   "source": [
    "def solution():\n",
    "\tprimes = sieve_of_eratosthenes(10000)\n",
    "\tchecker = {\n",
    "\t\t#number: set of primes\n",
    "\t}    \n",
    "\t\n",
    "\t# Start with smallest number made of product of 4 primes 2*3*5*7 = 210\n",
    "\tnumber = 210\n",
    "\twhile True:\n",
    "\t\tif all(is_four_prime_factor(i, primes, checker) for i in range(number, number + 4)):\n",
    "\t\t\treturn number\n",
    "\t\tnumber += 1"
   ]
  },
  {
   "cell_type": "markdown",
   "id": "ad438376",
   "metadata": {},
   "source": [
    "# Run"
   ]
  },
  {
   "cell_type": "code",
   "execution_count": 79,
   "id": "21743da8",
   "metadata": {},
   "outputs": [
    {
     "name": "stdout",
     "output_type": "stream",
     "text": [
      "CPU times: total: 21.6 s\n",
      "Wall time: 23.6 s\n"
     ]
    },
    {
     "data": {
      "text/plain": [
       "134043"
      ]
     },
     "execution_count": 79,
     "metadata": {},
     "output_type": "execute_result"
    }
   ],
   "source": []
  }
 ],
 "metadata": {
  "kernelspec": {
   "display_name": "base",
   "language": "python",
   "name": "python3"
  },
  "language_info": {
   "codemirror_mode": {
    "name": "ipython",
    "version": 3
   },
   "file_extension": ".py",
   "mimetype": "text/x-python",
   "name": "python",
   "nbconvert_exporter": "python",
   "pygments_lexer": "ipython3",
   "version": "3.10.9"
  }
 },
 "nbformat": 4,
 "nbformat_minor": 5
}
