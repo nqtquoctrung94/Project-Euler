{
 "cells": [
  {
   "cell_type": "markdown",
   "id": "dc471f9f",
   "metadata": {},
   "source": [
    "# [Question 73](https://projecteuler.net/problem=73)"
   ]
  },
  {
   "cell_type": "markdown",
   "id": "c81476f1",
   "metadata": {},
   "source": [
    "## Counting Fractions in a Range\n",
    "Consider the fraction, $\\dfrac n d$, where $n$ and $d$ are positive integers. If $n \\lt d$ and $\\operatorname{HCF}(n, d)=1$, it is called a reduced proper fraction.<br>\n",
    "If we list the set of reduced proper fractions for $d \\le 8$ in ascending order of size, we get:<br>\n",
    "$$\\frac 1 8, \\frac 1 7, \\frac 1 6, \\frac 1 5, \\frac 1 4, \\frac 2 7, \\frac 1 3, \\mathbf{\\frac 3 8, \\frac 2 5, \\frac 3 7}, \\frac 1 2, \\frac 4 7, \\frac 3 5, \\frac 5 8, \\frac 2 3, \\frac 5 7, \\frac 3 4, \\frac 4 5, \\frac 5 6, \\frac 6 7, \\frac 7 8$$\n",
    "\n",
    "It can be seen that there are $3$ fractions between $\\dfrac 1 3$ and $\\dfrac 1 2$.<br>\n",
    "How many fractions lie between $\\dfrac 1 3$ and $\\dfrac 1 2$ in the sorted set of reduced proper fractions for $d \\le 12\\,000$?<br>\n"
   ]
  },
  {
   "cell_type": "markdown",
   "id": "b8740239",
   "metadata": {},
   "source": [
    "# Solution"
   ]
  },
  {
   "cell_type": "code",
   "execution_count": 1,
   "id": "7590b2b6",
   "metadata": {},
   "outputs": [],
   "source": [
    "def solution():\n",
    "    # Use the idea of Farey's sequence\n",
    "    n = 12000\n",
    "    a, b = 0, 1\n",
    "    c, d = 1, n\n",
    "    counter = 0\n",
    "    while c <= n:\n",
    "        k = (n + b) // d\n",
    "        a, b, c, d = c, d, k*c-a, k*d-b\n",
    "\n",
    "        if 1/3 < a/b:\n",
    "            if a/b >= 1/2:\n",
    "                break\n",
    "            counter += 1\n",
    "\n",
    "    return counter"
   ]
  },
  {
   "cell_type": "markdown",
   "id": "b3dd83d7",
   "metadata": {},
   "source": [
    "# Run"
   ]
  },
  {
   "cell_type": "code",
   "execution_count": 2,
   "id": "3a4b520a",
   "metadata": {},
   "outputs": [
    {
     "name": "stdout",
     "output_type": "stream",
     "text": [
      "CPU times: total: 3.47 s\n",
      "Wall time: 5.1 s\n"
     ]
    },
    {
     "data": {
      "text/plain": [
       "7295372"
      ]
     },
     "execution_count": 2,
     "metadata": {},
     "output_type": "execute_result"
    }
   ],
   "source": [
    "%%time\n",
    "solution()"
   ]
  }
 ],
 "metadata": {
  "kernelspec": {
   "display_name": "Python 3",
   "language": "python",
   "name": "python3"
  },
  "language_info": {
   "codemirror_mode": {
    "name": "ipython",
    "version": 3
   },
   "file_extension": ".py",
   "mimetype": "text/x-python",
   "name": "python",
   "nbconvert_exporter": "python",
   "pygments_lexer": "ipython3",
   "version": "3.11.4"
  }
 },
 "nbformat": 4,
 "nbformat_minor": 5
}
