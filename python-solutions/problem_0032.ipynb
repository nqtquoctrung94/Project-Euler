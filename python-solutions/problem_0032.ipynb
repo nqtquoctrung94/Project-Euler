{
 "cells": [
  {
   "cell_type": "markdown",
   "id": "8ac04594",
   "metadata": {},
   "source": [
    "# [Question 32](https://projecteuler.net/problem=32)"
   ]
  },
  {
   "cell_type": "markdown",
   "id": "4bc3fd31",
   "metadata": {},
   "source": [
    "## Pandigital Products\n",
    "We shall say that an $n$-digit number is pandigital if it makes use of all the digits $1$ to $n$ exactly once; for example, the $5$-digit number, $15234$, is $1$ through $5$ pandigital.<br>\n",
    "The product $7254$ is unusual, as the identity, $39 \\times 186 = 7254$, containing multiplicand, multiplier, and product is $1$ through $9$ pandigital.<br>\n",
    "Find the sum of all products whose multiplicand/multiplier/product identity can be written as a $1$ through $9$ pandigital.<br>\n",
    "HINT: Some products can be obtained in more than one way so be sure to only include it once in your sum.<br>\n"
   ]
  },
  {
   "cell_type": "markdown",
   "id": "bae8cb6c",
   "metadata": {},
   "source": [
    "# Solution"
   ]
  },
  {
   "cell_type": "code",
   "execution_count": 20,
   "id": "8316ed29",
   "metadata": {},
   "outputs": [],
   "source": [
    "def is_pandigital(num_string: str) -> bool:\n",
    "    target_list = [1,2,3,4,5,6,7,8,9]\n",
    "    digit_list = [digit for digit in num_string]\n",
    "    if '0' in digit_list:\n",
    "        return False\n",
    "    digit_list.sort()\n",
    "    return [int(digit) for digit in digit_list] == target_list"
   ]
  },
  {
   "cell_type": "code",
   "execution_count": 21,
   "id": "7725bdac",
   "metadata": {},
   "outputs": [],
   "source": [
    "def solution():\n",
    "\tunique_product = set([])\n",
    "\tlimit = 10**6\n",
    "\tfor a in range(limit):\n",
    "\t\tfor b in range(a, limit):\n",
    "\t\t\tc = a*b\n",
    "\t\t\tconcat_string = str(a) + str(b) + str(c)\n",
    "\t\t\tif len(concat_string) > 9:\n",
    "\t\t\t\tbreak\n",
    "\t\t\tif len(concat_string) == 9:\n",
    "\t\t\t\tif is_pandigital(concat_string):\n",
    "\t\t\t\t\t# print(f\"{a} x {b} = {c}\")\n",
    "\t\t\t\t\tunique_product.add(c)\n",
    "\treturn sum(unique_product)"
   ]
  },
  {
   "cell_type": "markdown",
   "id": "1a2eb1b8",
   "metadata": {},
   "source": [
    "# Run"
   ]
  },
  {
   "cell_type": "code",
   "execution_count": 22,
   "id": "99ed1a22",
   "metadata": {},
   "outputs": [
    {
     "name": "stdout",
     "output_type": "stream",
     "text": [
      "CPU times: total: 516 ms\n",
      "Wall time: 852 ms\n"
     ]
    },
    {
     "data": {
      "text/plain": [
       "45228"
      ]
     },
     "execution_count": 22,
     "metadata": {},
     "output_type": "execute_result"
    }
   ],
   "source": [
    "%%time\n",
    "solution()"
   ]
  }
 ],
 "metadata": {
  "kernelspec": {
   "display_name": "Python 3",
   "language": "python",
   "name": "python3"
  },
  "language_info": {
   "codemirror_mode": {
    "name": "ipython",
    "version": 3
   },
   "file_extension": ".py",
   "mimetype": "text/x-python",
   "name": "python",
   "nbconvert_exporter": "python",
   "pygments_lexer": "ipython3",
   "version": "3.11.4"
  }
 },
 "nbformat": 4,
 "nbformat_minor": 5
}
