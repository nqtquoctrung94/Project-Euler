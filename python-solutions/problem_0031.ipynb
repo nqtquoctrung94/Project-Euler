{
 "cells": [
  {
   "cell_type": "markdown",
   "id": "67e52751",
   "metadata": {},
   "source": [
    "# [Question 31](https://projecteuler.net/problem=31)"
   ]
  },
  {
   "cell_type": "markdown",
   "id": "58a6d7ee",
   "metadata": {},
   "source": [
    "## Coin Sums\n",
    "In the United Kingdom the currency is made up of pound (£) and pence (p). There are eight coins in general circulation:<br>\n",
    "1p, 2p, 5p, 10p, 20p, 50p, £1 (100p), and £2 (200p).<br>\n",
    "It is possible to make £2 in the following way:<br>\n",
    "1×£1 + 1×50p + 2×20p + 1×5p + 1×2p + 3×1p<br>\n",
    "How many different ways can £2 be made using any number of coins?<br>\n"
   ]
  },
  {
   "cell_type": "markdown",
   "id": "63f34482",
   "metadata": {},
   "source": [
    "# Solution"
   ]
  },
  {
   "cell_type": "markdown",
   "id": "861d09ef",
   "metadata": {},
   "source": [
    "## Solution 1 - Brute force"
   ]
  },
  {
   "cell_type": "code",
   "execution_count": 45,
   "id": "22667957",
   "metadata": {},
   "outputs": [],
   "source": [
    "def solution1():\n",
    "\tcounter = 0\n",
    "\tfor pound2 in range(1 + 200//200):\n",
    "\t\tfor pound1 in range(1 + 200//100):\n",
    "\t\t\tfor pence50 in range(1 + 200//50):\n",
    "\t\t\t\tfor pence20 in range(1 + 200//20):\n",
    "\t\t\t\t\tfor pence10 in range(1 + 200//10):\n",
    "\t\t\t\t\t\tfor pence5 in range(1 + 200//5):\n",
    "\t\t\t\t\t\t\tfor pence2 in range(1 + 200//2):\n",
    "\t\t\t\t\t\t\t\tfor pence1 in range(1 + 200//1):\n",
    "\t\t\t\t\t\t\t\t\tamount_sum = pound2*200 + pound1*100 + pence50*50 + pence20*20 + pence10*10 + pence5*5 + pence2*2 + pence1*1\n",
    "\t\t\t\t\t\t\t\t\tif amount_sum > 200:\n",
    "\t\t\t\t\t\t\t\t\t\tbreak\n",
    "\t\t\t\t\t\t\t\t\tif amount_sum == 200:\n",
    "\t\t\t\t\t\t\t\t\t\t# print(f\"{pound2}*200 + {pound1}*100 + {pence50}*50 + {pence20}*20 + {pence10}*10 + {pence5}*5 + {pence2}*2 + {pence1}*1 = 200\")\n",
    "\t\t\t\t\t\t\t\t\t\tcounter += 1\n",
    "\treturn counter"
   ]
  },
  {
   "cell_type": "markdown",
   "id": "49716d17",
   "metadata": {},
   "source": [
    "## Solution 2 - Dynamic programming"
   ]
  },
  {
   "cell_type": "code",
   "execution_count": 46,
   "id": "92a2dd5e",
   "metadata": {},
   "outputs": [],
   "source": [
    "def count_coin_combinations(coins:list, target_sum:int) -> int:\n",
    "    combinations = [0]*(target_sum+1)\n",
    "    combinations[0] = 1\n",
    "\n",
    "    for coin in coins:\n",
    "        for amount in range(coin, target_sum+1):\n",
    "            combinations[amount] += combinations[amount - coin] \n",
    "            # print(f\"coin={coin}, amount={amount}, combinations={combinations}\")\n",
    "    return combinations[target_sum]\n",
    "\n",
    "def solution2():\n",
    "    coins = [1, 2, 5, 10, 20, 50, 100, 200]\n",
    "    target_sum = 200\n",
    "    return count_coin_combinations(coins, target_sum)"
   ]
  },
  {
   "cell_type": "markdown",
   "id": "88f11ab6",
   "metadata": {},
   "source": [
    "# Run"
   ]
  },
  {
   "cell_type": "code",
   "execution_count": 47,
   "id": "c951c509",
   "metadata": {},
   "outputs": [
    {
     "name": "stdout",
     "output_type": "stream",
     "text": [
      "CPU times: total: 6.12 s\n",
      "Wall time: 7.73 s\n"
     ]
    },
    {
     "data": {
      "text/plain": [
       "73682"
      ]
     },
     "execution_count": 47,
     "metadata": {},
     "output_type": "execute_result"
    }
   ],
   "source": [
    "%%time\n",
    "solution1()"
   ]
  },
  {
   "cell_type": "code",
   "execution_count": 48,
   "id": "258b37a8",
   "metadata": {},
   "outputs": [
    {
     "name": "stdout",
     "output_type": "stream",
     "text": [
      "CPU times: total: 0 ns\n",
      "Wall time: 0 ns\n"
     ]
    },
    {
     "data": {
      "text/plain": [
       "73682"
      ]
     },
     "execution_count": 48,
     "metadata": {},
     "output_type": "execute_result"
    }
   ],
   "source": [
    "%%time\n",
    "solution2()"
   ]
  }
 ],
 "metadata": {
  "kernelspec": {
   "display_name": "Python 3",
   "language": "python",
   "name": "python3"
  },
  "language_info": {
   "codemirror_mode": {
    "name": "ipython",
    "version": 3
   },
   "file_extension": ".py",
   "mimetype": "text/x-python",
   "name": "python",
   "nbconvert_exporter": "python",
   "pygments_lexer": "ipython3",
   "version": "3.11.4"
  }
 },
 "nbformat": 4,
 "nbformat_minor": 5
}
