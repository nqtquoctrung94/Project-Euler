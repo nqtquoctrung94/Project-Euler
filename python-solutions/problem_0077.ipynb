{
 "cells": [
  {
   "cell_type": "markdown",
   "id": "cbc91628",
   "metadata": {},
   "source": [
    "# [Question 77](https://projecteuler.net/problem=77)"
   ]
  },
  {
   "cell_type": "markdown",
   "id": "ff27a0b8",
   "metadata": {},
   "source": [
    "## Prime Summations\n",
    "It is possible to write ten as the sum of primes in exactly five different ways:<br>\n",
    "\\begin{align}\n",
    "&7 + 3\\\\\n",
    "&5 + 5\\\\\n",
    "&5 + 3 + 2\\\\\n",
    "&3 + 3 + 2 + 2\\\\\n",
    "&2 + 2 + 2 + 2 + 2\n",
    "\\end{align}\n",
    "What is the first value which can be written as the sum of primes in over five thousand different ways?<br>\n"
   ]
  },
  {
   "cell_type": "markdown",
   "id": "a7d95c80",
   "metadata": {},
   "source": [
    "# Solution"
   ]
  },
  {
   "cell_type": "code",
   "execution_count": null,
   "id": "ff872e9c",
   "metadata": {},
   "outputs": [],
   "source": [
    "def solution():\n",
    "    pass"
   ]
  },
  {
   "cell_type": "markdown",
   "id": "43f10afc",
   "metadata": {},
   "source": [
    "# Run"
   ]
  },
  {
   "cell_type": "code",
   "execution_count": null,
   "id": "7a6f7e18",
   "metadata": {},
   "outputs": [],
   "source": [
    "%%time\n",
    "solution()"
   ]
  }
 ],
 "metadata": {
  "language_info": {
   "name": "python"
  }
 },
 "nbformat": 4,
 "nbformat_minor": 5
}
