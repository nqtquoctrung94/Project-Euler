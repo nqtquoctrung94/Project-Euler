{
 "cells": [
  {
   "attachments": {},
   "cell_type": "markdown",
   "id": "3c75baa6",
   "metadata": {},
   "source": [
    "# [Question 7](https://projecteuler.net/problem=7)"
   ]
  },
  {
   "attachments": {},
   "cell_type": "markdown",
   "id": "4dd8c357",
   "metadata": {},
   "source": [
    "By listing the first six prime numbers: $2, 3, 5, 7, 11$, and $13$, we can see that the $6th$ prime is $13$.<br>\n",
    "What is the $10\\,001st$ prime number?<br>\n"
   ]
  },
  {
   "attachments": {},
   "cell_type": "markdown",
   "id": "bd13ae24",
   "metadata": {},
   "source": [
    "# Solution"
   ]
  },
  {
   "cell_type": "code",
   "execution_count": 12,
   "id": "b74fb4d6",
   "metadata": {},
   "outputs": [],
   "source": [
    "from euler_lib import is_prime\n",
    "\n",
    "def solution():\n",
    "\t'''This function loop for n = 6k + 5\n",
    "\tThen check if:\n",
    "\t\t- 6k+5 = 6k-1 is prime\n",
    "\t\t- 6k+5+2 = 6k+1 is prime\n",
    "\tBecause prime > 3 only has form 6k+-1\n",
    "\tRef: https://en.wikipedia.org/wiki/Primality_test#Python\t\n",
    "\t'''\n",
    "\tcounter = 2\n",
    "\tn = 5\n",
    "\n",
    "\twhile True:\n",
    "\t\tcounter += is_prime(n)\n",
    "\t\tif counter > 10000: return n\n",
    "\t\t\n",
    "\t\tcounter += is_prime(n+2)\n",
    "\t\tif counter > 10000: return n+2\n",
    "\n",
    "\t\tn += 6\n"
   ]
  },
  {
   "attachments": {},
   "cell_type": "markdown",
   "id": "beb20c46",
   "metadata": {},
   "source": [
    "# Run"
   ]
  },
  {
   "cell_type": "code",
   "execution_count": 13,
   "id": "555d7d1c",
   "metadata": {},
   "outputs": [
    {
     "name": "stdout",
     "output_type": "stream",
     "text": [
      "CPU times: total: 31.2 ms\n",
      "Wall time: 41.6 ms\n"
     ]
    },
    {
     "data": {
      "text/plain": [
       "104743"
      ]
     },
     "execution_count": 13,
     "metadata": {},
     "output_type": "execute_result"
    }
   ],
   "source": [
    "%%time\n",
    "solution()"
   ]
  }
 ],
 "metadata": {
  "kernelspec": {
   "display_name": "Python 3",
   "language": "python",
   "name": "python3"
  },
  "language_info": {
   "codemirror_mode": {
    "name": "ipython",
    "version": 3
   },
   "file_extension": ".py",
   "mimetype": "text/x-python",
   "name": "python",
   "nbconvert_exporter": "python",
   "pygments_lexer": "ipython3",
   "version": "3.11.4"
  }
 },
 "nbformat": 4,
 "nbformat_minor": 5
}
