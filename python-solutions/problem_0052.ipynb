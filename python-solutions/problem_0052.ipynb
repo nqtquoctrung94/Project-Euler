{
 "cells": [
  {
   "cell_type": "markdown",
   "id": "2f6748ce",
   "metadata": {},
   "source": [
    "# [Question 52](https://projecteuler.net/problem=52)"
   ]
  },
  {
   "cell_type": "markdown",
   "id": "2522ccca",
   "metadata": {},
   "source": [
    "## Permuted Multiples\n",
    "It can be seen that the number, $125874$, and its double, $251748$, contain exactly the same digits, but in a different order.<br>\n",
    "Find the smallest positive integer, $x$, such that $2x$, $3x$, $4x$, $5x$, and $6x$, contain the same digits.<br>\n"
   ]
  },
  {
   "cell_type": "markdown",
   "id": "8f260a71",
   "metadata": {},
   "source": [
    "# Solution"
   ]
  },
  {
   "cell_type": "code",
   "execution_count": 4,
   "id": "b83ce526",
   "metadata": {},
   "outputs": [],
   "source": [
    "def count_digit(number: int) -> dict:\n",
    "    digit_count = {}\n",
    "    for digit in str(number):\n",
    "        digit_count[digit] = digit_count.get(digit, 0) + 1\n",
    "    return digit_count"
   ]
  },
  {
   "cell_type": "code",
   "execution_count": 5,
   "id": "60246611",
   "metadata": {},
   "outputs": [],
   "source": [
    "def is_permuted_multiples(number: int) -> bool:\n",
    "    number_digits = count_digit(number)\n",
    "    for multipler in range(2,7):\n",
    "        if number_digits != count_digit(multipler*number):\n",
    "            return False\n",
    "    return True"
   ]
  },
  {
   "cell_type": "code",
   "execution_count": 6,
   "id": "0e74bb06",
   "metadata": {},
   "outputs": [],
   "source": [
    "def solution():\n",
    "\tnumber = 1\n",
    "\twhile True:\n",
    "\t\tif is_permuted_multiples(number):\n",
    "\t\t\treturn number\n",
    "\t\tnumber += 1"
   ]
  },
  {
   "cell_type": "markdown",
   "id": "384d6a7b",
   "metadata": {},
   "source": [
    "# Run"
   ]
  },
  {
   "cell_type": "code",
   "execution_count": 7,
   "id": "37c6ded9",
   "metadata": {},
   "outputs": [
    {
     "name": "stdout",
     "output_type": "stream",
     "text": [
      "CPU times: total: 797 ms\n",
      "Wall time: 1.07 s\n"
     ]
    },
    {
     "data": {
      "text/plain": [
       "142857"
      ]
     },
     "execution_count": 7,
     "metadata": {},
     "output_type": "execute_result"
    }
   ],
   "source": [
    "%%time\n",
    "solution()"
   ]
  }
 ],
 "metadata": {
  "kernelspec": {
   "display_name": "base",
   "language": "python",
   "name": "python3"
  },
  "language_info": {
   "codemirror_mode": {
    "name": "ipython",
    "version": 3
   },
   "file_extension": ".py",
   "mimetype": "text/x-python",
   "name": "python",
   "nbconvert_exporter": "python",
   "pygments_lexer": "ipython3",
   "version": "3.10.9"
  }
 },
 "nbformat": 4,
 "nbformat_minor": 5
}
