{
 "cells": [
  {
   "cell_type": "markdown",
   "id": "82d4ccac",
   "metadata": {},
   "source": [
    "# [Question 75](https://projecteuler.net/problem=75)"
   ]
  },
  {
   "cell_type": "markdown",
   "id": "028a0994",
   "metadata": {},
   "source": [
    "## Singular Integer Right Triangles\n",
    "\n",
    "It turns out that ${12 cm}$ is the smallest length of wire that can be bent to form an integer sided right angle triangle in exactly one way, but there are many more examples.<br>\n",
    "\n",
    "${\\mathbf{12} \\mathbf{cm}}$: $(3,4,5)$\n",
    "\n",
    "${\\mathbf{24} \\mathbf{cm}}$: $(6,8,10)$\n",
    "\n",
    "${\\mathbf{30} \\mathbf{cm}}$: $(5,12,13)$\n",
    "\n",
    "${\\mathbf{36} \\mathbf{cm}}$: $(9,12,15)$\n",
    "\n",
    "${\\mathbf{40} \\mathbf{cm}}$: $(8,15,17)$\n",
    "\n",
    "${\\mathbf{48} \\mathbf{cm}}$: $(12,16,20)$\n",
    "\n",
    "In contrast, some lengths of wire, like ${20 cm}$, cannot be bent to form an integer sided right angle triangle, and other lengths allow more than one solution to be found; for example, using ${120 cm}$ it is possible to form exactly three different integer sided right angle triangles.<br>\n",
    "<br>\n",
    "${\\mathbf{120} \\mathbf{cm}}$: $(30,40,50)$, $(20,48,52)$, $(24,45,51)$\n",
    "\n",
    "Given that $L$ is the length of the wire, for how many values of $L \\le 1\\,500\\,000$ can exactly one integer sided right angle triangle be formed?<br>\n"
   ]
  },
  {
   "cell_type": "markdown",
   "id": "28c1e269",
   "metadata": {},
   "source": [
    "# Solution"
   ]
  },
  {
   "cell_type": "markdown",
   "id": "d5e9d3c5",
   "metadata": {},
   "source": [
    "Reference: https://en.wikipedia.org/wiki/Formulas_for_generating_Pythagorean_triples#Dickson's_method\n",
    "\n",
    "To find interger x, y, z solutions for \n",
    "$$x^2 + y^2 = z^2$$\n",
    "\n",
    "We look for r, s, t such that $r^2 = 2st$ is a perfect square\n",
    "\n",
    "Then: \n",
    "$$\\begin{align}\n",
    "x &= r + s \\\\\n",
    "y &= r + t \\\\\n",
    "z &= r + s + t\n",
    "\\end{align}$$\n",
    "\n",
    "So:\n",
    "$$\\begin{align}\n",
    "L &= x + y + z \\\\ \n",
    "&= (r + s) + (r + t) + (r + s + t) \\\\\n",
    "&= 3r + 2s + 2t\n",
    "\\end{align}$$\n"
   ]
  },
  {
   "cell_type": "markdown",
   "id": "9bc1442f",
   "metadata": {},
   "source": [
    "$s + t >= 2\\sqrt{st} = \\sqrt{4st} = \\sqrt{2r^2} = r\\sqrt{2}$\n",
    "\n",
    "$=> L = 3r + 2s + 2t = 3r + 2(s + t) >= 3r + 2r\\sqrt{2} > 5r$\n",
    "\n",
    "$=> 5r < L <= 1500000 $\n",
    "\n",
    "$=> r < 300000$"
   ]
  },
  {
   "cell_type": "code",
   "execution_count": 1,
   "id": "101c6e1c",
   "metadata": {},
   "outputs": [],
   "source": [
    "def get_rst_pairs(r):\n",
    "    results = set()\n",
    "    st = r*r//2\n",
    "    for s in range(1, int(st**0.5)+1):\n",
    "        if st % s == 0:\n",
    "            t = st // s\n",
    "            results.add( (r, s, t) )\n",
    "    return results"
   ]
  },
  {
   "cell_type": "code",
   "execution_count": 2,
   "id": "503004c8",
   "metadata": {},
   "outputs": [],
   "source": [
    "def solution():\n",
    "    limit = 1_500_000\n",
    "    r_limit = limit // 5  #limit for L\n",
    "    recorded_len = set()\n",
    "    dup_len = set()\n",
    "    for r in range(2, r_limit, 2):  # r must be even because of r^2 = 2st\n",
    "        for _,s,t in get_rst_pairs(r):\n",
    "            l = 3*r + 2*(s + t)\n",
    "            if l > limit:\n",
    "                continue\n",
    "            if l in recorded_len:\n",
    "                dup_len.add(l)\n",
    "            else:\n",
    "                recorded_len.add(l)\n",
    "\n",
    "        if r % 100_000 == 0:\n",
    "            print(f\"Done check r={r}\")\n",
    "    return sum([1 for l in recorded_len if l not in dup_len])"
   ]
  },
  {
   "cell_type": "markdown",
   "id": "816fa321",
   "metadata": {},
   "source": [
    "# Run"
   ]
  },
  {
   "cell_type": "code",
   "execution_count": 3,
   "id": "7b63714c",
   "metadata": {},
   "outputs": [
    {
     "name": "stdout",
     "output_type": "stream",
     "text": [
      "Done check r=100000\n",
      "Done check r=200000\n",
      "CPU times: total: 6min 28s\n",
      "Wall time: 10min 55s\n"
     ]
    },
    {
     "data": {
      "text/plain": [
       "161667"
      ]
     },
     "execution_count": 3,
     "metadata": {},
     "output_type": "execute_result"
    }
   ],
   "source": [
    "%%time\n",
    "solution()"
   ]
  }
 ],
 "metadata": {
  "kernelspec": {
   "display_name": "base",
   "language": "python",
   "name": "python3"
  },
  "language_info": {
   "codemirror_mode": {
    "name": "ipython",
    "version": 3
   },
   "file_extension": ".py",
   "mimetype": "text/x-python",
   "name": "python",
   "nbconvert_exporter": "python",
   "pygments_lexer": "ipython3",
   "version": "3.11.5"
  }
 },
 "nbformat": 4,
 "nbformat_minor": 5
}
