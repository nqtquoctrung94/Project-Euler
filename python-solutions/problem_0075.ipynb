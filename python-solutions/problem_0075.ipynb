{
 "cells": [
  {
   "cell_type": "markdown",
   "id": "82d4ccac",
   "metadata": {},
   "source": [
    "# [Question 75](https://projecteuler.net/problem=75)"
   ]
  },
  {
   "cell_type": "markdown",
   "id": "028a0994",
   "metadata": {},
   "source": [
    "## Singular Integer Right Triangles\n",
    "\n",
    "It turns out that ${12 cm}$ is the smallest length of wire that can be bent to form an integer sided right angle triangle in exactly one way, but there are many more examples.<br>\n",
    "\n",
    "${\\mathbf{12} \\mathbf{cm}}$: $(3,4,5)$\n",
    "\n",
    "${\\mathbf{24} \\mathbf{cm}}$: $(6,8,10)$\n",
    "\n",
    "${\\mathbf{30} \\mathbf{cm}}$: $(5,12,13)$\n",
    "\n",
    "${\\mathbf{36} \\mathbf{cm}}$: $(9,12,15)$\n",
    "\n",
    "${\\mathbf{40} \\mathbf{cm}}$: $(8,15,17)$\n",
    "\n",
    "${\\mathbf{48} \\mathbf{cm}}$: $(12,16,20)$\n",
    "\n",
    "In contrast, some lengths of wire, like ${20 cm}$, cannot be bent to form an integer sided right angle triangle, and other lengths allow more than one solution to be found; for example, using ${120 cm}$ it is possible to form exactly three different integer sided right angle triangles.<br>\n",
    "<br>\n",
    "${\\mathbf{120} \\mathbf{cm}}$: $(30,40,50)$, $(20,48,52)$, $(24,45,51)$\n",
    "\n",
    "Given that $L$ is the length of the wire, for how many values of $L \\le 1\\,500\\,000$ can exactly one integer sided right angle triangle be formed?<br>\n"
   ]
  },
  {
   "cell_type": "markdown",
   "id": "28c1e269",
   "metadata": {},
   "source": [
    "# Solution"
   ]
  },
  {
   "cell_type": "markdown",
   "id": "d5e9d3c5",
   "metadata": {},
   "source": [
    "Reference: https://en.wikipedia.org/wiki/Formulas_for_generating_Pythagorean_triples#Dickson's_method\n",
    "\n",
    "To find interger x, y, z solutions for \n",
    "$$x^2 + y^2 = z^2$$\n",
    "\n",
    "We look for r, s, t such that $r^2 = 2st$ is a perfect square\n",
    "\n",
    "Then: \n",
    "$$\\begin{align}\n",
    "x &= r + s \\\\\n",
    "y &= r + t \\\\\n",
    "z &= r + s + t\n",
    "\\end{align}$$\n",
    "\n",
    "So:\n",
    "$$\\begin{align}\n",
    "L &= x + y + z \\\\ \n",
    "&= (r + s) + (r + t) + (r + s + t) \\\\\n",
    "&= 3r + 2s + 2t\n",
    "\\end{align}$$\n"
   ]
  },
  {
   "cell_type": "markdown",
   "id": "9bc1442f",
   "metadata": {},
   "source": [
    "$s + t >= 2\\sqrt{st} = \\sqrt{4st} = \\sqrt{2r^2} = r\\sqrt{2}$\n",
    "\n",
    "$=> L = 3r + 2s + 2t = 3r + 2(s + t) >= 3r + 2r\\sqrt{2} > 5r$\n",
    "\n",
    "$=> 5r < L <= 1500000 $\n",
    "\n",
    "$=> r < 300000$"
   ]
  },
  {
   "cell_type": "code",
   "execution_count": 30,
   "id": "101c6e1c",
   "metadata": {},
   "outputs": [],
   "source": [
    "def get_rst_pairs(r):\n",
    "    results = set()\n",
    "    st = r*r//2\n",
    "    for s in range(1, int(st**0.5)+1):\n",
    "        if st % s == 0:\n",
    "            t = st // s\n",
    "            results.add( (r, s, t) )\n",
    "    return results"
   ]
  },
  {
   "cell_type": "code",
   "execution_count": 31,
   "id": "503004c8",
   "metadata": {},
   "outputs": [],
   "source": [
    "def solution():\n",
    "    limit = 1_500_000\n",
    "    r_limit = limit // 5  #limit for L\n",
    "    recorded_len = set()\n",
    "    dup_len = set()\n",
    "    for r in range(2, r_limit, 2):  # r must be even because of r^2 = 2st\n",
    "        for _,s,t in get_rst_pairs(r):\n",
    "            l = 3*r + 2*(s + t)\n",
    "            if l > limit:\n",
    "                continue\n",
    "            if l in recorded_len:\n",
    "                dup_len.add(l)\n",
    "            else:\n",
    "                recorded_len.add(l)\n",
    "\n",
    "        if r % 100_000 == 0:\n",
    "            print(f\"Done check r={r}\")\n",
    "    return sum([1 for l in recorded_len if l not in dup_len])"
   ]
  },
  {
   "cell_type": "markdown",
   "id": "816fa321",
   "metadata": {},
   "source": [
    "# Run"
   ]
  },
  {
   "cell_type": "code",
   "execution_count": 32,
   "id": "7b63714c",
   "metadata": {},
   "outputs": [
    {
     "name": "stdout",
     "output_type": "stream",
     "text": [
      "Unexpected exception formatting exception. Falling back to standard exception\n"
     ]
    },
    {
     "name": "stderr",
     "output_type": "stream",
     "text": [
      "Traceback (most recent call last):\n",
      "  File \"c:\\Users\\quoct\\anaconda3\\lib\\site-packages\\IPython\\core\\magics\\execution.py\", line 1310, in time\n",
      "    out = eval(code, glob, local_ns)\n",
      "  File \"<timed eval>\", line 1, in <module>\n",
      "  File \"C:\\Users\\quoct\\AppData\\Local\\Temp\\ipykernel_17280\\1528837659.py\", line 7, in solution\n",
      "    for _,s,t in get_rst_pairs(r):\n",
      "  File \"C:\\Users\\quoct\\AppData\\Local\\Temp\\ipykernel_17280\\1834063034.py\", line -1, in get_rst_pairs\n",
      "KeyboardInterrupt\n",
      "\n",
      "During handling of the above exception, another exception occurred:\n",
      "\n",
      "Traceback (most recent call last):\n",
      "  File \"c:\\Users\\quoct\\anaconda3\\lib\\site-packages\\IPython\\core\\interactiveshell.py\", line 2057, in showtraceback\n",
      "    stb = self.InteractiveTB.structured_traceback(\n",
      "  File \"c:\\Users\\quoct\\anaconda3\\lib\\site-packages\\IPython\\core\\ultratb.py\", line 1118, in structured_traceback\n",
      "    return FormattedTB.structured_traceback(\n",
      "  File \"c:\\Users\\quoct\\anaconda3\\lib\\site-packages\\IPython\\core\\ultratb.py\", line 1012, in structured_traceback\n",
      "    return VerboseTB.structured_traceback(\n",
      "  File \"c:\\Users\\quoct\\anaconda3\\lib\\site-packages\\IPython\\core\\ultratb.py\", line 865, in structured_traceback\n",
      "    formatted_exception = self.format_exception_as_a_whole(etype, evalue, etb, number_of_lines_of_context,\n",
      "  File \"c:\\Users\\quoct\\anaconda3\\lib\\site-packages\\IPython\\core\\ultratb.py\", line 818, in format_exception_as_a_whole\n",
      "    frames.append(self.format_record(r))\n",
      "  File \"c:\\Users\\quoct\\anaconda3\\lib\\site-packages\\IPython\\core\\ultratb.py\", line 736, in format_record\n",
      "    result += ''.join(_format_traceback_lines(frame_info.lines, Colors, self.has_colors, lvals))\n",
      "  File \"c:\\Users\\quoct\\anaconda3\\lib\\site-packages\\stack_data\\utils.py\", line 145, in cached_property_wrapper\n",
      "    value = obj.__dict__[self.func.__name__] = self.func(obj)\n",
      "  File \"c:\\Users\\quoct\\anaconda3\\lib\\site-packages\\stack_data\\core.py\", line 698, in lines\n",
      "    pieces = self.included_pieces\n",
      "  File \"c:\\Users\\quoct\\anaconda3\\lib\\site-packages\\stack_data\\utils.py\", line 145, in cached_property_wrapper\n",
      "    value = obj.__dict__[self.func.__name__] = self.func(obj)\n",
      "  File \"c:\\Users\\quoct\\anaconda3\\lib\\site-packages\\stack_data\\core.py\", line 649, in included_pieces\n",
      "    pos = scope_pieces.index(self.executing_piece)\n",
      "  File \"c:\\Users\\quoct\\anaconda3\\lib\\site-packages\\stack_data\\utils.py\", line 145, in cached_property_wrapper\n",
      "    value = obj.__dict__[self.func.__name__] = self.func(obj)\n",
      "  File \"c:\\Users\\quoct\\anaconda3\\lib\\site-packages\\stack_data\\core.py\", line 628, in executing_piece\n",
      "    return only(\n",
      "  File \"c:\\Users\\quoct\\anaconda3\\lib\\site-packages\\executing\\executing.py\", line 164, in only\n",
      "    raise NotOneValueFound('Expected one value, found 0')\n",
      "executing.executing.NotOneValueFound: Expected one value, found 0\n"
     ]
    }
   ],
   "source": [
    "%%time\n",
    "solution()"
   ]
  }
 ],
 "metadata": {
  "kernelspec": {
   "display_name": "base",
   "language": "python",
   "name": "python3"
  },
  "language_info": {
   "codemirror_mode": {
    "name": "ipython",
    "version": 3
   },
   "file_extension": ".py",
   "mimetype": "text/x-python",
   "name": "python",
   "nbconvert_exporter": "python",
   "pygments_lexer": "ipython3",
   "version": "3.10.9"
  }
 },
 "nbformat": 4,
 "nbformat_minor": 5
}
