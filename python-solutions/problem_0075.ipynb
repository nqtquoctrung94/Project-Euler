{
 "cells": [
  {
   "cell_type": "markdown",
   "id": "82d4ccac",
   "metadata": {},
   "source": [
    "# [Question 75](https://projecteuler.net/problem=75)"
   ]
  },
  {
   "cell_type": "markdown",
   "id": "028a0994",
   "metadata": {},
   "source": [
    "## Singular Integer Right Triangles\n",
    "\n",
    "It turns out that ${12 cm}$ is the smallest length of wire that can be bent to form an integer sided right angle triangle in exactly one way, but there are many more examples.<br>\n",
    "\n",
    "${\\mathbf{12} \\mathbf{cm}}$: $(3,4,5)$\n",
    "\n",
    "${\\mathbf{24} \\mathbf{cm}}$: $(6,8,10)$\n",
    "\n",
    "${\\mathbf{30} \\mathbf{cm}}$: $(5,12,13)$\n",
    "\n",
    "${\\mathbf{36} \\mathbf{cm}}$: $(9,12,15)$\n",
    "\n",
    "${\\mathbf{40} \\mathbf{cm}}$: $(8,15,17)$\n",
    "\n",
    "${\\mathbf{48} \\mathbf{cm}}$: $(12,16,20)$\n",
    "\n",
    "In contrast, some lengths of wire, like ${20 cm}$, cannot be bent to form an integer sided right angle triangle, and other lengths allow more than one solution to be found; for example, using ${120 cm}$ it is possible to form exactly three different integer sided right angle triangles.<br>\n",
    "<br>\n",
    "${\\mathbf{120} \\mathbf{cm}}$: $(30,40,50)$, $(20,48,52)$, $(24,45,51)$\n",
    "\n",
    "Given that $L$ is the length of the wire, for how many values of $L \\le 1\\,500\\,000$ can exactly one integer sided right angle triangle be formed?<br>\n"
   ]
  },
  {
   "cell_type": "markdown",
   "id": "28c1e269",
   "metadata": {},
   "source": [
    "# Solution"
   ]
  },
  {
   "cell_type": "markdown",
   "metadata": {},
   "source": [
    "## Dickson's Method"
   ]
  },
  {
   "cell_type": "markdown",
   "id": "d5e9d3c5",
   "metadata": {},
   "source": [
    "Reference: https://en.wikipedia.org/wiki/Formulas_for_generating_Pythagorean_triples#Dickson's_method\n",
    "\n",
    "To find interger x, y, z solutions for \n",
    "$$x^2 + y^2 = z^2$$\n",
    "\n",
    "We look for r, s, t such that $r^2 = 2st$ is a perfect square\n",
    "\n",
    "Then: \n",
    "$$\\begin{align}\n",
    "x &= r + s \\\\\n",
    "y &= r + t \\\\\n",
    "z &= r + s + t\n",
    "\\end{align}$$\n",
    "\n",
    "So:\n",
    "$$\\begin{align}\n",
    "L &= x + y + z \\\\ \n",
    "&= (r + s) + (r + t) + (r + s + t) \\\\\n",
    "&= 3r + 2s + 2t\n",
    "\\end{align}$$\n"
   ]
  },
  {
   "cell_type": "markdown",
   "id": "9bc1442f",
   "metadata": {},
   "source": [
    "Let's set limit for value r\n",
    "\n",
    "We have:\n",
    "$$s + t \\geq 2\\sqrt{st} = \\sqrt{4st} = \\sqrt{2r^2} = r\\sqrt{2}$$\n",
    "\n",
    "Thus:\n",
    "$$\\begin{align}\n",
    "L &= 3r + 2s + 2t \\\\\n",
    "  &= 3r + 2(s + t) \\geq 3r + 2r\\sqrt{2} > 5r\n",
    "\\end{align}$$\n",
    "\n",
    "So:\n",
    "$$\\begin{align}\n",
    "5r &< L \\leq 1500000  \\\\\n",
    "r &< 300000 \\\\\n",
    "\\end{align}$$"
   ]
  },
  {
   "cell_type": "code",
   "execution_count": 1,
   "id": "101c6e1c",
   "metadata": {},
   "outputs": [],
   "source": [
    "def get_rst_pairs(r):\n",
    "    pairs = set()\n",
    "    st = r*r//2\n",
    "    for s in range(1, r+1):\n",
    "        if st % s == 0:\n",
    "            t = st // s\n",
    "            pairs.add( (s, t) )\n",
    "    return pairs"
   ]
  },
  {
   "cell_type": "code",
   "execution_count": 2,
   "id": "bf4ece7c",
   "metadata": {},
   "outputs": [],
   "source": [
    "def dickson_method(limit):\n",
    "    r_limit = limit // 5  #limit for L\n",
    "    result = {\n",
    "        # len: count\n",
    "    }\n",
    "\n",
    "    for r in range(2, r_limit+1, 2):\n",
    "        # r must be even because r^2 = 2st\n",
    "        for s,t in get_rst_pairs(r):\n",
    "            l = 3*r + 2*(s + t)\n",
    "\n",
    "            # Add result\n",
    "            if l < limit:\n",
    "                result[l] = result.get(l, 0) + 1\n",
    "    return result"
   ]
  },
  {
   "cell_type": "code",
   "execution_count": 3,
   "id": "503004c8",
   "metadata": {},
   "outputs": [],
   "source": [
    "def solution_dickson_method():\n",
    "    limit = 1_500_000\n",
    "    results = dickson_method(limit)\n",
    "    return sum(1 for v in results.values() if v == 1)"
   ]
  },
  {
   "cell_type": "markdown",
   "id": "7c40ea8b",
   "metadata": {},
   "source": [
    "## Euclid's formula"
   ]
  },
  {
   "cell_type": "markdown",
   "id": "4b03eeaf",
   "metadata": {},
   "source": [
    "Reference: https://en.wikipedia.org/wiki/Pythagorean_triple#A_variant"
   ]
  },
  {
   "cell_type": "markdown",
   "id": "fa3e857b",
   "metadata": {},
   "source": [
    "Let m > n > 0 and both are odd,\n",
    "$$\\begin{align}\n",
    "a &= mn  \\\\\n",
    "b &= \\frac{m^2  - n^2}{2} \\\\\n",
    "c &= \\frac{m^2  + n^2}{2}\n",
    "\\end{align}$$"
   ]
  },
  {
   "cell_type": "markdown",
   "id": "121f7525",
   "metadata": {},
   "source": [
    "Let's limit m and n\n",
    "\n",
    "$$\\begin{align}\n",
    "a + b + c &= mn + \\frac{m^2  - n^2}{2} + \\frac{m^2  + n^2}{2} \\\\\n",
    "&= mn  + m^2 \\\\\n",
    "&= m(m + n)\n",
    "\\end{align}$$\n",
    "\n",
    "Let m > n $\\geq$ 1:\n",
    "$$\\begin{align}\n",
    "a + b + c &= m(m + n) \\\\\n",
    "a + b + c &\\leq 1500000 \\\\ \n",
    "m(m + n) &\\geq m(m + 1)\n",
    "\\end{align}$$\n",
    "\n",
    "So we have:\n",
    "$$\\begin{align}\n",
    "&=> 1500000 \\geq m(m+1) \\\\\n",
    "&=> 1500000 \\geq m^2 + m \\\\\n",
    "&=> 1500000 + \\frac{1}{4} \\geq m^2 + m + \\frac{1}{4} \\\\\n",
    "&=> 1500000 + \\frac{1}{4} \\geq (m + \\frac{1}{2})^2 \\\\\n",
    "&=> 1224 \\geq m > n \\geq 1\\\\\n",
    "\\end{align}$$"
   ]
  },
  {
   "cell_type": "code",
   "execution_count": 4,
   "id": "f2cdac65",
   "metadata": {},
   "outputs": [],
   "source": [
    "from snippet.euler_lib import is_coprime"
   ]
  },
  {
   "cell_type": "code",
   "execution_count": 5,
   "id": "d8c16205",
   "metadata": {},
   "outputs": [],
   "source": [
    "def euclid_formula(limit, m_limit):\n",
    "    result = {\n",
    "        # len: count\n",
    "    }    \n",
    "    for m in range(3, m_limit+2, 2):\n",
    "        for n in range(1, m, 2):\n",
    "            if is_coprime(m,n):\n",
    "                l = m*(m + n)\n",
    "                k = 1\n",
    "                while k*l <= limit:\n",
    "                    result[k*l] = result.get(k*l, 0) + 1\n",
    "                    k += 1\n",
    "    return result"
   ]
  },
  {
   "cell_type": "code",
   "execution_count": 6,
   "id": "8253a01c",
   "metadata": {},
   "outputs": [],
   "source": [
    "def solution_euclid_formula():\n",
    "    limit = 1_500_000\n",
    "    m_limit = 1224\n",
    "    results = euclid_formula(limit, m_limit)\n",
    "    return sum(1 for v in results.values() if v == 1)"
   ]
  },
  {
   "cell_type": "markdown",
   "id": "816fa321",
   "metadata": {},
   "source": [
    "# Run"
   ]
  },
  {
   "cell_type": "code",
   "execution_count": 7,
   "id": "7b63714c",
   "metadata": {},
   "outputs": [
    {
     "name": "stdout",
     "output_type": "stream",
     "text": [
      "Unexpected exception formatting exception. Falling back to standard exception\n"
     ]
    },
    {
     "name": "stderr",
     "output_type": "stream",
     "text": [
      "Traceback (most recent call last):\n",
      "  File \"c:\\Users\\quoct\\anaconda3\\lib\\site-packages\\IPython\\core\\magics\\execution.py\", line 1310, in time\n",
      "    out = eval(code, glob, local_ns)\n",
      "  File \"<timed eval>\", line 1, in <module>\n",
      "  File \"C:\\Users\\quoct\\AppData\\Local\\Temp\\ipykernel_11740\\760264435.py\", line 3, in solution_dickson_method\n",
      "    results = dickson_method(limit)\n",
      "  File \"C:\\Users\\quoct\\AppData\\Local\\Temp\\ipykernel_11740\\241031911.py\", line 9, in dickson_method\n",
      "    for s,t in get_rst_pairs(r):\n",
      "  File \"C:\\Users\\quoct\\AppData\\Local\\Temp\\ipykernel_11740\\3268242793.py\", line -1, in get_rst_pairs\n",
      "KeyboardInterrupt\n",
      "\n",
      "During handling of the above exception, another exception occurred:\n",
      "\n",
      "Traceback (most recent call last):\n",
      "  File \"c:\\Users\\quoct\\anaconda3\\lib\\site-packages\\IPython\\core\\interactiveshell.py\", line 2057, in showtraceback\n",
      "    stb = self.InteractiveTB.structured_traceback(\n",
      "  File \"c:\\Users\\quoct\\anaconda3\\lib\\site-packages\\IPython\\core\\ultratb.py\", line 1118, in structured_traceback\n",
      "    return FormattedTB.structured_traceback(\n",
      "  File \"c:\\Users\\quoct\\anaconda3\\lib\\site-packages\\IPython\\core\\ultratb.py\", line 1012, in structured_traceback\n",
      "    return VerboseTB.structured_traceback(\n",
      "  File \"c:\\Users\\quoct\\anaconda3\\lib\\site-packages\\IPython\\core\\ultratb.py\", line 865, in structured_traceback\n",
      "    formatted_exception = self.format_exception_as_a_whole(etype, evalue, etb, number_of_lines_of_context,\n",
      "  File \"c:\\Users\\quoct\\anaconda3\\lib\\site-packages\\IPython\\core\\ultratb.py\", line 818, in format_exception_as_a_whole\n",
      "    frames.append(self.format_record(r))\n",
      "  File \"c:\\Users\\quoct\\anaconda3\\lib\\site-packages\\IPython\\core\\ultratb.py\", line 736, in format_record\n",
      "    result += ''.join(_format_traceback_lines(frame_info.lines, Colors, self.has_colors, lvals))\n",
      "  File \"c:\\Users\\quoct\\anaconda3\\lib\\site-packages\\stack_data\\utils.py\", line 145, in cached_property_wrapper\n",
      "    value = obj.__dict__[self.func.__name__] = self.func(obj)\n",
      "  File \"c:\\Users\\quoct\\anaconda3\\lib\\site-packages\\stack_data\\core.py\", line 698, in lines\n",
      "    pieces = self.included_pieces\n",
      "  File \"c:\\Users\\quoct\\anaconda3\\lib\\site-packages\\stack_data\\utils.py\", line 145, in cached_property_wrapper\n",
      "    value = obj.__dict__[self.func.__name__] = self.func(obj)\n",
      "  File \"c:\\Users\\quoct\\anaconda3\\lib\\site-packages\\stack_data\\core.py\", line 649, in included_pieces\n",
      "    pos = scope_pieces.index(self.executing_piece)\n",
      "  File \"c:\\Users\\quoct\\anaconda3\\lib\\site-packages\\stack_data\\utils.py\", line 145, in cached_property_wrapper\n",
      "    value = obj.__dict__[self.func.__name__] = self.func(obj)\n",
      "  File \"c:\\Users\\quoct\\anaconda3\\lib\\site-packages\\stack_data\\core.py\", line 628, in executing_piece\n",
      "    return only(\n",
      "  File \"c:\\Users\\quoct\\anaconda3\\lib\\site-packages\\executing\\executing.py\", line 164, in only\n",
      "    raise NotOneValueFound('Expected one value, found 0')\n",
      "executing.executing.NotOneValueFound: Expected one value, found 0\n"
     ]
    }
   ],
   "source": [
    "%%time\n",
    "solution_dickson_method()"
   ]
  },
  {
   "cell_type": "code",
   "execution_count": null,
   "id": "4a41643c",
   "metadata": {},
   "outputs": [
    {
     "name": "stdout",
     "output_type": "stream",
     "text": [
      "CPU times: total: 219 ms\n",
      "Wall time: 432 ms\n"
     ]
    },
    {
     "data": {
      "text/plain": [
       "161667"
      ]
     },
     "execution_count": 37,
     "metadata": {},
     "output_type": "execute_result"
    }
   ],
   "source": [
    "%%time\n",
    "solution_euclid_formula()"
   ]
  }
 ],
 "metadata": {
  "kernelspec": {
   "display_name": "base",
   "language": "python",
   "name": "python3"
  },
  "language_info": {
   "codemirror_mode": {
    "name": "ipython",
    "version": 3
   },
   "file_extension": ".py",
   "mimetype": "text/x-python",
   "name": "python",
   "nbconvert_exporter": "python",
   "pygments_lexer": "ipython3",
   "version": "3.10.9"
  }
 },
 "nbformat": 4,
 "nbformat_minor": 5
}
