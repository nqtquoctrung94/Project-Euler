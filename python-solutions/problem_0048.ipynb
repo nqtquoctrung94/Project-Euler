{
 "cells": [
  {
   "cell_type": "markdown",
   "id": "ee816326",
   "metadata": {},
   "source": [
    "# [Question 48](https://projecteuler.net/problem=48)"
   ]
  },
  {
   "cell_type": "markdown",
   "id": "2c13166e",
   "metadata": {},
   "source": [
    "## Self Powers\n",
    "The series, $1^1 + 2^2 + 3^3 + \\cdots + 10^{10} = 10405071317$.<br>\n",
    "Find the last ten digits of the series, $1^1 + 2^2 + 3^3 + \\cdots + 1000^{1000}$.<br>\n"
   ]
  },
  {
   "cell_type": "markdown",
   "id": "ea8f5803",
   "metadata": {},
   "source": [
    "# Solution"
   ]
  },
  {
   "cell_type": "code",
   "execution_count": 12,
   "id": "36ce4bea",
   "metadata": {},
   "outputs": [],
   "source": [
    "def last_digits(number: int, power: int, digits: int) -> int:\n",
    "    result = number\n",
    "    for _ in range(2, power+1):\n",
    "        result = (result*number) % (10**digits)\n",
    "    return result\n",
    "\n",
    "def solution():\n",
    "\tdigits = 10\n",
    "\treturn sum(last_digits(number=i, power=i, digits=digits) for i in range(1, 1001)) % (10**digits)"
   ]
  },
  {
   "cell_type": "markdown",
   "id": "58eeed32",
   "metadata": {},
   "source": [
    "# Run"
   ]
  },
  {
   "cell_type": "code",
   "execution_count": 13,
   "id": "3d349da5",
   "metadata": {},
   "outputs": [
    {
     "name": "stdout",
     "output_type": "stream",
     "text": [
      "CPU times: total: 422 ms\n",
      "Wall time: 426 ms\n"
     ]
    },
    {
     "data": {
      "text/plain": [
       "9110846700"
      ]
     },
     "execution_count": 13,
     "metadata": {},
     "output_type": "execute_result"
    }
   ],
   "source": [
    "%%time\n",
    "solution()"
   ]
  }
 ],
 "metadata": {
  "kernelspec": {
   "display_name": "base",
   "language": "python",
   "name": "python3"
  },
  "language_info": {
   "codemirror_mode": {
    "name": "ipython",
    "version": 3
   },
   "file_extension": ".py",
   "mimetype": "text/x-python",
   "name": "python",
   "nbconvert_exporter": "python",
   "pygments_lexer": "ipython3",
   "version": "3.10.9"
  }
 },
 "nbformat": 4,
 "nbformat_minor": 5
}
