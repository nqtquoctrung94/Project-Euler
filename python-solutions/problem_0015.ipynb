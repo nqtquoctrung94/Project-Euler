{
 "cells": [
  {
   "attachments": {},
   "cell_type": "markdown",
   "id": "68c7547d",
   "metadata": {},
   "source": [
    "# [Question 15](https://projecteuler.net/problem=15)"
   ]
  },
  {
   "attachments": {},
   "cell_type": "markdown",
   "id": "929837fd",
   "metadata": {},
   "source": [
    "## Lattice Paths\n",
    "Starting in the top left corner of a $2 \\times 2$ grid, and only being able to move to the right and down, there are exactly $6$ routes to the bottom right corner.<br>\n",
    "How many such routes are there through a $20 \\times 20$ grid?<br>\n",
    "<div style=\"background-color: white; display: inline-block; padding: 10px;\">\n",
    "    <img src=\"https://projecteuler.net/resources/images/0015.png?1678992052\" alt=\"Image\" />\n",
    "</div>"
   ]
  },
  {
   "attachments": {},
   "cell_type": "markdown",
   "id": "97bd8a06",
   "metadata": {},
   "source": [
    "# Solution"
   ]
  },
  {
   "cell_type": "code",
   "execution_count": 3,
   "id": "31a3ffce",
   "metadata": {},
   "outputs": [],
   "source": [
    "def solution():\n",
    "\t\"\"\"This solution return the number of possible routes at the bottom right.\n",
    "\t- If the position is at the top (row == 0), then there is only 1 possible way to reach it, from left to right\n",
    "\t- If the position is at the left (column = 0), then there is only 1 possible way to reach it, from top to down\n",
    "\t- Else it's either from left to right or top to down\n",
    "\t\"\"\"\n",
    "\trow_limit = 21\n",
    "\tcolumn_limit = 21\n",
    "\troute_array = [[None for col in range(column_limit)] for row in range(row_limit) ]\n",
    "\n",
    "\tfor column in range(column_limit):\n",
    "\t\tfor row in range(row_limit):\n",
    "\t\t\tif row == 0 and column == 0:\n",
    "\t\t\t\troute_array[row][column] = 1\n",
    "\t\t\telif row == 0:\n",
    "\t\t\t\troute_array[row][column] = route_array[row][column-1]\n",
    "\t\t\telif column == 0:\n",
    "\t\t\t\troute_array[row][column] = route_array[row-1][column]\n",
    "\t\t\telse:\n",
    "\t\t\t\troute_array[row][column] = route_array[row-1][column] + route_array[row][column-1]\n",
    "\treturn route_array[row_limit-1][column_limit-1]"
   ]
  },
  {
   "attachments": {},
   "cell_type": "markdown",
   "id": "2dab8c71",
   "metadata": {},
   "source": [
    "# Run"
   ]
  },
  {
   "cell_type": "code",
   "execution_count": 4,
   "id": "dc22c4b7",
   "metadata": {},
   "outputs": [
    {
     "name": "stdout",
     "output_type": "stream",
     "text": [
      "CPU times: total: 0 ns\n",
      "Wall time: 0 ns\n"
     ]
    },
    {
     "data": {
      "text/plain": [
       "137846528820"
      ]
     },
     "execution_count": 4,
     "metadata": {},
     "output_type": "execute_result"
    }
   ],
   "source": [
    "%%time\n",
    "solution()"
   ]
  }
 ],
 "metadata": {
  "kernelspec": {
   "display_name": "base",
   "language": "python",
   "name": "python3"
  },
  "language_info": {
   "codemirror_mode": {
    "name": "ipython",
    "version": 3
   },
   "file_extension": ".py",
   "mimetype": "text/x-python",
   "name": "python",
   "nbconvert_exporter": "python",
   "pygments_lexer": "ipython3",
   "version": "3.11.4"
  }
 },
 "nbformat": 4,
 "nbformat_minor": 5
}
