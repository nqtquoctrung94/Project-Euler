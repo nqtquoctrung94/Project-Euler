{
 "cells": [
  {
   "cell_type": "markdown",
   "id": "5069dbf8",
   "metadata": {},
   "source": [
    "# [Question 82](https://projecteuler.net/problem=82)"
   ]
  },
  {
   "cell_type": "markdown",
   "id": "788f9e14",
   "metadata": {},
   "source": [
    "## Path Sum: Three Ways\n",
    "NOTE: This problem is a more challenging version of Problem 81.<br>\n",
    "The minimal path sum in the $5$ by $5$ matrix below, by starting in any cell in the left column and finishing in any cell in the right column, and only moving up, down, and right, is indicated in red and bold; the sum is equal to $994$.<br>\n",
    "<br>\n",
    "$$\n",
    "\n",
    "\\begin{pmatrix}\n",
    "131 & 673 & \\color{red}{234} & \\color{red}{103} & \\color{red}{18}\\\\\n",
    "\\color{red}{201} & \\color{red}{96} & \\color{red}{342} & 965 & 150\\\\\n",
    "630 & 803 & 746 & 422 & 111\\\\\n",
    "537 & 699 & 497 & 121 & 956\\\\\n",
    "805 & 732 & 524 & 37 & 331\n",
    "\\end{pmatrix}\n",
    "$$\n",
    "\n",
    "\n",
    "Find the minimal path sum from the left column to the right column in [matrix.txt](https://projecteuler.net/resources/documents/0082_matrix.txt), a 31K text file containing an $80$ by $80$ matrix.<br>\n"
   ]
  },
  {
   "cell_type": "markdown",
   "id": "88e06f31",
   "metadata": {},
   "source": [
    "# Solution"
   ]
  },
  {
   "cell_type": "code",
   "execution_count": 11,
   "id": "3d044672",
   "metadata": {},
   "outputs": [],
   "source": [
    "with open(r'input files\\0081_matrix.txt', 'r') as file:\n",
    "    matrix_text = file.read()\n",
    "\n",
    "matrix = [[int(n) for n in line.split(\",\")] for line in matrix_text.split(\"\\n\")]"
   ]
  },
  {
   "cell_type": "code",
   "execution_count": 12,
   "id": "68e8b1f8",
   "metadata": {},
   "outputs": [],
   "source": [
    "def path_sum_column_to_column(matrix, path_matrix, col, target_row):\n",
    "    for starting_row in range(len(matrix)):\n",
    "        # yield path sum\n",
    "        yield (\n",
    "            path_matrix[starting_row][col-1]                                        # Starting position\n",
    "            + matrix[target_row][col]                                               # Ending position\n",
    "            + sum(matrix[row][col] for row in range(starting_row, target_row,  1))  # if starting_row < target_row, go downward\n",
    "            + sum(matrix[row][col] for row in range(starting_row, target_row, -1))  # if starting_row > target_row, go upward\n",
    "        )"
   ]
  },
  {
   "cell_type": "code",
   "execution_count": 13,
   "id": "2c109c58",
   "metadata": {},
   "outputs": [],
   "source": [
    "def minimal_path_sum(matrix):\n",
    "    # Define path matrix\n",
    "    size = len(matrix)\n",
    "    path_matrix = [[0 for col in range(size)] for row in range(size)]\n",
    "\n",
    "    # Starting column\n",
    "    for row in range(size):\n",
    "        path_matrix[row][0] = matrix[row][0]\n",
    "\n",
    "    # 2nd columns onward\n",
    "    for col in range(1, size):\n",
    "        for target_row in range(size):\n",
    "            path_matrix[target_row][col] = min(path_sum_column_to_column(matrix, path_matrix, col, target_row))\n",
    "            \n",
    "    return min(path_matrix[row][size-1] for row in range(size))"
   ]
  },
  {
   "cell_type": "code",
   "execution_count": 14,
   "id": "3d8a9f52",
   "metadata": {},
   "outputs": [],
   "source": [
    "def solution():\n",
    "    return minimal_path_sum(matrix)"
   ]
  },
  {
   "cell_type": "markdown",
   "id": "a8b35f36",
   "metadata": {},
   "source": [
    "# Run"
   ]
  },
  {
   "cell_type": "code",
   "execution_count": 15,
   "id": "798deb36",
   "metadata": {},
   "outputs": [
    {
     "name": "stdout",
     "output_type": "stream",
     "text": [
      "CPU times: total: 3.59 s\n",
      "Wall time: 4.19 s\n"
     ]
    },
    {
     "data": {
      "text/plain": [
       "260324"
      ]
     },
     "execution_count": 15,
     "metadata": {},
     "output_type": "execute_result"
    }
   ],
   "source": [
    "%%time\n",
    "solution()"
   ]
  }
 ],
 "metadata": {
  "kernelspec": {
   "display_name": "Python 3",
   "language": "python",
   "name": "python3"
  },
  "language_info": {
   "codemirror_mode": {
    "name": "ipython",
    "version": 3
   },
   "file_extension": ".py",
   "mimetype": "text/x-python",
   "name": "python",
   "nbconvert_exporter": "python",
   "pygments_lexer": "ipython3",
   "version": "3.10.9"
  }
 },
 "nbformat": 4,
 "nbformat_minor": 5
}
