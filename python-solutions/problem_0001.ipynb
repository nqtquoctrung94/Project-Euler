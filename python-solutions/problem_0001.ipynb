{
 "cells": [
  {
   "attachments": {},
   "cell_type": "markdown",
   "id": "295a3b65",
   "metadata": {},
   "source": [
    "# [Question 1](https://projecteuler.net/problem=1)"
   ]
  },
  {
   "attachments": {},
   "cell_type": "markdown",
   "id": "863ce89d",
   "metadata": {},
   "source": [
    "If we list all the natural numbers below $10$ that are multiples of $3$ or $5$, we get $3, 5, 6$ and $9$. The sum of these multiples is $23$.<br>\n",
    "Find the sum of all the multiples of $3$ or $5$ below $1000$.<br>\n"
   ]
  },
  {
   "attachments": {},
   "cell_type": "markdown",
   "id": "895361be",
   "metadata": {},
   "source": [
    "# Solution"
   ]
  },
  {
   "attachments": {},
   "cell_type": "markdown",
   "id": "a9d0f4bc",
   "metadata": {},
   "source": [
    "## Solution 1"
   ]
  },
  {
   "cell_type": "code",
   "execution_count": 1,
   "id": "ab15b72d",
   "metadata": {},
   "outputs": [],
   "source": [
    "def one_to_n_sum(n):\n",
    "    '''Ref: https://en.wikipedia.org/wiki/1_%2B_2_%2B_3_%2B_4_%2B_%E2%8B%AF\n",
    "    The sum from one to n is defined as\n",
    "    S(n) = 1 + 2 + 3 + ... + n\n",
    "    Using n*(n+1)//2 seems to be quicker than int(n*(n+1)/2) since it does not involve handing float numbers\n",
    "    '''\n",
    "    return n*(n+1)//2"
   ]
  },
  {
   "cell_type": "code",
   "execution_count": 2,
   "id": "afa9a1a4",
   "metadata": {},
   "outputs": [],
   "source": [
    "def solution1():\n",
    "\treturn (3*one_to_n_sum(999//3) \n",
    "\t\t  + 5*one_to_n_sum(999//5) \n",
    "\t\t - 15*one_to_n_sum(999//15))"
   ]
  },
  {
   "attachments": {},
   "cell_type": "markdown",
   "id": "c7def6db",
   "metadata": {},
   "source": [
    "## Solution 2"
   ]
  },
  {
   "cell_type": "code",
   "execution_count": 3,
   "id": "537d3cf3",
   "metadata": {},
   "outputs": [],
   "source": [
    "def solution2():\n",
    "    return sum(n for n in range(1000) if (n%3==0) or (n%5==0))"
   ]
  },
  {
   "attachments": {},
   "cell_type": "markdown",
   "id": "d48f5880",
   "metadata": {},
   "source": [
    "# Run"
   ]
  },
  {
   "cell_type": "code",
   "execution_count": 4,
   "id": "11049df2",
   "metadata": {},
   "outputs": [
    {
     "name": "stdout",
     "output_type": "stream",
     "text": [
      "CPU times: total: 0 ns\n",
      "Wall time: 0 ns\n"
     ]
    },
    {
     "data": {
      "text/plain": [
       "233168"
      ]
     },
     "execution_count": 4,
     "metadata": {},
     "output_type": "execute_result"
    }
   ],
   "source": [
    "%%time\n",
    "solution1()"
   ]
  },
  {
   "cell_type": "code",
   "execution_count": 5,
   "id": "d4917a16",
   "metadata": {},
   "outputs": [
    {
     "name": "stdout",
     "output_type": "stream",
     "text": [
      "CPU times: total: 0 ns\n",
      "Wall time: 0 ns\n"
     ]
    },
    {
     "data": {
      "text/plain": [
       "233168"
      ]
     },
     "execution_count": 5,
     "metadata": {},
     "output_type": "execute_result"
    }
   ],
   "source": [
    "%%time\n",
    "solution2()"
   ]
  }
 ],
 "metadata": {
  "kernelspec": {
   "display_name": "Python 3",
   "language": "python",
   "name": "python3"
  },
  "language_info": {
   "codemirror_mode": {
    "name": "ipython",
    "version": 3
   },
   "file_extension": ".py",
   "mimetype": "text/x-python",
   "name": "python",
   "nbconvert_exporter": "python",
   "pygments_lexer": "ipython3",
   "version": "3.11.4"
  }
 },
 "nbformat": 4,
 "nbformat_minor": 5
}
