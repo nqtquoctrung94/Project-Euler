{
 "cells": [
  {
   "cell_type": "markdown",
   "id": "e020e5ef",
   "metadata": {},
   "source": [
    "# [Question 55](https://projecteuler.net/problem=55)"
   ]
  },
  {
   "cell_type": "markdown",
   "id": "870d0ae3",
   "metadata": {},
   "source": [
    "## Lychrel Numbers\n",
    "If we take $47$, reverse and add, $47 + 74 = 121$, which is palindromic.<br>\n",
    "Not all numbers produce palindromes so quickly. For example,<br>\n",
    "\\begin{align}\n",
    "349 + 943 &= 1292\\\\\n",
    "1292 + 2921 &= 4213\\\\\n",
    "4213 + 3124 &= 7337\n",
    "\\end{align}\n",
    "That is, $349$ took three iterations to arrive at a palindrome.<br>\n",
    "Although no one has proved it yet, it is thought that some numbers, like $196$, never produce a palindrome. A number that never forms a palindrome through the reverse and add process is called a Lychrel number. Due to the theoretical nature of these numbers, and for the purpose of this problem, we shall assume that a number is Lychrel until proven otherwise. In addition you are given that for every number below ten-thousand, it will either \n",
    "- (i) become a palindrome in less than fifty iterations, or, \n",
    "- (ii) no one, with all the computing power that exists, has managed so far to map it to a palindrome. \n",
    "\n",
    "In fact, $10677$ is the first number to be shown to require over fifty iterations before producing a palindrome: $4668731596684224866951378664$ ($53$ iterations, $28$-digits).<br>\n",
    "Surprisingly, there are palindromic numbers that are themselves Lychrel numbers; the first example is $4994$.<br>\n",
    "How many Lychrel numbers are there below ten-thousand?<br>\n",
    "NOTE: Wording was modified slightly on 24 April 2007 to emphasise the theoretical nature of Lychrel numbers.<br>\n"
   ]
  },
  {
   "cell_type": "markdown",
   "id": "3d8b6c00",
   "metadata": {},
   "source": [
    "# Solution"
   ]
  },
  {
   "cell_type": "code",
   "execution_count": 3,
   "id": "700cda44",
   "metadata": {},
   "outputs": [],
   "source": [
    "from snippet.euler_lib import is_palindromic"
   ]
  },
  {
   "cell_type": "code",
   "execution_count": 4,
   "id": "00ee19a5",
   "metadata": {},
   "outputs": [],
   "source": [
    "def reverse_number(n:int) -> int:\n",
    "    string_n = str(n)\n",
    "    reverse_n = string_n[::-1]\n",
    "    return int(reverse_n)"
   ]
  },
  {
   "cell_type": "code",
   "execution_count": 5,
   "id": "e7fbbd11",
   "metadata": {},
   "outputs": [],
   "source": [
    "def is_lychrel_number(num:int) -> bool:\n",
    "    for iteration in range(50):\n",
    "        num = num + reverse_number(num)\n",
    "        if is_palindromic(num):\n",
    "            return False\n",
    "    return True"
   ]
  },
  {
   "cell_type": "code",
   "execution_count": 6,
   "id": "a7525bfd",
   "metadata": {},
   "outputs": [],
   "source": [
    "def solution():\n",
    "\treturn sum(1 for number in range(10000) if is_lychrel_number(number))"
   ]
  },
  {
   "cell_type": "markdown",
   "id": "ddbcfbd1",
   "metadata": {},
   "source": [
    "# Run"
   ]
  },
  {
   "cell_type": "code",
   "execution_count": 7,
   "id": "e1a94f95",
   "metadata": {},
   "outputs": [
    {
     "name": "stdout",
     "output_type": "stream",
     "text": [
      "CPU times: total: 0 ns\n",
      "Wall time: 34 ms\n"
     ]
    },
    {
     "data": {
      "text/plain": [
       "249"
      ]
     },
     "execution_count": 7,
     "metadata": {},
     "output_type": "execute_result"
    }
   ],
   "source": [
    "%%time\n",
    "solution()"
   ]
  }
 ],
 "metadata": {
  "kernelspec": {
   "display_name": "Python 3",
   "language": "python",
   "name": "python3"
  },
  "language_info": {
   "codemirror_mode": {
    "name": "ipython",
    "version": 3
   },
   "file_extension": ".py",
   "mimetype": "text/x-python",
   "name": "python",
   "nbconvert_exporter": "python",
   "pygments_lexer": "ipython3",
   "version": "3.11.4"
  }
 },
 "nbformat": 4,
 "nbformat_minor": 5
}
