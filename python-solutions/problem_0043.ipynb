{
 "cells": [
  {
   "cell_type": "markdown",
   "id": "7ab694ae",
   "metadata": {},
   "source": [
    "# [Question 43](https://projecteuler.net/problem=43)"
   ]
  },
  {
   "cell_type": "markdown",
   "id": "dccf6134",
   "metadata": {},
   "source": [
    "## Sub-string Divisibility\n",
    "The number, $1406357289$, is a $0$ to $9$ pandigital number because it is made up of each of the digits $0$ to $9$ in some order, but it also has a rather interesting sub-string divisibility property.<br>\n",
    "Let $d_1$ be the $1$ st digit, $d_2$ be the $2$ nd digit, and so on. In this way, we note the following:<br>\n",
    "$d_2d_3d_4=406$ is divisible by $2$\n",
    "\n",
    "$d_3d_4d_5=063$ is divisible by $3$\n",
    "\n",
    "$d_4d_5d_6=635$ is divisible by $5$\n",
    "\n",
    "$d_5d_6d_7=357$ is divisible by $7$\n",
    "\n",
    "$d_6d_7d_8=572$ is divisible by $11$\n",
    "\n",
    "$d_7d_8d_9=728$ is divisible by $13$\n",
    "\n",
    "$d_8d_9d_{10}=289$ is divisible by $17$\n",
    "\n",
    "Find the sum of all $0$ to $9$ pandigital numbers with this property.<br>\n"
   ]
  },
  {
   "cell_type": "markdown",
   "id": "d4b12edf",
   "metadata": {},
   "source": [
    "# Solution"
   ]
  },
  {
   "cell_type": "code",
   "execution_count": 18,
   "id": "a981c65c",
   "metadata": {},
   "outputs": [],
   "source": [
    "from itertools import permutations"
   ]
  },
  {
   "cell_type": "code",
   "execution_count": 19,
   "id": "380f3619",
   "metadata": {},
   "outputs": [],
   "source": [
    "def is_qualified_conditions(number: int, conditions: dict) -> bool:\n",
    "    string_n = str(number)\n",
    "    \n",
    "    for start_index, divisible in conditions.items():\n",
    "        sub_number = int(string_n[start_index-1:start_index+2])\n",
    "        if sub_number % divisible != 0:\n",
    "            return False\n",
    "        \n",
    "    return True"
   ]
  },
  {
   "cell_type": "code",
   "execution_count": 20,
   "id": "617d5de0",
   "metadata": {},
   "outputs": [],
   "source": [
    "def solution():\n",
    "\tconditions_dict = {\n",
    "\t\t# index_start: divisibility\n",
    "\t\t2: 2,\n",
    "\t\t3: 3,\n",
    "\t\t4: 5,\n",
    "\t\t5: 7,\n",
    "\t\t6: 11,\n",
    "\t\t7: 13,\n",
    "\t\t8: 17\n",
    "\t}\n",
    "\ttotal = 0\n",
    "\n",
    "\tfor digit_set in permutations(range(10)):\n",
    "\t\t# Skip set with leading 0\n",
    "\t\tif digit_set[0] == 0:\n",
    "\t\t\tcontinue\n",
    "\t\tnumber = int(''.join(str(d) for d in digit_set))\n",
    "\t\tif is_qualified_conditions(number, conditions_dict):\n",
    "\t\t\ttotal += number\n",
    "\n",
    "\treturn total"
   ]
  },
  {
   "cell_type": "markdown",
   "id": "c4004654",
   "metadata": {},
   "source": [
    "# Run"
   ]
  },
  {
   "cell_type": "code",
   "execution_count": 21,
   "id": "2deb83a5",
   "metadata": {},
   "outputs": [
    {
     "name": "stdout",
     "output_type": "stream",
     "text": [
      "CPU times: total: 21 s\n",
      "Wall time: 22.2 s\n"
     ]
    },
    {
     "data": {
      "text/plain": [
       "16695334890"
      ]
     },
     "execution_count": 21,
     "metadata": {},
     "output_type": "execute_result"
    }
   ],
   "source": [
    "%%time\n",
    "solution()"
   ]
  }
 ],
 "metadata": {
  "kernelspec": {
   "display_name": "base",
   "language": "python",
   "name": "python3"
  },
  "language_info": {
   "codemirror_mode": {
    "name": "ipython",
    "version": 3
   },
   "file_extension": ".py",
   "mimetype": "text/x-python",
   "name": "python",
   "nbconvert_exporter": "python",
   "pygments_lexer": "ipython3",
   "version": "3.10.9"
  }
 },
 "nbformat": 4,
 "nbformat_minor": 5
}
