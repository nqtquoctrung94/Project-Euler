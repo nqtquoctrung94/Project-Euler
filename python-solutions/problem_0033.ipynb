{
 "cells": [
  {
   "cell_type": "markdown",
   "id": "1ddc74a5",
   "metadata": {},
   "source": [
    "# [Question 33](https://projecteuler.net/problem=33)"
   ]
  },
  {
   "cell_type": "markdown",
   "id": "31a21154",
   "metadata": {},
   "source": [
    "## Digit Cancelling Fractions\n",
    "The fraction $49/98$ is a curious fraction, as an inexperienced mathematician in attempting to simplify it may incorrectly believe that $49/98 = 4/8$, which is correct, is obtained by cancelling the $9$ s.<br>\n",
    "We shall consider fractions like, $30/50 = 3/5$, to be trivial examples.<br>\n",
    "There are exactly four non-trivial examples of this type of fraction, less than one in value, and containing two digits in the numerator and denominator.<br>\n",
    "If the product of these four fractions is given in its lowest common terms, find the value of the denominator.<br>\n"
   ]
  },
  {
   "cell_type": "markdown",
   "id": "07d5c83b",
   "metadata": {},
   "source": [
    "# Solution"
   ]
  },
  {
   "cell_type": "code",
   "execution_count": 17,
   "id": "76850abf",
   "metadata": {},
   "outputs": [],
   "source": [
    "import math"
   ]
  },
  {
   "cell_type": "code",
   "execution_count": 18,
   "id": "81ace085",
   "metadata": {},
   "outputs": [],
   "source": [
    "def is_digit_cancelling_fractions(numerator_add: int,\n",
    "                                  denominator_add: int,\n",
    "                                  common_digit: int):\n",
    "    for numerator in (numerator_add*10 + common_digit,\n",
    "                      common_digit*10 + numerator_add):\n",
    "        for denominator in (denominator_add*10 + common_digit,\n",
    "                            common_digit*10 + denominator_add):\n",
    "            if (numerator < denominator) and (numerator/denominator == numerator_add/denominator_add):\n",
    "                yield (numerator, denominator)"
   ]
  },
  {
   "cell_type": "code",
   "execution_count": 19,
   "id": "bd4d09e3",
   "metadata": {},
   "outputs": [],
   "source": [
    "def solution():\n",
    "\tproduct_numerator = 1\n",
    "\tproduct_denominator = 1\n",
    "\tfor numerator_add in range(1,10):\n",
    "\t\tfor denominator_add in range(numerator_add+1, 10):\n",
    "\t\t\tfor common_digit in range(1,10):\n",
    "\t\t\t\tfor pair in is_digit_cancelling_fractions(numerator_add, denominator_add, common_digit):\n",
    "\t\t\t\t\tnumerator, denominator = pair\n",
    "\t\t\t\t\tproduct_numerator *= numerator\n",
    "\t\t\t\t\tproduct_denominator *= denominator\n",
    "\treturn product_denominator//math.gcd(product_numerator, product_denominator)"
   ]
  },
  {
   "cell_type": "markdown",
   "id": "c136d267",
   "metadata": {},
   "source": [
    "# Run"
   ]
  },
  {
   "cell_type": "code",
   "execution_count": 20,
   "id": "3e84506f",
   "metadata": {},
   "outputs": [
    {
     "name": "stdout",
     "output_type": "stream",
     "text": [
      "CPU times: total: 0 ns\n",
      "Wall time: 0 ns\n"
     ]
    },
    {
     "data": {
      "text/plain": [
       "100"
      ]
     },
     "execution_count": 20,
     "metadata": {},
     "output_type": "execute_result"
    }
   ],
   "source": [
    "%%time\n",
    "solution()"
   ]
  }
 ],
 "metadata": {
  "kernelspec": {
   "display_name": "Python 3",
   "language": "python",
   "name": "python3"
  },
  "language_info": {
   "codemirror_mode": {
    "name": "ipython",
    "version": 3
   },
   "file_extension": ".py",
   "mimetype": "text/x-python",
   "name": "python",
   "nbconvert_exporter": "python",
   "pygments_lexer": "ipython3",
   "version": "3.11.4"
  }
 },
 "nbformat": 4,
 "nbformat_minor": 5
}
