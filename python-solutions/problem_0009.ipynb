{
 "cells": [
  {
   "attachments": {},
   "cell_type": "markdown",
   "id": "515db1a6",
   "metadata": {},
   "source": [
    "# [Question 9](https://projecteuler.net/problem=9)"
   ]
  },
  {
   "attachments": {},
   "cell_type": "markdown",
   "id": "988d5c04",
   "metadata": {},
   "source": [
    "A Pythagorean triplet is a set of three natural numbers, $a \\lt b \\lt c$, for which,<br>\n",
    "$$a^2 + b^2 = c^2.$$\n",
    "\n",
    "For example, $3^2 + 4^2 = 9 + 16 = 25 = 5^2$.<br>\n",
    "There exists exactly one Pythagorean triplet for which $a + b + c = 1000$.Find the product $abc$.<br>\n"
   ]
  },
  {
   "attachments": {},
   "cell_type": "markdown",
   "id": "6a367ec8",
   "metadata": {},
   "source": [
    "# Solution"
   ]
  },
  {
   "cell_type": "code",
   "execution_count": 6,
   "id": "6abee92a",
   "metadata": {},
   "outputs": [],
   "source": [
    "def is_Pythagorean_triplet(a:int, b:int, c:int) -> bool:\n",
    "\tif (a*a + b*b == c*c): return True\n",
    "\tif (a*a + c*c == b*b): return True\n",
    "\tif (b*b + c*c == a*a): return True\n",
    "\treturn False\t\n",
    "\n",
    "def solution():\n",
    "\tfor a in range(1,500):\n",
    "\t\tfor b in range(a,500):\n",
    "\t\t\tif a+b >= 1000:\n",
    "\t\t\t\tbreak\n",
    "\n",
    "\t\t\tc = 1000-a-b\n",
    "\t\t\tif is_Pythagorean_triplet(a,b,c):\n",
    "\t\t\t\treturn a*b*c"
   ]
  },
  {
   "attachments": {},
   "cell_type": "markdown",
   "id": "10f76333",
   "metadata": {},
   "source": [
    "# Run"
   ]
  },
  {
   "cell_type": "code",
   "execution_count": 7,
   "id": "03383c2e",
   "metadata": {},
   "outputs": [
    {
     "name": "stdout",
     "output_type": "stream",
     "text": [
      "CPU times: total: 15.6 ms\n",
      "Wall time: 27.3 ms\n"
     ]
    },
    {
     "data": {
      "text/plain": [
       "31875000"
      ]
     },
     "execution_count": 7,
     "metadata": {},
     "output_type": "execute_result"
    }
   ],
   "source": [
    "%%time\n",
    "solution()"
   ]
  }
 ],
 "metadata": {
  "kernelspec": {
   "display_name": "Python 3",
   "language": "python",
   "name": "python3"
  },
  "language_info": {
   "codemirror_mode": {
    "name": "ipython",
    "version": 3
   },
   "file_extension": ".py",
   "mimetype": "text/x-python",
   "name": "python",
   "nbconvert_exporter": "python",
   "pygments_lexer": "ipython3",
   "version": "3.11.4"
  }
 },
 "nbformat": 4,
 "nbformat_minor": 5
}
