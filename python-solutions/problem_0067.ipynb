{
 "cells": [
  {
   "attachments": {},
   "cell_type": "markdown",
   "id": "10b50db5",
   "metadata": {},
   "source": [
    "# [Question 67](https://projecteuler.net/problem=67)"
   ]
  },
  {
   "attachments": {},
   "cell_type": "markdown",
   "id": "19258418",
   "metadata": {},
   "source": [
    "## Maximum Path Sum II\n",
    "By starting at the top of the triangle below and moving to adjacent numbers on the row below, the maximum total from top to bottom is 23.<br>\n",
    "<pre style=\"text-align: center;\">\n",
    "<span style=\"color: red\"><b>3</b></span>\n",
    "<span style=\"color: red\"><b>7</b></span> 4\n",
    "2 <span style=\"color: red\"><b>4</b></span> 6\n",
    "8 5 <span style=\"color: red\"><b>9</b></span> 3\n",
    "</pre>\n",
    "That is, 3 + 7 + 4 + 9 = 23.<br>\n",
    "Find the maximum total from top to bottom in [triangle.txt](https://projecteuler.net/resources/documents/0067_triangle.txt), a 15K text file containing a triangle with one-hundred rows.<br>\n",
    "NOTE: This is a much more difficult version of Problem 18. It is not possible to try every route to solve this problem, as there are 299 altogether! If you could check one trillion (1012) routes every second it would take over twenty billion years to check them all. There is an efficient algorithm to solve it. ;o)<br>\n"
   ]
  },
  {
   "attachments": {},
   "cell_type": "markdown",
   "id": "be55890f",
   "metadata": {},
   "source": [
    "# Solution"
   ]
  },
  {
   "cell_type": "code",
   "execution_count": 15,
   "id": "4bd11fdd",
   "metadata": {},
   "outputs": [],
   "source": [
    "with open(r'input files\\0067_triangle.txt', 'r') as file:\n",
    "    triangle_text = file.read()\n",
    "\n",
    "triangle = [[int(n) for n in line.split()] for line in triangle_text.split(\"\\n\")]"
   ]
  },
  {
   "cell_type": "code",
   "execution_count": 16,
   "id": "1cafb9f5",
   "metadata": {},
   "outputs": [],
   "source": [
    "def calculate_path_sum_upward(row: int, column: int, position: dict) -> int:\n",
    "\t\"\"\"This function update the value of position from row and column input\n",
    "\tMust loop from last_row - 1 upward to update value arcordingly\"\"\"\n",
    "\tposition[row][column] = max(position[row+1][column], position[row+1][column+1]) + triangle[row][column]\n",
    "\n",
    "def solution():\n",
    "\t\"\"\"Create the position_dict, with the same size as the triangle\n",
    "\tLet the last index of dictionary be the last line of the triangle\n",
    "\tThen loop from the last_row - 1 upward to update the postion total sum\"\"\"\n",
    "\tposition_dict = {}\n",
    "\tfor row in range(len(triangle)):\n",
    "\t\tposition_dict[row] = [0]*len(triangle[row])\n",
    "\n",
    "\tlast_row_index = len(triangle) - 1\n",
    "\tposition_dict[last_row_index] = triangle[last_row_index]\n",
    "\n",
    "\tfor row in range(last_row_index - 1, -1, -1):\n",
    "\t\tfor column in range(len(triangle[row])):\n",
    "\t\t\tcalculate_path_sum_upward(row, column, position_dict)\n",
    "\n",
    "\treturn position_dict[0][0]"
   ]
  },
  {
   "attachments": {},
   "cell_type": "markdown",
   "id": "d5a94a3c",
   "metadata": {},
   "source": [
    "# Run"
   ]
  },
  {
   "cell_type": "code",
   "execution_count": 17,
   "id": "1c5b44d5",
   "metadata": {},
   "outputs": [
    {
     "name": "stdout",
     "output_type": "stream",
     "text": [
      "CPU times: total: 0 ns\n",
      "Wall time: 2 ms\n"
     ]
    },
    {
     "data": {
      "text/plain": [
       "7273"
      ]
     },
     "execution_count": 17,
     "metadata": {},
     "output_type": "execute_result"
    }
   ],
   "source": [
    "%%time\n",
    "solution()"
   ]
  }
 ],
 "metadata": {
  "kernelspec": {
   "display_name": "Python 3",
   "language": "python",
   "name": "python3"
  },
  "language_info": {
   "codemirror_mode": {
    "name": "ipython",
    "version": 3
   },
   "file_extension": ".py",
   "mimetype": "text/x-python",
   "name": "python",
   "nbconvert_exporter": "python",
   "pygments_lexer": "ipython3",
   "version": "3.11.4"
  }
 },
 "nbformat": 4,
 "nbformat_minor": 5
}
