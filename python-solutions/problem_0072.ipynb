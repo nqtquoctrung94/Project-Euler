{
 "cells": [
  {
   "cell_type": "markdown",
   "id": "3723213c",
   "metadata": {},
   "source": [
    "# [Question 72](https://projecteuler.net/problem=72)"
   ]
  },
  {
   "cell_type": "markdown",
   "id": "4d723ced",
   "metadata": {},
   "source": [
    "## Counting Fractions\n",
    "Consider the fraction, $\\dfrac n d$, where $n$ and $d$ are positive integers. If $n \\lt d$ and $\\operatorname{HCF}(n,d)=1$, it is called a reduced proper fraction.<br>\n",
    "If we list the set of reduced proper fractions for $d \\le 8$ in ascending order of size, we get:<br>\n",
    "$$\\frac{1}{8}, \\frac{1}{7}, \\frac{1}{6}, \\frac{1}{5}, \\frac{1}{4}, \\frac{2}{7}, \\frac{1}{3}, \\frac{3}{8}, \\frac{2}{5}, \\frac{3}{7}, \\frac{1}{2}, \\frac{4}{7}, \\frac{3}{5}, \\frac{5}{8}, \\frac{2}{3}, \\frac{5}{7}, \\frac{3}{4}, \\frac{4}{5}, \\frac{5}{6}, \\frac{6}{7}, \\frac{7}{8}$$\n",
    "\n",
    "It can be seen that there are $21$ elements in this set.<br>\n",
    "How many elements would be contained in the set of reduced proper fractions for $d \\le 1\\,000\\,000$?<br>\n"
   ]
  },
  {
   "cell_type": "markdown",
   "id": "48512ee1",
   "metadata": {},
   "source": [
    "# Solution"
   ]
  },
  {
   "cell_type": "markdown",
   "id": "df957ab2",
   "metadata": {},
   "source": [
    "If we sort the fractions by denominator: <br>\n",
    "\n",
    "- $[\\frac{1}{2}] $ <br>\n",
    "\n",
    "- $[\\frac{1}{3}, \\frac{2}{3}] $ <br>\n",
    "\n",
    "- $[\\frac{1}{4}, \\frac{3}{4}] $ <br>\n",
    "\n",
    "- $[\\frac{1}{5}, \\frac{2}{5}, \\frac{3}{5}, \\frac{4}{5}] $ <br>\n",
    "\n",
    "- $[\\frac{1}{6}, \\frac{5}{6}] $ <br>\n",
    "\n",
    "- $[\\frac{1}{7}, \\frac{2}{7}, \\frac{3}{7}, \\frac{4}{7}, \\frac{5}{7}, \\frac{6}{7}] $ <br>\n",
    "\n",
    "- $[\\frac{1}{8}, \\frac{3}{8}, \\frac{5}{8}, \\frac{7}{8}] $ <br>\n",
    "\n",
    "The numerators are all the relative primes of denominator. So the number of fractions $F(n)$ can be written as:\n",
    "$$ F(n) = \\phi(2) + \\phi(3) + ... + \\phi(n) = \\sum^n_{i=2} \\phi(i) $$"
   ]
  },
  {
   "cell_type": "code",
   "execution_count": 5,
   "id": "83b39f43",
   "metadata": {},
   "outputs": [],
   "source": [
    "from snippet.euler_lib import totient_1_to_n"
   ]
  },
  {
   "cell_type": "code",
   "execution_count": 6,
   "id": "ed90d9dc",
   "metadata": {},
   "outputs": [],
   "source": [
    "def solution():\n",
    "    return sum(totient_1_to_n(1000000)[2:]) # [2:] to ignore phi[0] and phi[1]"
   ]
  },
  {
   "cell_type": "markdown",
   "id": "9df69c25",
   "metadata": {},
   "source": [
    "# Run"
   ]
  },
  {
   "cell_type": "code",
   "execution_count": 7,
   "id": "92aa8f08",
   "metadata": {},
   "outputs": [
    {
     "name": "stdout",
     "output_type": "stream",
     "text": [
      "CPU times: total: 422 ms\n",
      "Wall time: 624 ms\n"
     ]
    },
    {
     "data": {
      "text/plain": [
       "303963552391"
      ]
     },
     "execution_count": 7,
     "metadata": {},
     "output_type": "execute_result"
    }
   ],
   "source": [
    "%%time\n",
    "solution()"
   ]
  }
 ],
 "metadata": {
  "kernelspec": {
   "display_name": "Python 3",
   "language": "python",
   "name": "python3"
  },
  "language_info": {
   "codemirror_mode": {
    "name": "ipython",
    "version": 3
   },
   "file_extension": ".py",
   "mimetype": "text/x-python",
   "name": "python",
   "nbconvert_exporter": "python",
   "pygments_lexer": "ipython3",
   "version": "3.11.4"
  }
 },
 "nbformat": 4,
 "nbformat_minor": 5
}
