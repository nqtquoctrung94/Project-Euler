{
 "cells": [
  {
   "attachments": {},
   "cell_type": "markdown",
   "id": "982fce5a",
   "metadata": {},
   "source": [
    "# [Question 4](https://projecteuler.net/problem=4)"
   ]
  },
  {
   "attachments": {},
   "cell_type": "markdown",
   "id": "fa7c8a10",
   "metadata": {},
   "source": [
    "A palindromic number reads the same both ways. The largest palindrome made from the product of two $2$-digit numbers is $9009 = 91 \\times 99$.<br>\n",
    "Find the largest palindrome made from the product of two $3$-digit numbers.<br>\n"
   ]
  },
  {
   "attachments": {},
   "cell_type": "markdown",
   "id": "556d5d82",
   "metadata": {},
   "source": [
    "# Solution"
   ]
  },
  {
   "cell_type": "code",
   "execution_count": null,
   "id": "d8055576",
   "metadata": {},
   "outputs": [],
   "source": [
    "def is_panlindromic(n: int) -> bool:\n",
    "    '''This function take in number n\n",
    "    Turn into string_n\n",
    "    Create reverse_n, ref: https://www.w3schools.com/python/python_howto_reverse_string.asp\n",
    "    Then compare string_n with reverse_n\n",
    "    '''\n",
    "    string_n = str(n)\n",
    "    reverse_n = string_n[::-1]    \n",
    "    return (string_n == reverse_n)"
   ]
  },
  {
   "cell_type": "code",
   "execution_count": null,
   "id": "ceec3124",
   "metadata": {},
   "outputs": [],
   "source": [
    "def solution():\n",
    "\tpass"
   ]
  },
  {
   "attachments": {},
   "cell_type": "markdown",
   "id": "6ed70dd7",
   "metadata": {},
   "source": [
    "# Run"
   ]
  },
  {
   "cell_type": "code",
   "execution_count": null,
   "id": "5ca7f046",
   "metadata": {},
   "outputs": [],
   "source": [
    "%%time\n",
    "solution()"
   ]
  }
 ],
 "metadata": {
  "language_info": {
   "name": "python"
  }
 },
 "nbformat": 4,
 "nbformat_minor": 5
}
