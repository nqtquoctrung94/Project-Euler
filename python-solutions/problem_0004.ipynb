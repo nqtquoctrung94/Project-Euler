{
 "cells": [
  {
   "attachments": {},
   "cell_type": "markdown",
   "id": "982fce5a",
   "metadata": {},
   "source": [
    "# [Question 4](https://projecteuler.net/problem=4)"
   ]
  },
  {
   "attachments": {},
   "cell_type": "markdown",
   "id": "fa7c8a10",
   "metadata": {},
   "source": [
    "A palindromic number reads the same both ways. The largest palindrome made from the product of two $2$-digit numbers is $9009 = 91 \\times 99$.<br>\n",
    "Find the largest palindrome made from the product of two $3$-digit numbers.<br>\n"
   ]
  },
  {
   "attachments": {},
   "cell_type": "markdown",
   "id": "556d5d82",
   "metadata": {},
   "source": [
    "# Solution"
   ]
  },
  {
   "cell_type": "code",
   "execution_count": 9,
   "id": "ceec3124",
   "metadata": {},
   "outputs": [],
   "source": [
    "from snippet.euler_lib import is_palindromic\n",
    "\n",
    "def solution():\n",
    "    max_panlindromic = 0\n",
    "    for i in range(999, 99, -1):\n",
    "        # Since the number is decreasing, if it's already lower than current number, then just stop\n",
    "        if i*i <= max_panlindromic:\n",
    "            break\n",
    "        \n",
    "        for j in range(i, 99, -1):\n",
    "            # Since the number is decreasing, if it's already lower than current number, then just stop\n",
    "            if i*j <= max_panlindromic:\n",
    "                break\n",
    "            if is_palindromic(i*j):\n",
    "                max_panlindromic = i*j\n",
    "\n",
    "    return max_panlindromic"
   ]
  },
  {
   "attachments": {},
   "cell_type": "markdown",
   "id": "6ed70dd7",
   "metadata": {},
   "source": [
    "# Run"
   ]
  },
  {
   "cell_type": "code",
   "execution_count": 10,
   "id": "5ca7f046",
   "metadata": {},
   "outputs": [
    {
     "name": "stdout",
     "output_type": "stream",
     "text": [
      "CPU times: total: 0 ns\n",
      "Wall time: 999 µs\n"
     ]
    },
    {
     "data": {
      "text/plain": [
       "906609"
      ]
     },
     "execution_count": 10,
     "metadata": {},
     "output_type": "execute_result"
    }
   ],
   "source": [
    "%%time\n",
    "solution()"
   ]
  }
 ],
 "metadata": {
  "kernelspec": {
   "display_name": "Python 3",
   "language": "python",
   "name": "python3"
  },
  "language_info": {
   "codemirror_mode": {
    "name": "ipython",
    "version": 3
   },
   "file_extension": ".py",
   "mimetype": "text/x-python",
   "name": "python",
   "nbconvert_exporter": "python",
   "pygments_lexer": "ipython3",
   "version": "3.11.4"
  }
 },
 "nbformat": 4,
 "nbformat_minor": 5
}
