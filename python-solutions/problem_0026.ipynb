{
 "cells": [
  {
   "cell_type": "markdown",
   "id": "4c8fb8e6",
   "metadata": {},
   "source": [
    "# [Question 26](https://projecteuler.net/problem=26)"
   ]
  },
  {
   "cell_type": "markdown",
   "id": "3d4b6064",
   "metadata": {},
   "source": [
    "## Reciprocal Cycles\n",
    "A unit fraction contains $1$ in the numerator. The decimal representation of the unit fractions with denominators $2$ to $10$ are given:<br>\n",
    "\\begin{align}\n",
    "1/2 &= 0.5\\\\\n",
    "1/3 &=0.(3)\\\\\n",
    "1/4 &=0.25\\\\\n",
    "1/5 &= 0.2\\\\\n",
    "1/6 &= 0.1(6)\\\\\n",
    "1/7 &= 0.(142857)\\\\\n",
    "1/8 &= 0.125\\\\\n",
    "1/9 &= 0.(1)\\\\\n",
    "1/10 &= 0.1\n",
    "\\end{align}\n",
    "Where $0.1(6)$ means $0.166666\\cdots$, and has a $1$-digit recurring cycle. It can be seen that $1/7$ has a $6$-digit recurring cycle.<br>\n",
    "Find the value of $d \\lt 1000$ for which $1/d$ contains the longest recurring cycle in its decimal fraction part.<br>\n"
   ]
  },
  {
   "cell_type": "markdown",
   "id": "ec79cbb2",
   "metadata": {},
   "source": [
    "# Solution"
   ]
  },
  {
   "cell_type": "code",
   "execution_count": 15,
   "id": "770f1394",
   "metadata": {},
   "outputs": [],
   "source": [
    "def remainder_chain_length(divisor: int, \n",
    "                           divident: int = 1) -> int:\n",
    "\n",
    "    remainder_list = []\n",
    "    while True:\n",
    "        remainder = divident*10 % divisor\n",
    "        if remainder == 0:\n",
    "            return 0\n",
    "        if remainder in remainder_list:\n",
    "            return len(remainder_list)\n",
    "        remainder_list.append(remainder)\n",
    "        divident = remainder"
   ]
  },
  {
   "cell_type": "code",
   "execution_count": 16,
   "id": "c193c8d2",
   "metadata": {},
   "outputs": [],
   "source": [
    "def solution():\n",
    "\tmax_chain = 0\n",
    "\tlimit = 1000\n",
    "\tmax_index = 0\n",
    "\tmax_chain = 0\n",
    "\tfor i in range(1,1000):\n",
    "\t\tchain = remainder_chain_length(i)\n",
    "\t\tif chain > max_chain:\n",
    "\t\t\tmax_index = i\n",
    "\t\t\tmax_chain = chain\n",
    "\treturn max_index"
   ]
  },
  {
   "cell_type": "markdown",
   "id": "8e07c151",
   "metadata": {},
   "source": [
    "# Run"
   ]
  },
  {
   "cell_type": "code",
   "execution_count": 17,
   "id": "de269e71",
   "metadata": {},
   "outputs": [
    {
     "name": "stdout",
     "output_type": "stream",
     "text": [
      "CPU times: total: 531 ms\n",
      "Wall time: 828 ms\n"
     ]
    },
    {
     "data": {
      "text/plain": [
       "983"
      ]
     },
     "execution_count": 17,
     "metadata": {},
     "output_type": "execute_result"
    }
   ],
   "source": [
    "%%time\n",
    "solution()"
   ]
  }
 ],
 "metadata": {
  "kernelspec": {
   "display_name": "base",
   "language": "python",
   "name": "python3"
  },
  "language_info": {
   "codemirror_mode": {
    "name": "ipython",
    "version": 3
   },
   "file_extension": ".py",
   "mimetype": "text/x-python",
   "name": "python",
   "nbconvert_exporter": "python",
   "pygments_lexer": "ipython3",
   "version": "3.10.9"
  }
 },
 "nbformat": 4,
 "nbformat_minor": 5
}
