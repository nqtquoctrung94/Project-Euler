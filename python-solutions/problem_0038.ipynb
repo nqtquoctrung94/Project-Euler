{
 "cells": [
  {
   "cell_type": "markdown",
   "id": "6ab0bfb3",
   "metadata": {},
   "source": [
    "# [Question 38](https://projecteuler.net/problem=38)"
   ]
  },
  {
   "cell_type": "markdown",
   "id": "c041a9b6",
   "metadata": {},
   "source": [
    "## Pandigital Multiples\n",
    "Take the number $192$ and multiply it by each of $1$, $2$, and $3$:<br>\n",
    "\\begin{align}\n",
    "192 \\times 1 &= 192\\\\\n",
    "192 \\times 2 &= 384\\\\\n",
    "192 \\times 3 &= 576\n",
    "\\end{align}\n",
    "By concatenating each product we get the $1$ to $9$ pandigital, $192384576$. We will call $192384576$ the concatenated product of $192$ and $(1,2,3)$.<br>\n",
    "The same can be achieved by starting with $9$ and multiplying by $1$, $2$, $3$, $4$, and $5$, giving the pandigital, $918273645$, which is the concatenated product of $9$ and $(1,2,3,4,5)$.<br>\n",
    "What is the largest $1$ to $9$ pandigital $9$-digit number that can be formed as the concatenated product of an integer with $(1,2, \\dots, n)$ where $n \\gt 1$?<br>\n"
   ]
  },
  {
   "cell_type": "markdown",
   "id": "2498caf1",
   "metadata": {},
   "source": [
    "# Solution"
   ]
  },
  {
   "cell_type": "code",
   "execution_count": 1,
   "id": "e6db3834",
   "metadata": {},
   "outputs": [],
   "source": [
    "def pandigital_multiples_concat(number: int) -> int:\n",
    "    products = []\n",
    "    check_dict = {str(digit): False for digit in range(1,10)}\n",
    "    for multiply in range(1,10):\n",
    "        product = number*multiply\n",
    "        string_product = str(product)\n",
    "        \n",
    "        # Not a pandigital multiples if has 0 in product\n",
    "        if '0' in string_product:\n",
    "            return 0\n",
    "\n",
    "        products.append(product)\n",
    "        for char in string_product:\n",
    "            # If already marked, then exist duplicate digits\n",
    "            if check_dict[char] == True:\n",
    "                return 0\n",
    "            else:\n",
    "                check_dict[char] = True\n",
    "\n",
    "        if all(value for key,value in check_dict.items()):\n",
    "            return int(''.join(str(p) for p in products))"
   ]
  },
  {
   "cell_type": "code",
   "execution_count": 2,
   "id": "089eac19",
   "metadata": {},
   "outputs": [],
   "source": [
    "def solution():\n",
    "\treturn max(pandigital_multiples_concat(number) for number in range(10000))"
   ]
  },
  {
   "cell_type": "markdown",
   "id": "c85b4c7e",
   "metadata": {},
   "source": [
    "# Run"
   ]
  },
  {
   "cell_type": "code",
   "execution_count": 3,
   "id": "c7d4e790",
   "metadata": {},
   "outputs": [
    {
     "name": "stdout",
     "output_type": "stream",
     "text": [
      "CPU times: total: 0 ns\n",
      "Wall time: 24 ms\n"
     ]
    },
    {
     "data": {
      "text/plain": [
       "932718654"
      ]
     },
     "execution_count": 3,
     "metadata": {},
     "output_type": "execute_result"
    }
   ],
   "source": [
    "%%time\n",
    "solution()"
   ]
  }
 ],
 "metadata": {
  "kernelspec": {
   "display_name": "Python 3",
   "language": "python",
   "name": "python3"
  },
  "language_info": {
   "codemirror_mode": {
    "name": "ipython",
    "version": 3
   },
   "file_extension": ".py",
   "mimetype": "text/x-python",
   "name": "python",
   "nbconvert_exporter": "python",
   "pygments_lexer": "ipython3",
   "version": "3.11.4"
  }
 },
 "nbformat": 4,
 "nbformat_minor": 5
}
