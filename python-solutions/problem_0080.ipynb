{
 "cells": [
  {
   "cell_type": "markdown",
   "id": "2b270be1",
   "metadata": {},
   "source": [
    "# [Question 80](https://projecteuler.net/problem=80)"
   ]
  },
  {
   "cell_type": "markdown",
   "id": "fdb12408",
   "metadata": {},
   "source": [
    "## Square Root Digital Expansion\n",
    "It is well known that if the square root of a natural number is not an integer, then it is irrational. The decimal expansion of such square roots is infinite without any repeating pattern at all.<br>\n",
    "The square root of two is $1.41421356237309504880\\cdots$, and the digital sum of the first one hundred decimal digits is $475$.<br>\n",
    "For the first one hundred natural numbers, find the total of the digital sums of the first one hundred decimal digits for all the irrational square roots.<br>\n"
   ]
  },
  {
   "cell_type": "markdown",
   "id": "df583270",
   "metadata": {},
   "source": [
    "# Solution"
   ]
  },
  {
   "cell_type": "code",
   "execution_count": 25,
   "id": "4a01a0b9",
   "metadata": {},
   "outputs": [],
   "source": [
    "from decimal import *\n",
    "from snippet.euler_lib import is_square"
   ]
  },
  {
   "cell_type": "code",
   "execution_count": 26,
   "id": "072dff04",
   "metadata": {},
   "outputs": [],
   "source": [
    "def sum_100_digits(digit_string):\n",
    "    return sum(int(digit) for digit in digit_string[:100])"
   ]
  },
  {
   "cell_type": "code",
   "execution_count": 27,
   "id": "ac1581bc",
   "metadata": {},
   "outputs": [],
   "source": [
    "def solution():\n",
    "    getcontext().prec = 102\n",
    "    return sum(\n",
    "        sum_100_digits(str(Decimal(number).sqrt()).replace(\".\",\"\")) \n",
    "        for number in range(2, 100) \n",
    "        if not is_square(number)\n",
    "    )"
   ]
  },
  {
   "cell_type": "markdown",
   "id": "5cd3918f",
   "metadata": {},
   "source": [
    "# Run"
   ]
  },
  {
   "cell_type": "code",
   "execution_count": 28,
   "id": "f5ff24a2",
   "metadata": {},
   "outputs": [
    {
     "name": "stdout",
     "output_type": "stream",
     "text": [
      "CPU times: total: 0 ns\n",
      "Wall time: 87.7 ms\n"
     ]
    },
    {
     "data": {
      "text/plain": [
       "40886"
      ]
     },
     "execution_count": 28,
     "metadata": {},
     "output_type": "execute_result"
    }
   ],
   "source": [
    "%%time\n",
    "solution()"
   ]
  }
 ],
 "metadata": {
  "kernelspec": {
   "display_name": "Python 3",
   "language": "python",
   "name": "python3"
  },
  "language_info": {
   "codemirror_mode": {
    "name": "ipython",
    "version": 3
   },
   "file_extension": ".py",
   "mimetype": "text/x-python",
   "name": "python",
   "nbconvert_exporter": "python",
   "pygments_lexer": "ipython3",
   "version": "3.10.9"
  }
 },
 "nbformat": 4,
 "nbformat_minor": 5
}
