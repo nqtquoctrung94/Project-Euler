{
 "cells": [
  {
   "cell_type": "markdown",
   "id": "6050f646",
   "metadata": {},
   "source": [
    "# [Question 69](https://projecteuler.net/problem=69)"
   ]
  },
  {
   "cell_type": "markdown",
   "id": "ca518695",
   "metadata": {},
   "source": [
    "## Totient Maximum\n",
    "Euler's totient function, $\\phi(n)$ [sometimes called the phi function], is defined as the number of positive integers not exceeding $n$ which are relatively prime to $n$. For example, as $1$, $2$, $4$, $5$, $7$, and $8$, are all less than or equal to nine and relatively prime to nine, $\\phi(9)=6$.<br>\n",
    "\n",
    "| $n$ | Relatively Prime | $\\phi(n)$ | $n/\\phi(n)$ |\n",
    "|-----|------------------|-----------|-------------|\n",
    "|   2 |                1 |         1 |           2 |\n",
    "|   3 | 1,2              |         2 |         1.5 |\n",
    "|   4 | 1,3              |         2 |           2 |\n",
    "|   5 | 1,2,3,4          |         4 |        1.25 |\n",
    "|   6 | 1,5              |         2 |           3 |\n",
    "|   7 | 1,2,3,4,5,6      |         6 | 1.1666...   |\n",
    "|   8 | 1,3,5,7          |         4 |           2 |\n",
    "|   9 | 1,2,4,5,7,8      |         6 |         1.5 |\n",
    "|  10 | 1,3,7,9          |         4 |         2.5 |\n",
    "\n",
    "It can be seen that $n = 6$ produces a maximum $n/\\phi(n)$ for $n\\leq 10$.<br>\n",
    "Find the value of $n\\leq 1\\,000\\,000$ for which $n/\\phi(n)$ is a maximum.<br>\n"
   ]
  },
  {
   "cell_type": "markdown",
   "id": "129998be",
   "metadata": {},
   "source": [
    "# Solution"
   ]
  },
  {
   "cell_type": "code",
   "execution_count": null,
   "id": "e173563f",
   "metadata": {},
   "outputs": [],
   "source": [
    "def solution():\n",
    "    pass"
   ]
  },
  {
   "cell_type": "markdown",
   "id": "e98f45a2",
   "metadata": {},
   "source": [
    "# Run"
   ]
  },
  {
   "cell_type": "code",
   "execution_count": null,
   "id": "bffec88b",
   "metadata": {},
   "outputs": [],
   "source": [
    "%%time\n",
    "solution()"
   ]
  }
 ],
 "metadata": {
  "language_info": {
   "name": "python"
  }
 },
 "nbformat": 4,
 "nbformat_minor": 5
}
