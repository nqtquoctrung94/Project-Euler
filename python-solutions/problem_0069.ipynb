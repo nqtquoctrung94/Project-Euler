{
 "cells": [
  {
   "cell_type": "markdown",
   "id": "6050f646",
   "metadata": {},
   "source": [
    "# [Question 69](https://projecteuler.net/problem=69)"
   ]
  },
  {
   "cell_type": "markdown",
   "id": "ca518695",
   "metadata": {},
   "source": [
    "## Totient Maximum\n",
    "Euler's totient function, $\\phi(n)$ [sometimes called the phi function], is defined as the number of positive integers not exceeding $n$ which are relatively prime to $n$. For example, as $1$, $2$, $4$, $5$, $7$, and $8$, are all less than or equal to nine and relatively prime to nine, $\\phi(9)=6$.<br>\n",
    "\n",
    "| $n$ | Relatively Prime | $\\phi(n)$ | $n/\\phi(n)$ |\n",
    "|-----|------------------|-----------|-------------|\n",
    "|   2 |                1 |         1 |           2 |\n",
    "|   3 | 1,2              |         2 |         1.5 |\n",
    "|   4 | 1,3              |         2 |           2 |\n",
    "|   5 | 1,2,3,4          |         4 |        1.25 |\n",
    "|   6 | 1,5              |         2 |           3 |\n",
    "|   7 | 1,2,3,4,5,6      |         6 | 1.1666...   |\n",
    "|   8 | 1,3,5,7          |         4 |           2 |\n",
    "|   9 | 1,2,4,5,7,8      |         6 |         1.5 |\n",
    "|  10 | 1,3,7,9          |         4 |         2.5 |\n",
    "\n",
    "It can be seen that $n = 6$ produces a maximum $n/\\phi(n)$ for $n\\leq 10$.<br>\n",
    "Find the value of $n\\leq 1\\,000\\,000$ for which $n/\\phi(n)$ is a maximum.<br>\n"
   ]
  },
  {
   "cell_type": "markdown",
   "id": "129998be",
   "metadata": {},
   "source": [
    "# Solution"
   ]
  },
  {
   "cell_type": "markdown",
   "id": "2f94f29e",
   "metadata": {},
   "source": [
    "Reading list:\n",
    "- Wolfram: https://mathworld.wolfram.com/TotientFunction.html\n",
    "- Wiki: https://en.wikipedia.org/wiki/Euler%27s_totient_function"
   ]
  },
  {
   "cell_type": "markdown",
   "id": "2d8283eb",
   "metadata": {},
   "source": [
    "## Use sympy"
   ]
  },
  {
   "cell_type": "code",
   "execution_count": 48,
   "id": "b15ca860",
   "metadata": {},
   "outputs": [],
   "source": [
    "from sympy.ntheory.factor_ import totient\n",
    "# Document: https://docs.sympy.org/latest/modules/ntheory.html\n",
    "# Source code: https://github.com/sympy/sympy/blob/d2be7bacd2604e98a642f74028e8f0d7d6084f78/sympy/ntheory/factor_.py#L1905-L1981"
   ]
  },
  {
   "cell_type": "code",
   "execution_count": 49,
   "id": "e173563f",
   "metadata": {},
   "outputs": [],
   "source": [
    "def solution_sympy():\n",
    "    limit = 1000000\n",
    "    result = 1\n",
    "    max_fraction = 2\n",
    "    for n in range(1, limit+1):\n",
    "        fraction = n / totient(n)\n",
    "        if fraction > max_fraction:\n",
    "            result = n\n",
    "            max_fraction = fraction\n",
    "    return result"
   ]
  },
  {
   "cell_type": "markdown",
   "id": "7ebf4bf2",
   "metadata": {},
   "source": [
    "## Use primes"
   ]
  },
  {
   "cell_type": "code",
   "execution_count": 68,
   "id": "9c219f71",
   "metadata": {},
   "outputs": [],
   "source": [
    "from snippet.euler_lib import sieve_of_eratosthenes, is_prime"
   ]
  },
  {
   "cell_type": "code",
   "execution_count": 69,
   "id": "0cdb7ed0",
   "metadata": {},
   "outputs": [],
   "source": [
    "def phi_n(n, prime_list):\n",
    "    ## Adding is_prime check actually slowed down the process\n",
    "    # if is_prime(n):   \n",
    "    #     return n-1\n",
    "\n",
    "    result = n\n",
    "    for prime in prime_list:\n",
    "        if prime * prime > n:\n",
    "            break\n",
    "\n",
    "        if n % prime == 0:\n",
    "            while n % prime == 0:\n",
    "                n //= prime\n",
    "            result = result * (prime - 1) // prime\n",
    "    if n > 1:\n",
    "        result = result * (n - 1) // n\n",
    "    return result"
   ]
  },
  {
   "cell_type": "code",
   "execution_count": 70,
   "id": "6465b91e",
   "metadata": {},
   "outputs": [],
   "source": [
    "def solution_primes():\n",
    "    limit = 1000000\n",
    "    result = 1\n",
    "    max_fraction = 2\n",
    "    prime_list = sieve_of_eratosthenes(limit)\n",
    "\n",
    "    for n in range(1, limit+1):\n",
    "        fraction = n / phi_n(n, prime_list)\n",
    "        if fraction > max_fraction:\n",
    "            result = n\n",
    "            max_fraction = fraction\n",
    "    return result"
   ]
  },
  {
   "cell_type": "markdown",
   "id": "e98f45a2",
   "metadata": {},
   "source": [
    "# Run"
   ]
  },
  {
   "cell_type": "code",
   "execution_count": 53,
   "id": "bffec88b",
   "metadata": {},
   "outputs": [
    {
     "name": "stdout",
     "output_type": "stream",
     "text": [
      "CPU times: total: 1min 31s\n",
      "Wall time: 1min 38s\n"
     ]
    },
    {
     "data": {
      "text/plain": [
       "510510"
      ]
     },
     "execution_count": 53,
     "metadata": {},
     "output_type": "execute_result"
    }
   ],
   "source": [
    "%%time\n",
    "solution_sympy()"
   ]
  },
  {
   "cell_type": "code",
   "execution_count": 71,
   "id": "d01a6692",
   "metadata": {},
   "outputs": [
    {
     "name": "stdout",
     "output_type": "stream",
     "text": [
      "CPU times: total: 8.48 s\n",
      "Wall time: 9.23 s\n"
     ]
    },
    {
     "data": {
      "text/plain": [
       "510510"
      ]
     },
     "execution_count": 71,
     "metadata": {},
     "output_type": "execute_result"
    }
   ],
   "source": [
    "%%time\n",
    "solution_primes()"
   ]
  }
 ],
 "metadata": {
  "kernelspec": {
   "display_name": "base",
   "language": "python",
   "name": "python3"
  },
  "language_info": {
   "codemirror_mode": {
    "name": "ipython",
    "version": 3
   },
   "file_extension": ".py",
   "mimetype": "text/x-python",
   "name": "python",
   "nbconvert_exporter": "python",
   "pygments_lexer": "ipython3",
   "version": "3.10.9"
  }
 },
 "nbformat": 4,
 "nbformat_minor": 5
}
