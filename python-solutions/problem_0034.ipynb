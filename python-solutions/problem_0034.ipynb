{
 "cells": [
  {
   "cell_type": "markdown",
   "id": "beb1464f",
   "metadata": {},
   "source": [
    "# [Question 34](https://projecteuler.net/problem=34)"
   ]
  },
  {
   "cell_type": "markdown",
   "id": "7be6e937",
   "metadata": {},
   "source": [
    "## Digit Factorials\n",
    "$145$ is a curious number, as $1! + 4! + 5! = 1 + 24 + 120 = 145$.<br>\n",
    "Find the sum of all numbers which are equal to the sum of the factorial of their digits.<br>\n",
    "Note: As $1! = 1$ and $2! = 2$ are not sums they are not included.<br>\n"
   ]
  },
  {
   "cell_type": "markdown",
   "id": "cdc1af60",
   "metadata": {},
   "source": [
    "# Solution"
   ]
  },
  {
   "cell_type": "code",
   "execution_count": 18,
   "id": "291feb99",
   "metadata": {},
   "outputs": [],
   "source": [
    "import math"
   ]
  },
  {
   "cell_type": "code",
   "execution_count": 19,
   "id": "e1c2d253",
   "metadata": {},
   "outputs": [],
   "source": [
    "def is_equal_digit_factorial_sum(n: int, factorial_dict:dict) -> bool:\n",
    "    factorial_sum = sum(factorial_dict[digit] for digit in str(n))\n",
    "    return n == factorial_sum"
   ]
  },
  {
   "cell_type": "code",
   "execution_count": 20,
   "id": "6dff5a8b",
   "metadata": {},
   "outputs": [],
   "source": [
    "def solution():\n",
    "\t\"\"\" Let's check how high the factorial sum of a number with x digits can reach:\n",
    "\tx=0   max 0*9! = 0\n",
    "\tx=1   max 1*9! = 362880\n",
    "\tx=2   max 2*9! = 725760\t\n",
    "\tx=3   max 3*9! = 1088640\n",
    "\tx=4   max 4*9! = 1451520\n",
    "\tx=5   max 5*9! = 1814400\n",
    "\tx=6   max 6*9! = 2177280\n",
    "\tx=7   max 7*9! = 2540160\n",
    "\tThe max factorial sum of 8 digits onward is not high enough to read 8+ digits, so the maximum we want to search is up to 10^7-1\n",
    "\tx=8   max 8*9! = 2903040\n",
    "\tx=9   max 9*9! = 3265920\n",
    "\tx=10  max 10*9!= 3628800\n",
    "\t\"\"\"\n",
    "\tfactorial_dict = dict({str(number): math.factorial(number) for number in range(10)})\n",
    "\treturn sum(number for number in range(3,10**7) if is_equal_digit_factorial_sum(number,factorial_dict))"
   ]
  },
  {
   "cell_type": "markdown",
   "id": "c13b9e1e",
   "metadata": {},
   "source": [
    "# Run"
   ]
  },
  {
   "cell_type": "code",
   "execution_count": 21,
   "id": "ae20d8ee",
   "metadata": {},
   "outputs": [
    {
     "name": "stdout",
     "output_type": "stream",
     "text": [
      "CPU times: total: 6.22 s\n",
      "Wall time: 7.65 s\n"
     ]
    },
    {
     "data": {
      "text/plain": [
       "40730"
      ]
     },
     "execution_count": 21,
     "metadata": {},
     "output_type": "execute_result"
    }
   ],
   "source": [
    "%%time\n",
    "solution()"
   ]
  }
 ],
 "metadata": {
  "kernelspec": {
   "display_name": "Python 3",
   "language": "python",
   "name": "python3"
  },
  "language_info": {
   "codemirror_mode": {
    "name": "ipython",
    "version": 3
   },
   "file_extension": ".py",
   "mimetype": "text/x-python",
   "name": "python",
   "nbconvert_exporter": "python",
   "pygments_lexer": "ipython3",
   "version": "3.11.4"
  }
 },
 "nbformat": 4,
 "nbformat_minor": 5
}
