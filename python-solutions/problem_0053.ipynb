{
 "cells": [
  {
   "cell_type": "markdown",
   "id": "478a7cd7",
   "metadata": {},
   "source": [
    "# [Question 53](https://projecteuler.net/problem=53)"
   ]
  },
  {
   "cell_type": "markdown",
   "id": "e382bdd2",
   "metadata": {},
   "source": [
    "## Combinatoric Selections\n",
    "There are exactly ten ways of selecting three from five, 12345:<br>\n",
    "$123, 124, 125, 134, 135, 145, 234, 235, 245,$ and $345$\n",
    "\n",
    "\n",
    "In combinatorics, we use the notation, $\\displaystyle \\binom 5 3 = 10$.<br>\n",
    "In general, $\\displaystyle \\binom n r = \\dfrac{n!}{r!(n-r)!}$, where $r \\le n$, $n! = n \\times (n-1) \\times ... \\times 3 \\times 2 \\times 1$, and $0! = 1$.<br>\n",
    "<br>\n",
    "It is not until $n = 23$, that a value exceeds one-million: $\\displaystyle \\binom {23} {10} = 1144066$.<br>\n",
    "How many, not necessarily distinct, values of $\\displaystyle \\binom n r$ for $1 \\le n \\le 100$, are greater than one-million?<br>\n"
   ]
  },
  {
   "cell_type": "markdown",
   "id": "ed959ad8",
   "metadata": {},
   "source": [
    "# Solution"
   ]
  },
  {
   "cell_type": "code",
   "execution_count": 14,
   "id": "d2cf367b",
   "metadata": {},
   "outputs": [],
   "source": [
    "import math\n",
    "\n",
    "def combinatorics_func(n:int, r:int) -> int:\n",
    "    \"\"\"This function return the result for (n r)\"\"\"\n",
    "    return math.factorial(n) // (math.factorial(r) * math.factorial(n-r))\n",
    "\n",
    "def big_set_n_r(n: int) -> int:\n",
    "    \"\"\"This function count for any number of (n r) that higher than 1 million\"\"\"\n",
    "    return sum(1 for r in range(1, n) if combinatorics_func(n, r) >= 1000000)\n",
    "\n",
    "def solution():\n",
    "    return sum(big_set_n_r(n) for n in range(1,101))"
   ]
  },
  {
   "cell_type": "markdown",
   "id": "f6fd0d55",
   "metadata": {},
   "source": [
    "# Run"
   ]
  },
  {
   "cell_type": "code",
   "execution_count": 15,
   "id": "39eb817e",
   "metadata": {},
   "outputs": [
    {
     "name": "stdout",
     "output_type": "stream",
     "text": [
      "CPU times: total: 15.6 ms\n",
      "Wall time: 16 ms\n"
     ]
    },
    {
     "data": {
      "text/plain": [
       "4075"
      ]
     },
     "execution_count": 15,
     "metadata": {},
     "output_type": "execute_result"
    }
   ],
   "source": [
    "%%time\n",
    "solution()"
   ]
  }
 ],
 "metadata": {
  "kernelspec": {
   "display_name": "base",
   "language": "python",
   "name": "python3"
  },
  "language_info": {
   "codemirror_mode": {
    "name": "ipython",
    "version": 3
   },
   "file_extension": ".py",
   "mimetype": "text/x-python",
   "name": "python",
   "nbconvert_exporter": "python",
   "pygments_lexer": "ipython3",
   "version": "3.10.9"
  }
 },
 "nbformat": 4,
 "nbformat_minor": 5
}
