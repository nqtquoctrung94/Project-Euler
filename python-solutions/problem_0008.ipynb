{
 "cells": [
  {
   "attachments": {},
   "cell_type": "markdown",
   "id": "d24ddc0f",
   "metadata": {},
   "source": [
    "# [Question 8](https://projecteuler.net/problem=8)"
   ]
  },
  {
   "attachments": {},
   "cell_type": "markdown",
   "id": "d51cb63d",
   "metadata": {},
   "source": [
    "The four adjacent digits in the $1000$-digit number that have the greatest product are $9 \\times 9 \\times 8 \\times 9 = 5832$.<br>\n",
    "<br>\n",
    "73167176531330624919225119674426574742355349194934<br>\n",
    "96983520312774506326239578318016984801869478851843<br>\n",
    "85861560789112949495459501737958331952853208805511<br>\n",
    "12540698747158523863050715693290963295227443043557<br>\n",
    "66896648950445244523161731856403098711121722383113<br>\n",
    "62229893423380308135336276614282806444486645238749<br>\n",
    "30358907296290491560440772390713810515859307960866<br>\n",
    "70172427121883998797908792274921901699720888093776<br>\n",
    "65727333001053367881220235421809751254540594752243<br>\n",
    "52584907711670556013604839586446706324415722155397<br>\n",
    "53697817977846174064955149290862569321978468622482<br>\n",
    "83972241375657056057490261407972968652414535100474<br>\n",
    "82166370484403199890008895243450658541227588666881<br>\n",
    "16427171479924442928230863465674813919123162824586<br>\n",
    "17866458359124566529476545682848912883142607690042<br>\n",
    "24219022671055626321111109370544217506941658960408<br>\n",
    "07198403850962455444362981230987879927244284909188<br>\n",
    "84580156166097919133875499200524063689912560717606<br>\n",
    "05886116467109405077541002256983155200055935729725<br>\n",
    "71636269561882670428252483600823257530420752963450<br>\n",
    "Find the thirteen adjacent digits in the $1000$-digit number that have the greatest product. What is the value of this product?<br>\n"
   ]
  },
  {
   "attachments": {},
   "cell_type": "markdown",
   "id": "43f48cb3",
   "metadata": {},
   "source": [
    "# Solution"
   ]
  },
  {
   "cell_type": "code",
   "execution_count": 1,
   "id": "41aadf59",
   "metadata": {},
   "outputs": [],
   "source": [
    "input_n = \"7316717653133062491922511967442657474235534919493496983520312774506326239578318016984801869478851843858615607891129494954595017379583319528532088055111254069874715852386305071569329096329522744304355766896648950445244523161731856403098711121722383113622298934233803081353362766142828064444866452387493035890729629049156044077239071381051585930796086670172427121883998797908792274921901699720888093776657273330010533678812202354218097512545405947522435258490771167055601360483958644670632441572215539753697817977846174064955149290862569321978468622482839722413756570560574902614079729686524145351004748216637048440319989000889524345065854122758866688116427171479924442928230863465674813919123162824586178664583591245665294765456828489128831426076900422421902267105562632111110937054421750694165896040807198403850962455444362981230987879927244284909188845801561660979191338754992005240636899125607176060588611646710940507754100225698315520005593572972571636269561882670428252483600823257530420752963450\""
   ]
  },
  {
   "attachments": {},
   "cell_type": "markdown",
   "id": "c17a41c4",
   "metadata": {},
   "source": [
    "# Solution 1"
   ]
  },
  {
   "cell_type": "code",
   "execution_count": 2,
   "id": "a2f139b4",
   "metadata": {},
   "outputs": [],
   "source": [
    "def digit_product(substring_n: str) -> int:\n",
    "    product = 1\n",
    "    for digit in substring_n:\n",
    "        product *= int(digit)\n",
    "    return product\n",
    "\n",
    "def solution1():\n",
    "    '''The idea is to loop from [0:13] to [988:1001]\n",
    "    Skip if 0 in substring, because the product will be 0\n",
    "\tCalculate the product and compare with initial max_product = 0'''\n",
    "    max_product = 1\n",
    "    for i in range(989):\n",
    "        sub_n = input_n[i: i+13]\n",
    "        if '0' in sub_n :\n",
    "            continue\n",
    "\n",
    "        product = digit_product(sub_n)\n",
    "        if product > max_product:\n",
    "            max_product = product\n",
    "    return max_product"
   ]
  },
  {
   "attachments": {},
   "cell_type": "markdown",
   "id": "f5606416",
   "metadata": {},
   "source": [
    "# Solution 2 (one-liner with list comprehension)"
   ]
  },
  {
   "cell_type": "code",
   "execution_count": 3,
   "id": "32db2e3b",
   "metadata": {},
   "outputs": [],
   "source": [
    "import math\n",
    "def digit_product(substring_n: str) -> int:\n",
    "\treturn math.prod([int(digit) for digit in substring_n])\n",
    "\n",
    "def solution2():\n",
    "\treturn max([digit_product(input_n[i: i+13]) for i in range(0, len(input_n)-13+1)])"
   ]
  },
  {
   "attachments": {},
   "cell_type": "markdown",
   "id": "f45c7fa3",
   "metadata": {},
   "source": [
    "# Run"
   ]
  },
  {
   "cell_type": "code",
   "execution_count": 4,
   "id": "2fe303e0",
   "metadata": {},
   "outputs": [
    {
     "name": "stdout",
     "output_type": "stream",
     "text": [
      "CPU times: total: 0 ns\n",
      "Wall time: 0 ns\n"
     ]
    },
    {
     "data": {
      "text/plain": [
       "23514624000"
      ]
     },
     "execution_count": 4,
     "metadata": {},
     "output_type": "execute_result"
    }
   ],
   "source": [
    "%%time\n",
    "solution1()"
   ]
  },
  {
   "cell_type": "code",
   "execution_count": 5,
   "id": "e9dd4458",
   "metadata": {},
   "outputs": [
    {
     "name": "stdout",
     "output_type": "stream",
     "text": [
      "CPU times: total: 0 ns\n",
      "Wall time: 2 ms\n"
     ]
    },
    {
     "data": {
      "text/plain": [
       "23514624000"
      ]
     },
     "execution_count": 5,
     "metadata": {},
     "output_type": "execute_result"
    }
   ],
   "source": [
    "%%time\n",
    "solution2()"
   ]
  }
 ],
 "metadata": {
  "kernelspec": {
   "display_name": "Python 3",
   "language": "python",
   "name": "python3"
  },
  "language_info": {
   "codemirror_mode": {
    "name": "ipython",
    "version": 3
   },
   "file_extension": ".py",
   "mimetype": "text/x-python",
   "name": "python",
   "nbconvert_exporter": "python",
   "pygments_lexer": "ipython3",
   "version": "3.11.4"
  }
 },
 "nbformat": 4,
 "nbformat_minor": 5
}
