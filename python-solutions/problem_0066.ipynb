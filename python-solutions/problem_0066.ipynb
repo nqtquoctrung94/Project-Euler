{
 "cells": [
  {
   "cell_type": "markdown",
   "id": "5b0cf5d7",
   "metadata": {},
   "source": [
    "# [Question 66](https://projecteuler.net/problem=66)"
   ]
  },
  {
   "cell_type": "markdown",
   "id": "58dab378",
   "metadata": {},
   "source": [
    "## Diophantine Equation\n",
    "Consider quadratic Diophantine equations of the form:<br>\n",
    "$$x^2 - Dy^2 = 1$$\n",
    "\n",
    "For example, when $D=13$, the minimal solution in $x$ is $649^2 - 13 \\times 180^2 = 1$.<br>\n",
    "It can be assumed that there are no solutions in positive integers when $D$ is square.<br>\n",
    "By finding minimal solutions in $x$ for $D = \\{2, 3, 5, 6, 7\\}$, we obtain the following:<br>\n",
    "\n",
    "\\begin{align}\n",
    "3^2 - 2 \\times 2^2 &= 1\\\\\n",
    "2^2 - 3 \\times 1^2 &= 1\\\\\n",
    "{\\color{red}{\\mathbf 9}}^2 - 5 \\times 4^2 &= 1\\\\\n",
    "5^2 - 6 \\times 2^2 &= 1\\\\\n",
    "8^2 - 7 \\times 3^2 &= 1\n",
    "\\end{align}\n",
    "\n",
    "Hence, by considering minimal solutions in $x$ for $D \\le 7$, the largest $x$ is obtained when $D=5$.<br>\n",
    "Find the value of $D \\le 1000$ in minimal solutions of $x$ for which the largest value of $x$ is obtained.<br>\n"
   ]
  },
  {
   "cell_type": "markdown",
   "id": "f7f679a4",
   "metadata": {},
   "source": [
    "# Solution"
   ]
  },
  {
   "cell_type": "code",
   "execution_count": 1,
   "id": "92eee9f5",
   "metadata": {},
   "outputs": [],
   "source": [
    "from itertools import cycle\n",
    "from snippet.euler_lib import is_square"
   ]
  },
  {
   "cell_type": "code",
   "execution_count": 2,
   "id": "414022dd",
   "metadata": {},
   "outputs": [],
   "source": [
    "# Reuse the idea of continued fractions from Problem 64\n",
    "def sqrt_continued_fraction(number):\n",
    "    sqrt = int(number**0.5)\n",
    "    a,b,c = sqrt, -sqrt, 1\n",
    "    checked = set()\n",
    "    fractions = []\n",
    "\n",
    "    while True:\n",
    "        checked.add((a,b,c))\n",
    "        c = (number - b*b) // c\n",
    "        a = (sqrt - b) // c\n",
    "        b = -(b + a*c)\n",
    "        if (a,b,c) in checked:\n",
    "            break\n",
    "        fractions.append(a)\n",
    "\n",
    "    return sqrt, fractions"
   ]
  },
  {
   "cell_type": "code",
   "execution_count": 3,
   "id": "3535a98a",
   "metadata": {},
   "outputs": [],
   "source": [
    "# Reuse the idea of convergent from Problem 65\n",
    "# Idea of solving min x from https://en.wikipedia.org/wiki/Pell%27s_equation#Fundamental_solution_via_continued_fractions\n",
    "def pell_equation_min_x(D:int):\n",
    "    fractions_result = sqrt_continued_fraction(D)\n",
    "    a = fractions_result[0]\n",
    "    h_minus_2, h_minus_1, h = 0, 1, a\n",
    "    k_minus_2, k_minus_1, k = 1, 0, 1\n",
    "    \n",
    "    fractions = fractions_result[1]\n",
    "    cycle_fractions = cycle(fractions)\n",
    "    \n",
    "    while h**2 - D * k**2 != 1:\n",
    "        h_minus_2, h_minus_1 = h_minus_1, h\n",
    "        k_minus_2, k_minus_1 = k_minus_1, k\n",
    "\n",
    "        a = next(cycle_fractions)\n",
    "        h = (a * h_minus_1) + h_minus_2\n",
    "        k = (a * k_minus_1) + k_minus_2\n",
    "\n",
    "    return h"
   ]
  },
  {
   "cell_type": "code",
   "execution_count": 4,
   "id": "bfe1e5e6",
   "metadata": {},
   "outputs": [],
   "source": [
    "def solution():\n",
    "    min_xs = [pell_equation_min_x(D) if not is_square(D) else 0 for D in range(1001)]\n",
    "    return min_xs.index(max(min_xs))"
   ]
  },
  {
   "cell_type": "markdown",
   "id": "0bf75a35",
   "metadata": {},
   "source": [
    "# Run"
   ]
  },
  {
   "cell_type": "code",
   "execution_count": 5,
   "id": "f87a07d5",
   "metadata": {},
   "outputs": [
    {
     "name": "stdout",
     "output_type": "stream",
     "text": [
      "CPU times: total: 0 ns\n",
      "Wall time: 7 ms\n"
     ]
    },
    {
     "data": {
      "text/plain": [
       "661"
      ]
     },
     "execution_count": 5,
     "metadata": {},
     "output_type": "execute_result"
    }
   ],
   "source": [
    "%%time\n",
    "solution()"
   ]
  }
 ],
 "metadata": {
  "kernelspec": {
   "display_name": "base",
   "language": "python",
   "name": "python3"
  },
  "language_info": {
   "codemirror_mode": {
    "name": "ipython",
    "version": 3
   },
   "file_extension": ".py",
   "mimetype": "text/x-python",
   "name": "python",
   "nbconvert_exporter": "python",
   "pygments_lexer": "ipython3",
   "version": "3.11.4"
  }
 },
 "nbformat": 4,
 "nbformat_minor": 5
}
