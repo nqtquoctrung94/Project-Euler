{
 "cells": [
  {
   "cell_type": "markdown",
   "id": "a2ce3c06",
   "metadata": {},
   "source": [
    "# [Question 64](https://projecteuler.net/problem=64)"
   ]
  },
  {
   "cell_type": "markdown",
   "id": "bee42b74",
   "metadata": {},
   "source": [
    "## Odd Period Square Roots\n",
    "All square roots are periodic when written as continued fractions and can be written in the form:\n",
    "$$\\displaystyle \\quad \\quad \\sqrt{N}=a_0+\\frac 1 {a_1+\\frac 1 {a_2+ \\frac 1 {a_3+ \\dots}}}$$\n",
    "\n",
    "For example, let us consider $\\sqrt{23}:$\n",
    "\n",
    "$\\quad \\quad \\sqrt{23}=4+\\sqrt{23}-4=4+\\frac 1 {\\frac 1 {\\sqrt{23}-4}}=4+\\frac 1  {1+\\frac{\\sqrt{23}-3}7}$\n",
    "\n",
    "If we continue we would get the following expansion:<br>\n",
    "$\\displaystyle \\quad \\quad \\sqrt{23}=4+\\frac 1 {1+\\frac 1 {3+ \\frac 1 {1+\\frac 1 {8+ \\dots}}}}$\n",
    "\n",
    "The process can be summarised as follows:<br>\n",
    "$\\quad \\quad a_0=4, \\frac 1 {\\sqrt{23}-4}=\\frac {\\sqrt{23}+4} 7=1+\\frac {\\sqrt{23}-3} 7$\n",
    "\n",
    "$\\quad \\quad a_1=1, \\frac 7 {\\sqrt{23}-3}=\\frac {7(\\sqrt{23}+3)} {14}=3+\\frac {\\sqrt{23}-3} 2$\n",
    "\n",
    "$\\quad \\quad a_2=3, \\frac 2 {\\sqrt{23}-3}=\\frac {2(\\sqrt{23}+3)} {14}=1+\\frac {\\sqrt{23}-4} 7$\n",
    "\n",
    "$\\quad \\quad a_3=1, \\frac 7 {\\sqrt{23}-4}=\\frac {7(\\sqrt{23}+4)} 7=8+\\sqrt{23}-4$\n",
    "\n",
    "$\\quad \\quad a_4=8, \\frac 1 {\\sqrt{23}-4}=\\frac {\\sqrt{23}+4} 7=1+\\frac {\\sqrt{23}-3} 7$\n",
    "\n",
    "$\\quad \\quad a_5=1, \\frac 7 {\\sqrt{23}-3}=\\frac {7 (\\sqrt{23}+3)} {14}=3+\\frac {\\sqrt{23}-3} 2$\n",
    "\n",
    "$\\quad \\quad a_6=3, \\frac 2 {\\sqrt{23}-3}=\\frac {2(\\sqrt{23}+3)} {14}=1+\\frac {\\sqrt{23}-4} 7$\n",
    "\n",
    "$\\quad \\quad a_7=1, \\frac 7 {\\sqrt{23}-4}=\\frac {7(\\sqrt{23}+4)} {7}=8+\\sqrt{23}-4$\n",
    "\n",
    "\n",
    "It can be seen that the sequence is repeating. For conciseness, we use the notation $\\sqrt{23}=[4;(1,3,1,8)]$, to indicate that the block (1,3,1,8) repeats indefinitely.<br>\n",
    "The first ten continued fraction representations of (irrational) square roots are:<br>\n",
    "\n",
    "$\\quad \\quad \\sqrt{2}=[1;(2)]$, period=$1$\n",
    "\n",
    "$\\quad \\quad \\sqrt{3}=[1;(1,2)]$, period=$2$\n",
    "\n",
    "$\\quad \\quad \\sqrt{5}=[2;(4)]$, period=$1$\n",
    "\n",
    "$\\quad \\quad \\sqrt{6}=[2;(2,4)]$, period=$2$\n",
    "\n",
    "$\\quad \\quad \\sqrt{7}=[2;(1,1,1,4)]$, period=$4$\n",
    "\n",
    "$\\quad \\quad \\sqrt{8}=[2;(1,4)]$, period=$2$\n",
    "\n",
    "$\\quad \\quad \\sqrt{10}=[3;(6)]$, period=$1$\n",
    "\n",
    "$\\quad \\quad \\sqrt{11}=[3;(3,6)]$, period=$2$\n",
    "\n",
    "$\\quad \\quad \\sqrt{12}=[3;(2,6)]$, period=$2$\n",
    "\n",
    "$\\quad \\quad \\sqrt{13}=[3;(1,1,1,1,6)]$, period=$5$\n",
    "\n",
    "\n",
    "Exactly four continued fractions, for $N \\le 13$, have an odd period.<br>\n",
    "How many continued fractions for $N \\le 10\\,000$ have an odd period?<br>\n"
   ]
  },
  {
   "cell_type": "markdown",
   "id": "e2132897",
   "metadata": {},
   "source": [
    "# Solution"
   ]
  },
  {
   "cell_type": "markdown",
   "id": "c9a2daae",
   "metadata": {},
   "source": [
    "Experiment file: https://docs.google.com/spreadsheets/d/1GgR_vwmePd15eOmP2fDcRXi_ZwYgiwlOtpOLxA_DdCk/edit#gid=0"
   ]
  },
  {
   "cell_type": "code",
   "execution_count": 19,
   "id": "371a1d4a",
   "metadata": {},
   "outputs": [],
   "source": [
    "def has_odd_period(n):\n",
    "\n",
    "    result_dict = {\n",
    "        # (n, a, b, c): {\"a\":a,  \"b\":b,  \"c\":c },\n",
    "        # (n,a2,b2,c2): {\"a\":a2, \"b\":b2, \"c\":c2},\n",
    "    }\n",
    "\n",
    "    # Refer to experiment file to understand a,b,c\n",
    "    sqrt_round = int(n**(1/2))\n",
    "    a = sqrt_round\n",
    "    b = -sqrt_round\n",
    "    c = 1\n",
    "\n",
    "    while True:\n",
    "        c = (n - b*b) // c\n",
    "        if c == 0:\n",
    "            break   # If c = 0 then n is perfect square => break\n",
    "        a = (sqrt_round - b) // c\n",
    "        b = -b - (a*c)\n",
    "\n",
    "        key = (n, a, b, c)\n",
    "        if key in result_dict:\n",
    "            break\n",
    "        \n",
    "        result_dict[key] = {'n': n, 'a': a, 'b': b, 'c': c}\n",
    "\n",
    "    return len(result_dict.keys()) % 2 == 1"
   ]
  },
  {
   "cell_type": "code",
   "execution_count": 20,
   "id": "e2f23e89",
   "metadata": {},
   "outputs": [],
   "source": [
    "def solution():\n",
    "\treturn sum(1 for num in range(1, 10001) if has_odd_period(num))"
   ]
  },
  {
   "cell_type": "markdown",
   "id": "889afc5d",
   "metadata": {},
   "source": [
    "# Run"
   ]
  },
  {
   "cell_type": "code",
   "execution_count": 21,
   "id": "069919ce",
   "metadata": {},
   "outputs": [
    {
     "name": "stdout",
     "output_type": "stream",
     "text": [
      "CPU times: total: 0 ns\n",
      "Wall time: 103 ms\n"
     ]
    },
    {
     "data": {
      "text/plain": [
       "1322"
      ]
     },
     "execution_count": 21,
     "metadata": {},
     "output_type": "execute_result"
    }
   ],
   "source": [
    "%%time\n",
    "solution()"
   ]
  }
 ],
 "metadata": {
  "kernelspec": {
   "display_name": "Python 3",
   "language": "python",
   "name": "python3"
  },
  "language_info": {
   "codemirror_mode": {
    "name": "ipython",
    "version": 3
   },
   "file_extension": ".py",
   "mimetype": "text/x-python",
   "name": "python",
   "nbconvert_exporter": "python",
   "pygments_lexer": "ipython3",
   "version": "3.11.4"
  }
 },
 "nbformat": 4,
 "nbformat_minor": 5
}
