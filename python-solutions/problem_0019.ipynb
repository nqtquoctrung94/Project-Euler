{
 "cells": [
  {
   "attachments": {},
   "cell_type": "markdown",
   "id": "e364d6be",
   "metadata": {},
   "source": [
    "# [Question 19](https://projecteuler.net/problem=19)"
   ]
  },
  {
   "attachments": {},
   "cell_type": "markdown",
   "id": "dd2b79d2",
   "metadata": {},
   "source": [
    "## Counting Sundays\n",
    "\n",
    "<p>You are given the following information, but you may prefer to do some research for yourself.</p>\n",
    "<ul><li>1 Jan 1900 was a Monday.</li>\n",
    "<li>Thirty days has September,<br />\n",
    "April, June and November.<br />\n",
    "All the rest have thirty-one,<br />\n",
    "Saving February alone,<br />\n",
    "Which has twenty-eight, rain or shine.<br />\n",
    "And on leap years, twenty-nine.</li>\n",
    "<li>A leap year occurs on any year evenly divisible by 4, but not on a century unless it is divisible by 400.</li>\n",
    "</ul><p>How many Sundays fell on the first of the month during the twentieth century (1 Jan 1901 to 31 Dec 2000)?</p>"
   ]
  },
  {
   "attachments": {},
   "cell_type": "markdown",
   "id": "be91b7d1",
   "metadata": {},
   "source": [
    "# Solution"
   ]
  },
  {
   "attachments": {},
   "cell_type": "markdown",
   "id": "8e403b13",
   "metadata": {},
   "source": [
    "Short info:\n",
    "- Apr(04), Jun(06), Sep(09), Nov has 30 days\n",
    "- Jan(01), Mar(03), May(05), Jul(07), Aug(08), Oct(10), Dec(12) has 31 days\n",
    "- Feb has:\n",
    "    - 28 days on normal years\n",
    "    - 29 days on leap years, leap years is identified with:\n",
    "        - year (divisible by 4) and (not divisible by 100)\n",
    "        - or year (divisible by 400)"
   ]
  },
  {
   "attachments": {},
   "cell_type": "markdown",
   "id": "333e6aed",
   "metadata": {},
   "source": [
    "## Solution 1 - Use datetime package"
   ]
  },
  {
   "attachments": {},
   "cell_type": "markdown",
   "id": "f0d2963d",
   "metadata": {},
   "source": [
    "datetime weekday() function returns value as follow\n",
    "\n",
    "| Day of the week | weekday() |\n",
    "|:---------------:|:---------:|\n",
    "| Monday          |     0     |\n",
    "| Tuesday         |     1     |\n",
    "| Wednesday       |     2     |\n",
    "| Thursday        |     3     |\n",
    "| Friday          |     4     |\n",
    "| Saturday        |     5     |\n",
    "| Sunday          |     6     |"
   ]
  },
  {
   "cell_type": "code",
   "execution_count": 12,
   "id": "837bc007",
   "metadata": {},
   "outputs": [],
   "source": [
    "import datetime\n",
    "\n",
    "def next_sunday(date: datetime) -> datetime:\n",
    "\tcurrent_day_of_week = datetime.datetime.weekday(date)\n",
    "\treturn date + datetime.timedelta(days= 6 - current_day_of_week)\n",
    "\n",
    "def solution1():\n",
    "\tstart_day = datetime.datetime(year=1901, month=1, day=1)\n",
    "\tstart_day_sunday = next_sunday(start_day)\n",
    "\n",
    "\tend_day = datetime.datetime(year=2000, month=12, day=31)\n",
    "\tduration = ((end_day - start_day_sunday).days)\n",
    "\n",
    "\tweeks = duration // 7\n",
    "\tcounter = 0\n",
    "\tfor week in range(weeks+1):\n",
    "\t\tcheck_day = start_day_sunday + datetime.timedelta(days = 7*week)\n",
    "\t\tif check_day.day == 1:\n",
    "\t\t\tcounter += 1\n",
    "\treturn counter"
   ]
  },
  {
   "attachments": {},
   "cell_type": "markdown",
   "id": "1af7bd45",
   "metadata": {},
   "source": [
    "# Run"
   ]
  },
  {
   "cell_type": "code",
   "execution_count": 13,
   "id": "e4cac33c",
   "metadata": {},
   "outputs": [
    {
     "name": "stdout",
     "output_type": "stream",
     "text": [
      "CPU times: total: 0 ns\n",
      "Wall time: 3 ms\n"
     ]
    },
    {
     "data": {
      "text/plain": [
       "171"
      ]
     },
     "execution_count": 13,
     "metadata": {},
     "output_type": "execute_result"
    }
   ],
   "source": [
    "%%time\n",
    "solution1()"
   ]
  }
 ],
 "metadata": {
  "kernelspec": {
   "display_name": "Python 3",
   "language": "python",
   "name": "python3"
  },
  "language_info": {
   "codemirror_mode": {
    "name": "ipython",
    "version": 3
   },
   "file_extension": ".py",
   "mimetype": "text/x-python",
   "name": "python",
   "nbconvert_exporter": "python",
   "pygments_lexer": "ipython3",
   "version": "3.11.4"
  }
 },
 "nbformat": 4,
 "nbformat_minor": 5
}
