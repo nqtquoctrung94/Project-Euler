{
 "cells": [
  {
   "attachments": {},
   "cell_type": "markdown",
   "id": "9beb1170",
   "metadata": {},
   "source": [
    "# [Question 17](https://projecteuler.net/problem=17)"
   ]
  },
  {
   "attachments": {},
   "cell_type": "markdown",
   "id": "4a761dc3",
   "metadata": {},
   "source": [
    "## Number Letter Counts\n",
    "If the numbers $1$ to $5$ are written out in words: one, two, three, four, five, then there are $3 + 3 + 5 + 4 + 4 = 19$ letters used in total.<br>\n",
    "If all the numbers from $1$ to $1000$ (one thousand) inclusive were written out in words, how many letters would be used? <br>\n",
    "NOTE: Do not count spaces or hyphens. For example, $342$ (three hundred and forty-two) contains $23$ letters and $115$ (one hundred and fifteen) contains $20$ letters. The use of \"and\" when writing out numbers is in compliance with British usage.<br>\n"
   ]
  },
  {
   "attachments": {},
   "cell_type": "markdown",
   "id": "b9e56a62",
   "metadata": {},
   "source": [
    "# Solution"
   ]
  },
  {
   "cell_type": "code",
   "execution_count": 22,
   "id": "2fa4ee41",
   "metadata": {},
   "outputs": [],
   "source": [
    "number_spellings = {\n",
    "    1: \"one\",\n",
    "    2: \"two\",\n",
    "    3: \"three\",\n",
    "    4: \"four\",\n",
    "    5: \"five\",\n",
    "    6: \"six\",\n",
    "    7: \"seven\",\n",
    "    8: \"eight\",\n",
    "    9: \"nine\",\n",
    "    10: \"ten\",\n",
    "    11: \"eleven\",\n",
    "    12: \"twelve\",\n",
    "    13: \"thirteen\",\n",
    "    14: \"fourteen\",\n",
    "    15: \"fifteen\",\n",
    "    16: \"sixteen\",\n",
    "    17: \"seventeen\",\n",
    "    18: \"eighteen\",\n",
    "    19: \"nineteen\",\n",
    "    20: \"twenty\",\n",
    "    30: \"thirty\",\n",
    "    40: \"forty\",\n",
    "    50: \"fifty\",\n",
    "    60: \"sixty\",\n",
    "    70: \"seventy\",\n",
    "    80: \"eighty\",\n",
    "    90: \"ninety\",\n",
    "    \"_00\": \"hundred\",\n",
    "    \"_000\": \"thousand\"\n",
    "}"
   ]
  },
  {
   "cell_type": "code",
   "execution_count": 23,
   "id": "5faf5d0a",
   "metadata": {},
   "outputs": [],
   "source": [
    "def count_word_1_to_19(number: int, number_spellings: dict = number_spellings) -> int:\n",
    "\t\"\"\"Number from 1 to 20 are in the dictionary\"\"\"\n",
    "\treturn len(number_spellings[number])\n",
    "\n",
    "def count_word_20_to_99(number: int, number_spellings: dict = number_spellings) -> int:\n",
    "\t\"\"\"Number from 20 to 99 are the combination of: \n",
    "\t- Second digit: 20,30,...,90 and \n",
    "\t- First digit: 1,2,3,...,9\n",
    "\t\"\"\"\n",
    "\tsecond_digit = number // 10\n",
    "\tsecond_digit_letter = number_spellings[second_digit*10]\n",
    "\n",
    "\tfirst_digit = number % 10\n",
    "\tif first_digit == 0:\n",
    "\t\treturn len(second_digit_letter)\n",
    "\treturn len(second_digit_letter) + count_word_1_to_19(first_digit)\n",
    "\n",
    "def count_word_100_to_999(number: int, number_spellings: dict = number_spellings) -> int:\n",
    "\t\"\"\"Number from 100 to 999 is the combination of:\n",
    "\t- Third digit: 100,200,...,900 -> one to nine + 'hundred'\n",
    "\t- First and second digit -> use count from 1_to_20 and 21_to_99\n",
    "\t\"\"\"\n",
    "\tthird_digit = number // 100\n",
    "\tthird_digit_word_count = count_word_1_to_19(third_digit) + len('hundred')\n",
    "\n",
    "\tfirst_and_second_digit = number % 100\n",
    "\tif first_and_second_digit == 0:\n",
    "\t\treturn third_digit_word_count\n",
    "\tif first_and_second_digit in range(1, 20):\n",
    "\t\treturn third_digit_word_count + len('and') + count_word_1_to_19(first_and_second_digit)\n",
    "\treturn third_digit_word_count + len('and') + count_word_20_to_99(first_and_second_digit)\n",
    "\n",
    "def solution():\n",
    "\ttotal_word_count = 0\n",
    "\tfor i in range(1, 20): total_word_count += count_word_1_to_19(i)\n",
    "\tfor i in range(20, 100): total_word_count += count_word_20_to_99(i)\n",
    "\tfor i in range(100, 1000): total_word_count += count_word_100_to_999(i)\n",
    "\ttotal_word_count += len('one') + len('thousand')\n",
    "\treturn total_word_count"
   ]
  },
  {
   "attachments": {},
   "cell_type": "markdown",
   "id": "e71ed886",
   "metadata": {},
   "source": [
    "# Run"
   ]
  },
  {
   "cell_type": "code",
   "execution_count": 24,
   "id": "9a8de56e",
   "metadata": {},
   "outputs": [
    {
     "name": "stdout",
     "output_type": "stream",
     "text": [
      "CPU times: total: 0 ns\n",
      "Wall time: 0 ns\n"
     ]
    },
    {
     "data": {
      "text/plain": [
       "21124"
      ]
     },
     "execution_count": 24,
     "metadata": {},
     "output_type": "execute_result"
    }
   ],
   "source": [
    "%%time\n",
    "solution()"
   ]
  }
 ],
 "metadata": {
  "kernelspec": {
   "display_name": "Python 3",
   "language": "python",
   "name": "python3"
  },
  "language_info": {
   "codemirror_mode": {
    "name": "ipython",
    "version": 3
   },
   "file_extension": ".py",
   "mimetype": "text/x-python",
   "name": "python",
   "nbconvert_exporter": "python",
   "pygments_lexer": "ipython3",
   "version": "3.11.4"
  }
 },
 "nbformat": 4,
 "nbformat_minor": 5
}
