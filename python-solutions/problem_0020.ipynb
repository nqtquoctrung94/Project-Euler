{
 "cells": [
  {
   "cell_type": "markdown",
   "id": "5eb5670d",
   "metadata": {},
   "source": [
    "# [Question 20](https://projecteuler.net/problem=20)"
   ]
  },
  {
   "cell_type": "markdown",
   "id": "222c48f1",
   "metadata": {},
   "source": [
    "## Factorial Digit Sum\n",
    "$n!$ means $n \\times (n - 1) \\times \\cdots \\times 3 \\times 2 \\times 1$.<br>\n",
    "For example, $10! = 10 \\times 9 \\times \\cdots \\times 3 \\times 2 \\times 1 = 3628800$,and the sum of the digits in the number $10!$ is $3 + 6 + 2 + 8 + 8 + 0 + 0 = 27$.<br>\n",
    "Find the sum of the digits in the number $100!$.<br>\n"
   ]
  },
  {
   "cell_type": "markdown",
   "id": "fbca5a3a",
   "metadata": {},
   "source": [
    "# Solution"
   ]
  },
  {
   "cell_type": "code",
   "execution_count": 2,
   "id": "7518f306",
   "metadata": {},
   "outputs": [],
   "source": [
    "import math\n",
    "\n",
    "def solution():\n",
    "    number = math.factorial(100)\n",
    "\n",
    "    total_digit_sum = 0\n",
    "    while number > 0:\n",
    "        total_digit_sum += number % 10\n",
    "        number = number // 10\n",
    "\n",
    "    return total_digit_sum"
   ]
  },
  {
   "cell_type": "markdown",
   "id": "c0c70b6b",
   "metadata": {},
   "source": [
    "# Run"
   ]
  },
  {
   "cell_type": "code",
   "execution_count": 3,
   "id": "82b79838",
   "metadata": {},
   "outputs": [
    {
     "name": "stdout",
     "output_type": "stream",
     "text": [
      "CPU times: total: 0 ns\n",
      "Wall time: 0 ns\n"
     ]
    },
    {
     "data": {
      "text/plain": [
       "648"
      ]
     },
     "execution_count": 3,
     "metadata": {},
     "output_type": "execute_result"
    }
   ],
   "source": [
    "%%time\n",
    "solution()"
   ]
  }
 ],
 "metadata": {
  "kernelspec": {
   "display_name": "base",
   "language": "python",
   "name": "python3"
  },
  "language_info": {
   "codemirror_mode": {
    "name": "ipython",
    "version": 3
   },
   "file_extension": ".py",
   "mimetype": "text/x-python",
   "name": "python",
   "nbconvert_exporter": "python",
   "pygments_lexer": "ipython3",
   "version": "3.10.9"
  }
 },
 "nbformat": 4,
 "nbformat_minor": 5
}
