{
 "cells": [
  {
   "attachments": {},
   "cell_type": "markdown",
   "id": "f1ffb771",
   "metadata": {},
   "source": [
    "# [Question 14](https://projecteuler.net/problem=14)"
   ]
  },
  {
   "attachments": {},
   "cell_type": "markdown",
   "id": "ac59997e",
   "metadata": {},
   "source": [
    "## Longest Collatz Sequence\n",
    "The following iterative sequence is defined for the set of positive integers:<br>\n",
    "<br>\n",
    "$n \\to n/2$ ($n$ is even)<br>\n",
    "$n \\to 3n + 1$ ($n$ is odd)<br>\n",
    "Using the rule above and starting with $13$, we generate the following sequence:<br>\n",
    "$$13 \\to 40 \\to 20 \\to 10 \\to 5 \\to 16 \\to 8 \\to 4 \\to 2 \\to 1.$$\n",
    "\n",
    "It can be seen that this sequence (starting at $13$ and finishing at $1$) contains $10$ terms. Although it has not been proved yet (Collatz Problem), it is thought that all starting numbers finish at $1$.<br>\n",
    "Which starting number, under one million, produces the longest chain?<br>\n",
    "**NOTE**: Once the chain starts the terms are allowed to go above one million.<br>\n"
   ]
  },
  {
   "attachments": {},
   "cell_type": "markdown",
   "id": "24b74115",
   "metadata": {},
   "source": [
    "# Solution"
   ]
  },
  {
   "cell_type": "code",
   "execution_count": 9,
   "id": "a5db7cda",
   "metadata": {},
   "outputs": [],
   "source": [
    "from euler_lib import is_even\n",
    "\n",
    "def calculate_chain(number:int, chain_dict:dict) -> int:\n",
    "    \"\"\"This recursive function return the chain number of the current number = chain(next_number) + 1\"\"\"\n",
    "    if number not in chain_dict.keys():\n",
    "        if is_even(number):\n",
    "            next_number = number//2\n",
    "        else:\n",
    "            next_number = 3*number + 1\n",
    "        chain_dict[number] = calculate_chain(next_number, chain_dict) + 1\n",
    "    return chain_dict[number]\n",
    "\n",
    "def solution():\n",
    "\tchain_dict = {1: 0}\n",
    "\t[calculate_chain(i, chain_dict) for i in range(1, 1000000)]\n",
    "\treturn max(chain_dict, key=chain_dict.get)\n"
   ]
  },
  {
   "attachments": {},
   "cell_type": "markdown",
   "id": "baa7f176",
   "metadata": {},
   "source": [
    "# Run"
   ]
  },
  {
   "cell_type": "code",
   "execution_count": 10,
   "id": "a0abaca0",
   "metadata": {},
   "outputs": [
    {
     "name": "stdout",
     "output_type": "stream",
     "text": [
      "CPU times: total: 5.48 s\n",
      "Wall time: 7.49 s\n"
     ]
    },
    {
     "data": {
      "text/plain": [
       "837799"
      ]
     },
     "execution_count": 10,
     "metadata": {},
     "output_type": "execute_result"
    }
   ],
   "source": [
    "%%time\n",
    "solution()"
   ]
  }
 ],
 "metadata": {
  "kernelspec": {
   "display_name": "base",
   "language": "python",
   "name": "python3"
  },
  "language_info": {
   "codemirror_mode": {
    "name": "ipython",
    "version": 3
   },
   "file_extension": ".py",
   "mimetype": "text/x-python",
   "name": "python",
   "nbconvert_exporter": "python",
   "pygments_lexer": "ipython3",
   "version": "3.10.9"
  }
 },
 "nbformat": 4,
 "nbformat_minor": 5
}
