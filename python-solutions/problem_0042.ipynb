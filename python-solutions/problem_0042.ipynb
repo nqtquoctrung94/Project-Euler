{
 "cells": [
  {
   "cell_type": "markdown",
   "id": "692609a7",
   "metadata": {},
   "source": [
    "# [Question 42](https://projecteuler.net/problem=42)"
   ]
  },
  {
   "cell_type": "markdown",
   "id": "aa6b487c",
   "metadata": {},
   "source": [
    "## Coded Triangle Numbers\n",
    "The $n$ th term of the sequence of triangle numbers is given by, $t_n = \\frac12n(n+1)$; so the first ten triangle numbers are:<br>\n",
    "$$1, 3, 6, 10, 15, 21, 28, 36, 45, 55, \\dots$$\n",
    "\n",
    "By converting each letter in a word to a number corresponding to its alphabetical position and adding these values we form a word value. For example, the word value for SKY is $19 + 11 + 25 = 55 = t_{10}$. If the word value is a triangle number then we shall call the word a triangle word.<br>\n",
    "Using [words.txt](https://projecteuler.net/resources/documents/0042_words.txt), a 16K text file containing nearly two-thousand common English words, how many are triangle words?<br>\n"
   ]
  },
  {
   "cell_type": "markdown",
   "id": "81fc5769",
   "metadata": {},
   "source": [
    "# Solution"
   ]
  },
  {
   "cell_type": "code",
   "execution_count": 1,
   "id": "2787a149",
   "metadata": {},
   "outputs": [],
   "source": [
    "from snippet.euler_lib import is_triangular_number\n",
    "\n",
    "def read_file() -> list:\n",
    "    \"\"\"This function read input file and return the list of words ['MARY','PATRICIA',...]\"\"\"\n",
    "    with open(r'input files\\0042_words.txt', 'r') as file:\n",
    "        file_content = file.read()\n",
    "    file_content = file_content.replace('\"','')\n",
    "    words = file_content.split(\",\")\n",
    "    return words\n",
    "    \n",
    "def create_character_value_dict() -> dict:\n",
    "    \"\"\"This function create a dictionary {\"A\":1, \"B\":2, .....,\"Z\":26}\"\"\"\n",
    "    character = [chr(i) for i in range(ord('A'), ord('Z') + 1)]\n",
    "    character_dict = dict({char: value+1 for value,char in enumerate(character)})\n",
    "    return character_dict\n",
    "\n",
    "def word_score(word:str, character_value:dict) -> int:\n",
    "    \"\"\"This function map each character in word to the dictionary, then compute sum\"\"\"\n",
    "    return sum(character_value[char] for char in word)"
   ]
  },
  {
   "cell_type": "code",
   "execution_count": 4,
   "id": "b43ac0e6",
   "metadata": {},
   "outputs": [],
   "source": [
    "def solution():\n",
    "    word_count = 0\n",
    "    words = read_file()\n",
    "    char_dict = create_character_value_dict()\n",
    "    for word in words:\n",
    "        score = word_score(word, char_dict)\n",
    "        if is_triangular_number(score):\n",
    "            word_count += 1\n",
    "    return word_count"
   ]
  },
  {
   "cell_type": "markdown",
   "id": "2ca59015",
   "metadata": {},
   "source": [
    "# Run"
   ]
  },
  {
   "cell_type": "code",
   "execution_count": 5,
   "id": "e3f0945c",
   "metadata": {},
   "outputs": [
    {
     "name": "stdout",
     "output_type": "stream",
     "text": [
      "CPU times: total: 0 ns\n",
      "Wall time: 3.99 ms\n"
     ]
    },
    {
     "data": {
      "text/plain": [
       "162"
      ]
     },
     "execution_count": 5,
     "metadata": {},
     "output_type": "execute_result"
    }
   ],
   "source": [
    "%%time\n",
    "solution()"
   ]
  }
 ],
 "metadata": {
  "kernelspec": {
   "display_name": "base",
   "language": "python",
   "name": "python3"
  },
  "language_info": {
   "codemirror_mode": {
    "name": "ipython",
    "version": 3
   },
   "file_extension": ".py",
   "mimetype": "text/x-python",
   "name": "python",
   "nbconvert_exporter": "python",
   "pygments_lexer": "ipython3",
   "version": "3.10.9"
  }
 },
 "nbformat": 4,
 "nbformat_minor": 5
}
