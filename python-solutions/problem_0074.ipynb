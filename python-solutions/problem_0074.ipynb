{
 "cells": [
  {
   "cell_type": "markdown",
   "id": "f87db696",
   "metadata": {},
   "source": [
    "# [Question 74](https://projecteuler.net/problem=74)"
   ]
  },
  {
   "cell_type": "markdown",
   "id": "65b37c21",
   "metadata": {},
   "source": [
    "## Digit Factorial Chains\n",
    "The number $145$ is well known for the property that the sum of the factorial of its digits is equal to $145$:<br>\n",
    "$$1! + 4! + 5! = 1 + 24 + 120 = 145.$$\n",
    "\n",
    "Perhaps less well known is $169$, in that it produces the longest chain of numbers that link back to $169$; it turns out that there are only three such loops that exist:<br>\n",
    "\\begin{align}\n",
    "&169 \\to 363601 \\to 1454 \\to 169\\\\\n",
    "&871 \\to 45361 \\to 871\\\\\n",
    "&872 \\to 45362 \\to 872\n",
    "\\end{align}\n",
    "It is not difficult to prove that EVERY starting number will eventually get stuck in a loop. For example,<br>\n",
    "\\begin{align}\n",
    "&69 \\to 363600 \\to 1454 \\to 169 \\to 363601 (\\to 1454)\\\\\n",
    "&78 \\to 45360 \\to 871 \\to 45361 (\\to 871)\\\\\n",
    "&540 \\to 145 (\\to 145)\n",
    "\\end{align}\n",
    "Starting with $69$ produces a chain of five non-repeating terms, but the longest non-repeating chain with a starting number below one million is sixty terms.<br>\n",
    "How many chains, with a starting number below one million, contain exactly sixty non-repeating terms?<br>\n"
   ]
  },
  {
   "cell_type": "markdown",
   "id": "5e818b9c",
   "metadata": {},
   "source": [
    "# Solution"
   ]
  },
  {
   "cell_type": "code",
   "execution_count": 40,
   "id": "677f3b42",
   "metadata": {},
   "outputs": [],
   "source": [
    "import math\n",
    "\n",
    "def sum_of_factorial(num, factorial_dict) -> int:\n",
    "    return sum([factorial_dict[int(digit)] for digit in str(num)])\n",
    "\n",
    "def sequence_lenght(num, sequence_dict, factorial_dict) -> int:\n",
    "    if num in sequence_dict:\n",
    "        return\n",
    "    \n",
    "    current_num = num\n",
    "    check_list = [num]\n",
    "    check_list_size = 1\n",
    "    while True:\n",
    "        next_num = sum_of_factorial(current_num, factorial_dict)\n",
    "        # Found closed loop\n",
    "        if next_num == num:\n",
    "            for n in check_list:\n",
    "                sequence_dict[n] = check_list_size\n",
    "            return\n",
    "\n",
    "        # original_num is branch of known loop\n",
    "        if next_num in sequence_dict:\n",
    "            for index, n in enumerate(check_list):\n",
    "                sequence_dict[n] = check_list_size - index + sequence_dict[next_num]\n",
    "            return\n",
    "        \n",
    "        # found new banch and new loop\n",
    "        if next_num in check_list:\n",
    "            loop_start_index = check_list.index(next_num) \n",
    "            for index, n in enumerate(check_list):\n",
    "                sequence_dict[n] = max( \n",
    "                    check_list_size - index,             # For numbers in branch\n",
    "                    check_list_size - loop_start_index   # For numbers in loop\n",
    "                )\n",
    "            return\n",
    "        \n",
    "        check_list.append(next_num)\n",
    "        check_list_size += 1\n",
    "        current_num = next_num\n",
    "\n",
    "def get_sequence_dict(limit):\n",
    "    factorial_dict = {num: math.factorial(num) for num in range(10)}\n",
    "    sequence_dict = dict()\n",
    "    for number in range(limit):\n",
    "        sequence_lenght(number, sequence_dict, factorial_dict)\n",
    "    return sequence_dict\n",
    "\n",
    "def solution():\n",
    "    result_dict = get_sequence_dict(1_000_000)\n",
    "    return sum([1 for key,value in result_dict.items() if value == 60])"
   ]
  },
  {
   "cell_type": "markdown",
   "id": "ce7b86c9",
   "metadata": {},
   "source": [
    "# Run"
   ]
  },
  {
   "cell_type": "code",
   "execution_count": 41,
   "id": "4d9f6d67",
   "metadata": {},
   "outputs": [
    {
     "name": "stdout",
     "output_type": "stream",
     "text": [
      "CPU times: total: 4.64 s\n",
      "Wall time: 5.23 s\n"
     ]
    },
    {
     "data": {
      "text/plain": [
       "402"
      ]
     },
     "execution_count": 41,
     "metadata": {},
     "output_type": "execute_result"
    }
   ],
   "source": [
    "%%time\n",
    "solution()"
   ]
  }
 ],
 "metadata": {
  "kernelspec": {
   "display_name": "base",
   "language": "python",
   "name": "python3"
  },
  "language_info": {
   "codemirror_mode": {
    "name": "ipython",
    "version": 3
   },
   "file_extension": ".py",
   "mimetype": "text/x-python",
   "name": "python",
   "nbconvert_exporter": "python",
   "pygments_lexer": "ipython3",
   "version": "3.10.9"
  }
 },
 "nbformat": 4,
 "nbformat_minor": 5
}
