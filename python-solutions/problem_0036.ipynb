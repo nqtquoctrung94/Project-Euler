{
 "cells": [
  {
   "cell_type": "markdown",
   "id": "024a259d",
   "metadata": {},
   "source": [
    "# [Question 36](https://projecteuler.net/problem=36)"
   ]
  },
  {
   "cell_type": "markdown",
   "id": "f01ade51",
   "metadata": {},
   "source": [
    "## Double-base Palindromes\n",
    "The decimal number, $585 = 1001001001_2$ (binary), is palindromic in both bases.<br>\n",
    "Find the sum of all numbers, less than one million, which are palindromic in base $10$ and base $2$.<br>\n",
    "(Please note that the palindromic number, in either base, may not include leading zeros.)<br>\n"
   ]
  },
  {
   "cell_type": "markdown",
   "id": "de601baa",
   "metadata": {},
   "source": [
    "# Solution"
   ]
  },
  {
   "cell_type": "code",
   "execution_count": 1,
   "id": "df92be4a",
   "metadata": {},
   "outputs": [],
   "source": [
    "from snippet.euler_lib import is_palindromic"
   ]
  },
  {
   "cell_type": "code",
   "execution_count": 2,
   "id": "3dc9035a",
   "metadata": {},
   "outputs": [],
   "source": [
    "def decimal_to_binary(number:int) -> int:\n",
    "    return int(bin(number)[2:])"
   ]
  },
  {
   "cell_type": "code",
   "execution_count": 3,
   "id": "df409155",
   "metadata": {},
   "outputs": [],
   "source": [
    "def solution():\n",
    "    limit = 1000000\n",
    "    total = 0\n",
    "    return sum(number for number in range(limit) if is_palindromic(number) and is_palindromic(decimal_to_binary(number)))"
   ]
  },
  {
   "cell_type": "markdown",
   "id": "0beb6bb5",
   "metadata": {},
   "source": [
    "# Run"
   ]
  },
  {
   "cell_type": "code",
   "execution_count": 4,
   "id": "795c5362",
   "metadata": {},
   "outputs": [
    {
     "name": "stdout",
     "output_type": "stream",
     "text": [
      "CPU times: total: 78.1 ms\n",
      "Wall time: 200 ms\n"
     ]
    },
    {
     "data": {
      "text/plain": [
       "872187"
      ]
     },
     "execution_count": 4,
     "metadata": {},
     "output_type": "execute_result"
    }
   ],
   "source": [
    "%%time\n",
    "solution()"
   ]
  }
 ],
 "metadata": {
  "kernelspec": {
   "display_name": "Python 3",
   "language": "python",
   "name": "python3"
  },
  "language_info": {
   "codemirror_mode": {
    "name": "ipython",
    "version": 3
   },
   "file_extension": ".py",
   "mimetype": "text/x-python",
   "name": "python",
   "nbconvert_exporter": "python",
   "pygments_lexer": "ipython3",
   "version": "3.11.4"
  }
 },
 "nbformat": 4,
 "nbformat_minor": 5
}
