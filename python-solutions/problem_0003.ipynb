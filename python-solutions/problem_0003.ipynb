{
 "cells": [
  {
   "attachments": {},
   "cell_type": "markdown",
   "id": "25a05ca4",
   "metadata": {},
   "source": [
    "# [Question 3](https://projecteuler.net/problem=3)"
   ]
  },
  {
   "attachments": {},
   "cell_type": "markdown",
   "id": "0c480caf",
   "metadata": {},
   "source": [
    "The prime factors of $13195$ are $5, 7, 13$ and $29$.<br>\n",
    "What is the largest prime factor of the number $600851475143$?<br>\n"
   ]
  },
  {
   "attachments": {},
   "cell_type": "markdown",
   "id": "b9f07cc8",
   "metadata": {},
   "source": [
    "# Solution"
   ]
  },
  {
   "attachments": {},
   "cell_type": "markdown",
   "id": "92e411b6",
   "metadata": {},
   "source": [
    "## Solution 1"
   ]
  },
  {
   "cell_type": "code",
   "execution_count": 63,
   "id": "4bcc14bc",
   "metadata": {},
   "outputs": [],
   "source": [
    "from euler_lib import Sieve_of_Eratosthenes as sieve\n",
    "from euler_lib import is_prime\n",
    "import math\n",
    "\n",
    "def solution1():\n",
    "\t'''This solution create the prime list from 2 to square root of n, \n",
    "\tthen loop for each prime to check\n",
    "\t'''\n",
    "\tn = 600851475143\n",
    "\n",
    "\tif is_prime(n):\n",
    "\t\treturn n\n",
    "\n",
    "\tlimit = math.isqrt(n)\n",
    "\tprime_list = sieve(limit)\n",
    "\n",
    "\tremainder = n\n",
    "\tlargest_prime = 1\n",
    "\n",
    "\tfor prime in prime_list:\n",
    "\t\t# This also account if remainder = 1\n",
    "\t\tif prime > remainder:\n",
    "\t\t\tbreak\n",
    "\n",
    "\t\twhile (remainder % prime == 0):\n",
    "\t\t\t# Divide the remainer until it turns to 1 or not divisible by current prime anymore\n",
    "\t\t\tremainder = remainder // prime\n",
    "\n",
    "\t\t\t# Since we loop the prime list in ascending order, the later prime will be large than previous numbers, so just straight up update is fine\n",
    "\t\t\tlargest_prime = prime\n",
    "\t\t\t\n",
    "\treturn max(remainder, largest_prime)"
   ]
  },
  {
   "attachments": {},
   "cell_type": "markdown",
   "id": "cdc739b4",
   "metadata": {},
   "source": [
    "## Solution 2"
   ]
  },
  {
   "cell_type": "code",
   "execution_count": 64,
   "id": "849d54f3",
   "metadata": {},
   "outputs": [],
   "source": [
    "from euler_lib import is_prime\n",
    "\n",
    "def solution2():\n",
    "    '''This solution first check for divisible by 2, \n",
    "    then check for divisible by all odd numbers from 3 to square root of n\n",
    "    '''\n",
    "    n = 600851475143\n",
    "\n",
    "    if is_prime(n):\n",
    "        return n\n",
    "    \n",
    "    remainder = n\n",
    "    largest_prime = 2\n",
    "\n",
    "    while (remainder % 2 == 0):\n",
    "        remainder = remainder // 2\n",
    "\n",
    "    current_prime = 3\n",
    "    while (current_prime**2 < remainder):\n",
    "        \n",
    "        # Divide the remainder until it becomes 1 or not divisible by current_prime\n",
    "        while (remainder % current_prime == 0):\n",
    "            remainder = remainder // current_prime\n",
    "            largest_prime = current_prime\n",
    "\n",
    "        current_prime += 2\n",
    "\n",
    "    return max(remainder, largest_prime)"
   ]
  },
  {
   "attachments": {},
   "cell_type": "markdown",
   "id": "edce9431",
   "metadata": {},
   "source": [
    "# Run"
   ]
  },
  {
   "cell_type": "code",
   "execution_count": 65,
   "id": "42666b20",
   "metadata": {},
   "outputs": [
    {
     "name": "stdout",
     "output_type": "stream",
     "text": [
      "CPU times: total: 78.1 ms\n",
      "Wall time: 102 ms\n"
     ]
    },
    {
     "data": {
      "text/plain": [
       "6857"
      ]
     },
     "execution_count": 65,
     "metadata": {},
     "output_type": "execute_result"
    }
   ],
   "source": [
    "%%time\n",
    "solution1()"
   ]
  },
  {
   "cell_type": "code",
   "execution_count": 66,
   "id": "8d0bbe19",
   "metadata": {},
   "outputs": [
    {
     "name": "stdout",
     "output_type": "stream",
     "text": [
      "CPU times: total: 0 ns\n",
      "Wall time: 0 ns\n"
     ]
    },
    {
     "data": {
      "text/plain": [
       "6857"
      ]
     },
     "execution_count": 66,
     "metadata": {},
     "output_type": "execute_result"
    }
   ],
   "source": [
    "%%time\n",
    "solution2()"
   ]
  }
 ],
 "metadata": {
  "kernelspec": {
   "display_name": "Python 3",
   "language": "python",
   "name": "python3"
  },
  "language_info": {
   "codemirror_mode": {
    "name": "ipython",
    "version": 3
   },
   "file_extension": ".py",
   "mimetype": "text/x-python",
   "name": "python",
   "nbconvert_exporter": "python",
   "pygments_lexer": "ipython3",
   "version": "3.11.4"
  }
 },
 "nbformat": 4,
 "nbformat_minor": 5
}
