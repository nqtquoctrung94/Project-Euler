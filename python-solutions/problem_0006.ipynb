{
 "cells": [
  {
   "attachments": {},
   "cell_type": "markdown",
   "id": "78e6a345",
   "metadata": {},
   "source": [
    "# [Question 6](https://projecteuler.net/problem=6)"
   ]
  },
  {
   "attachments": {},
   "cell_type": "markdown",
   "id": "82cada32",
   "metadata": {},
   "source": [
    "The sum of the squares of the first ten natural numbers is,<br>\n",
    "$$1^2 + 2^2 + ... + 10^2 = 385.$$\n",
    "\n",
    "The square of the sum of the first ten natural numbers is,<br>\n",
    "$$(1 + 2 + ... + 10)^2 = 55^2 = 3025.$$\n",
    "\n",
    "Hence the difference between the sum of the squares of the first ten natural numbers and the square of the sum is $3025 - 385 = 2640$.<br>\n",
    "Find the difference between the sum of the squares of the first one hundred natural numbers and the square of the sum.<br>\n"
   ]
  },
  {
   "attachments": {},
   "cell_type": "markdown",
   "id": "ed5770f6",
   "metadata": {},
   "source": [
    "# Solution"
   ]
  },
  {
   "cell_type": "code",
   "execution_count": 1,
   "id": "fa0e7325",
   "metadata": {},
   "outputs": [],
   "source": [
    "from euler_lib import one_to_n_sum, one_to_n_square_sum"
   ]
  },
  {
   "cell_type": "code",
   "execution_count": 2,
   "id": "92abc935",
   "metadata": {},
   "outputs": [],
   "source": [
    "def solution():\n",
    "\treturn one_to_n_sum(100)**2 - one_to_n_square_sum(100)"
   ]
  },
  {
   "attachments": {},
   "cell_type": "markdown",
   "id": "4b54764e",
   "metadata": {},
   "source": [
    "# Run"
   ]
  },
  {
   "cell_type": "code",
   "execution_count": 3,
   "id": "159b75da",
   "metadata": {},
   "outputs": [
    {
     "name": "stdout",
     "output_type": "stream",
     "text": [
      "CPU times: total: 0 ns\n",
      "Wall time: 0 ns\n"
     ]
    },
    {
     "data": {
      "text/plain": [
       "25164150"
      ]
     },
     "execution_count": 3,
     "metadata": {},
     "output_type": "execute_result"
    }
   ],
   "source": [
    "%%time\n",
    "solution()"
   ]
  }
 ],
 "metadata": {
  "kernelspec": {
   "display_name": "Python 3",
   "language": "python",
   "name": "python3"
  },
  "language_info": {
   "codemirror_mode": {
    "name": "ipython",
    "version": 3
   },
   "file_extension": ".py",
   "mimetype": "text/x-python",
   "name": "python",
   "nbconvert_exporter": "python",
   "pygments_lexer": "ipython3",
   "version": "3.11.4"
  }
 },
 "nbformat": 4,
 "nbformat_minor": 5
}
