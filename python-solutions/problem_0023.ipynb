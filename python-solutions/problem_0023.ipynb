{
 "cells": [
  {
   "cell_type": "markdown",
   "id": "2e5528b5",
   "metadata": {},
   "source": [
    "# [Question 23](https://projecteuler.net/problem=23)"
   ]
  },
  {
   "cell_type": "markdown",
   "id": "345e9cab",
   "metadata": {},
   "source": [
    "## Non-Abundant Sums\n",
    "A perfect number is a number for which the sum of its proper divisors is exactly equal to the number. For example, the sum of the proper divisors of $28$ would be $1 + 2 + 4 + 7 + 14 = 28$, which means that $28$ is a perfect number.<br>\n",
    "A number $n$ is called deficient if the sum of its proper divisors is less than $n$ and it is called abundant if this sum exceeds $n$.<br>\n",
    "As $12$ is the smallest abundant number, $1 + 2 + 3 + 4 + 6 = 16$, the smallest number that can be written as the sum of two abundant numbers is $24$. By mathematical analysis, it can be shown that all integers greater than $28123$ can be written as the sum of two abundant numbers. However, this upper limit cannot be reduced any further by analysis even though it is known that the greatest number that cannot be expressed as the sum of two abundant numbers is less than this limit.<br>\n",
    "Find the sum of all the positive integers which cannot be written as the sum of two abundant numbers.<br>\n"
   ]
  },
  {
   "cell_type": "markdown",
   "id": "839c8a3d",
   "metadata": {},
   "source": [
    "# Solution"
   ]
  },
  {
   "cell_type": "code",
   "execution_count": 20,
   "id": "ab6abb5f",
   "metadata": {},
   "outputs": [],
   "source": [
    "from snippet.euler_lib import proper_divisors_sum_list\n",
    "\n",
    "def abundant_numbers(limit:int) -> list:\n",
    "    \"\"\"This function return the list of all the abundant numbers from 1 to limit\"\"\"\n",
    "    proper_divisors_sums = proper_divisors_sum_list(limit)\n",
    "    abundant_list = [index for index in range(limit+1) if proper_divisors_sums[index] > index]\n",
    "    return abundant_list\n",
    "\n",
    "def solution():\n",
    "    limit = 28123\n",
    "    abundants = abundant_numbers(limit)\n",
    "    check_list = [False]*(limit+1)\n",
    "    for x in range(len(abundants)):\n",
    "        for y in range(x, len(abundants)):\n",
    "            summation = abundants[x] + abundants[y]\n",
    "            if summation > limit:\n",
    "                continue\n",
    "            check_list[summation] = True\n",
    "    return sum([index for index,value in enumerate(check_list) if value==False])\n"
   ]
  },
  {
   "cell_type": "markdown",
   "id": "8e7642ed",
   "metadata": {},
   "source": [
    "# Run"
   ]
  },
  {
   "cell_type": "code",
   "execution_count": 21,
   "id": "d969fa63",
   "metadata": {},
   "outputs": [
    {
     "name": "stdout",
     "output_type": "stream",
     "text": [
      "CPU times: total: 6.64 s\n",
      "Wall time: 7.08 s\n"
     ]
    },
    {
     "data": {
      "text/plain": [
       "4179871"
      ]
     },
     "execution_count": 21,
     "metadata": {},
     "output_type": "execute_result"
    }
   ],
   "source": [
    "%%time\n",
    "solution()"
   ]
  }
 ],
 "metadata": {
  "kernelspec": {
   "display_name": "base",
   "language": "python",
   "name": "python3"
  },
  "language_info": {
   "codemirror_mode": {
    "name": "ipython",
    "version": 3
   },
   "file_extension": ".py",
   "mimetype": "text/x-python",
   "name": "python",
   "nbconvert_exporter": "python",
   "pygments_lexer": "ipython3",
   "version": "3.10.9"
  }
 },
 "nbformat": 4,
 "nbformat_minor": 5
}
