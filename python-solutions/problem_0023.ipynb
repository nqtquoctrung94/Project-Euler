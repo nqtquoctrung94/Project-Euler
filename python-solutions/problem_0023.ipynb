{
 "cells": [
  {
   "cell_type": "markdown",
   "id": "2e5528b5",
   "metadata": {},
   "source": [
    "# [Question 23](https://projecteuler.net/problem=23)"
   ]
  },
  {
   "cell_type": "markdown",
   "id": "345e9cab",
   "metadata": {},
   "source": [
    "## Non-Abundant Sums\n",
    "A perfect number is a number for which the sum of its proper divisors is exactly equal to the number. For example, the sum of the proper divisors of $28$ would be $1 + 2 + 4 + 7 + 14 = 28$, which means that $28$ is a perfect number.<br>\n",
    "A number $n$ is called deficient if the sum of its proper divisors is less than $n$ and it is called abundant if this sum exceeds $n$.<br>\n",
    "As $12$ is the smallest abundant number, $1 + 2 + 3 + 4 + 6 = 16$, the smallest number that can be written as the sum of two abundant numbers is $24$. By mathematical analysis, it can be shown that all integers greater than $28123$ can be written as the sum of two abundant numbers. However, this upper limit cannot be reduced any further by analysis even though it is known that the greatest number that cannot be expressed as the sum of two abundant numbers is less than this limit.<br>\n",
    "Find the sum of all the positive integers which cannot be written as the sum of two abundant numbers.<br>\n"
   ]
  },
  {
   "cell_type": "markdown",
   "id": "839c8a3d",
   "metadata": {},
   "source": [
    "# Solution"
   ]
  },
  {
   "attachments": {},
   "cell_type": "markdown",
   "id": "b5375af2",
   "metadata": {},
   "source": [
    "|  | 0 | 1 | 2 | 3 | 4 | 5 | 6 | 7 | 8 | 9 | 10 | 11 | 12 | 13 | 14 | 15 | 16 | 17 | 18 | 19 | 20 | 21 | 22 | 23 |\n",
    "|---|:---:|:---:|:---:|:---:|:---:|:---:|:---:|:---:|:---:|:---:|:---:|:---:|:---:|:---:|:---:|:---:|:---:|:---:|:---:|:---:|:---:|:---:|:---:|:---:|\n",
    "|  | 0 | 0 | 0 | 0 | 0 | 0 | 0 | 0 | 0 | 0 | 0 | 0 | 0 | 0 | 0 | 0 | 0 | 0 | 0 | 0 | 0 | 0 | 0 | 0 |\n",
    "| Divisible by 1 | 0 | 0 | <span style='color: red; background: yellow'> 1 | <span style='color: red; background: yellow'> 1 | <span style='color: red; background: yellow'> 1 | <span style='color: red; background: yellow'> 1 | <span style='color: red; background: yellow'> 1 | <span style='color: red; background: yellow'> 1 | <span style='color: red; background: yellow'> 1 | <span style='color: red; background: yellow'> 1 | <span style='color: red; background: yellow'> 1 | <span style='color: red; background: yellow'> 1 | <span style='color: red; background: yellow'> 1 | <span style='color: red; background: yellow'> 1 | <span style='color: red; background: yellow'> 1 | <span style='color: red; background: yellow'> 1 | <span style='color: red; background: yellow'> 1 | <span style='color: red; background: yellow'> 1 | <span style='color: red; background: yellow'> 1 | <span style='color: red; background: yellow'> 1 | <span style='color: red; background: yellow'> 1 | <span style='color: red; background: yellow'> 1 | <span style='color: red; background: yellow'> 1 | <span style='color: red; background: yellow'> 1 |\n",
    "| Divisible by 2 | 0 | 0 | 1 | 1 | <span style='color: red; background: yellow'> 3 | 1 | <span style='color: red; background: yellow'> 3 | 1 | <span style='color: red; background: yellow'> 3 | 1 | <span style='color: red; background: yellow'> 3 | 1 | <span style='color: red; background: yellow'> 3 | 1 | <span style='color: red; background: yellow'> 3 | 1 | <span style='color: red; background: yellow'> 3 | 1 | <span style='color: red; background: yellow'> 3 | 1 | <span style='color: red; background: yellow'> 3 | 1 | <span style='color: red; background: yellow'> 3 | 1 |\n",
    "| Divisible by 3 | 0 | 0 | 1 | 1 | 3 | 1 | <span style='color: red; background: yellow'> 6 | 1 | 3 | <span style='color: red; background: yellow'> 4 | 3 | 1 | <span style='color: red; background: yellow'> 6 | 1 | 3 | <span style='color: red; background: yellow'> 4 | 3 | 1 | <span style='color: red; background: yellow'> 6 | 1 | 3 | <span style='color: red; background: yellow'> 4 | 3 | 1 |\n",
    "| Divisible by 4 | 0 | 0 | 1 | 1 | 3 | 1 | 6 | 1 | <span style='color: red; background: yellow'> 7 | 4 | 3 | 1 | <span style='color: red; background: yellow'> 10 | 1 | 3 | 4 | <span style='color: red; background: yellow'> 7 | 1 | 6 | 1 | <span style='color: red; background: yellow'> 7 | 4 | 3 | 1 |\n",
    "| Divisible by 5 | 0 | 0 | 1 | 1 | 3 | 1 | 6 | 1 | 7 | 4 | <span style='color: red; background: yellow'> 8 | 1 | 10 | 1 | 3 | <span style='color: red; background: yellow'> 9 | 7 | 1 | 6 | 1 | <span style='color: red; background: yellow'> 12 | 4 | 3 | 1 |\n",
    "| Divisible by 6 | 0 | 0 | 1 | 1 | 3 | 1 | 6 | 1 | 7 | 4 | 8 | 1 | <span style='color: red; background: yellow'> 16 | 1 | 3 | 9 | 7 | 1 | <span style='color: red; background: yellow'> 12 | 1 | 12 | 4 | 3 | 1 |\n",
    "| Divisible by 7 | 0 | 0 | 1 | 1 | 3 | 1 | 6 | 1 | 7 | 4 | 8 | 1 | 16 | 1 | <span style='color: red; background: yellow'> 10 | 9 | 7 | 1 | 12 | 1 | 12 | <span style='color: red; background: yellow'> 11 | 3 | 1 |\n",
    "| Divisible by 8 | 0 | 0 | 1 | 1 | 3 | 1 | 6 | 1 | 7 | 4 | 8 | 1 | 16 | 1 | 10 | 9 | <span style='color: red; background: yellow'> 15 | 1 | 12 | 1 | 12 | 11 | 3 | 1 |\n",
    "| Divisible by 9 | 0 | 0 | 1 | 1 | 3 | 1 | 6 | 1 | 7 | 4 | 8 | 1 | 16 | 1 | 10 | 9 | 15 | 1 | <span style='color: red; background: yellow'> 21 | 1 | 12 | 11 | 3 | 1 |\n",
    "| Divisible by 10 | 0 | 0 | 1 | 1 | 3 | 1 | 6 | 1 | 7 | 4 | 8 | 1 | 16 | 1 | 10 | 9 | 15 | 1 | 21 | 1 | <span style='color: red; background: yellow'> 22 | 11 | 3 | 1 |\n",
    "| Divisible by 11 | 0 | 0 | 1 | 1 | 3 | 1 | 6 | 1 | 7 | 4 | 8 | 1 | 16 | 1 | 10 | 9 | 15 | 1 | 21 | 1 | 22 | 11 | <span style='color: red; background: yellow'> 14 | 1 |\n",
    "| Divisible by 12 | 0 | 0 | 1 | 1 | 3 | 1 | 6 | 1 | 7 | 4 | 8 | 1 | 16 | 1 | 10 | 9 | 15 | 1 | 21 | 1 | 22 | 11 | 14 | 1 |\n",
    "| Divisible by 13 | 0 | 0 | 1 | 1 | 3 | 1 | 6 | 1 | 7 | 4 | 8 | 1 | 16 | 1 | 10 | 9 | 15 | 1 | 21 | 1 | 22 | 11 | 14 | 1 |\n",
    "| Divisible by 14 | 0 | 0 | 1 | 1 | 3 | 1 | 6 | 1 | 7 | 4 | 8 | 1 | 16 | 1 | 10 | 9 | 15 | 1 | 21 | 1 | 22 | 11 | 14 | 1 |\n",
    "| Divisible by 15 | 0 | 0 | 1 | 1 | 3 | 1 | 6 | 1 | 7 | 4 | 8 | 1 | 16 | 1 | 10 | 9 | 15 | 1 | 21 | 1 | 22 | 11 | 14 | 1 |\n",
    "| Divisible by 16 | 0 | 0 | 1 | 1 | 3 | 1 | 6 | 1 | 7 | 4 | 8 | 1 | 16 | 1 | 10 | 9 | 15 | 1 | 21 | 1 | 22 | 11 | 14 | 1 |\n",
    "| Divisible by 17 | 0 | 0 | 1 | 1 | 3 | 1 | 6 | 1 | 7 | 4 | 8 | 1 | 16 | 1 | 10 | 9 | 15 | 1 | 21 | 1 | 22 | 11 | 14 | 1 |\n",
    "| Divisible by 18 | 0 | 0 | 1 | 1 | 3 | 1 | 6 | 1 | 7 | 4 | 8 | 1 | 16 | 1 | 10 | 9 | 15 | 1 | 21 | 1 | 22 | 11 | 14 | 1 |\n",
    "| Divisible by 19 | 0 | 0 | 1 | 1 | 3 | 1 | 6 | 1 | 7 | 4 | 8 | 1 | 16 | 1 | 10 | 9 | 15 | 1 | 21 | 1 | 22 | 11 | 14 | 1 |\n",
    "| Divisible by 20 | 0 | 0 | 1 | 1 | 3 | 1 | 6 | 1 | 7 | 4 | 8 | 1 | 16 | 1 | 10 | 9 | 15 | 1 | 21 | 1 | 22 | 11 | 14 | 1 |"
   ]
  },
  {
   "cell_type": "code",
   "execution_count": 1,
   "id": "ab6abb5f",
   "metadata": {},
   "outputs": [],
   "source": [
    "from euler_lib import proper_divisors_list\n",
    "\n",
    "def is_abundant(n: int) -> bool:\n",
    "\t\"\"\"This function check if a number n is abundant => Sum of proper divisors is greater than the number itself\"\"\"\n",
    "\treturn sum(proper_divisors_list(n)) > n\n",
    "\n",
    "def list_of_sum_divisors(limit: int) -> list:\n",
    "\t\"\"\"This function return the list of all the sum divisors\"\"\"\n",
    "\n",
    "\n",
    "\n",
    "def solution():\n",
    "\tlimit  = 28123\n",
    "\tabundant_numbers = [number for number in range(2, limit) if is_abundant(number)]\n",
    "\tsum_of_abundants_list = []\n",
    "\tfor x in range(len(abundant_numbers)-1):\n",
    "\t\tfor y in range(x+1, len(abundant_numbers)):\n",
    "\t\t\tsum_of_abundants_list.append(abundant_numbers[x] + abundant_numbers[y])\n",
    "\treturn sum([number for number in range(1,limit+1) if number not in sum_of_abundants_list])"
   ]
  },
  {
   "cell_type": "markdown",
   "id": "8e7642ed",
   "metadata": {},
   "source": [
    "# Run"
   ]
  },
  {
   "cell_type": "code",
   "execution_count": 2,
   "id": "d969fa63",
   "metadata": {},
   "outputs": [
    {
     "ename": "KeyboardInterrupt",
     "evalue": "",
     "output_type": "error",
     "traceback": [
      "\u001b[1;31m---------------------------------------------------------------------------\u001b[0m",
      "\u001b[1;31mKeyboardInterrupt\u001b[0m                         Traceback (most recent call last)",
      "File \u001b[1;32m<timed eval>:1\u001b[0m\n",
      "Cell \u001b[1;32mIn[1], line 14\u001b[0m, in \u001b[0;36msolution\u001b[1;34m()\u001b[0m\n\u001b[0;32m     12\u001b[0m \t\u001b[39mfor\u001b[39;00m y \u001b[39min\u001b[39;00m \u001b[39mrange\u001b[39m(x\u001b[39m+\u001b[39m\u001b[39m1\u001b[39m, \u001b[39mlen\u001b[39m(abundant_numbers)):\n\u001b[0;32m     13\u001b[0m \t\tsum_of_abundants_list\u001b[39m.\u001b[39mappend(abundant_numbers[x] \u001b[39m+\u001b[39m abundant_numbers[y])\n\u001b[1;32m---> 14\u001b[0m \u001b[39mreturn\u001b[39;00m \u001b[39msum\u001b[39m([number \u001b[39mfor\u001b[39;00m number \u001b[39min\u001b[39;00m \u001b[39mrange\u001b[39m(\u001b[39m1\u001b[39m,limit\u001b[39m+\u001b[39m\u001b[39m1\u001b[39m) \u001b[39mif\u001b[39;00m number \u001b[39mnot\u001b[39;00m \u001b[39min\u001b[39;00m sum_of_abundants_list])\n",
      "Cell \u001b[1;32mIn[1], line 14\u001b[0m, in \u001b[0;36m<listcomp>\u001b[1;34m(.0)\u001b[0m\n\u001b[0;32m     12\u001b[0m \t\u001b[39mfor\u001b[39;00m y \u001b[39min\u001b[39;00m \u001b[39mrange\u001b[39m(x\u001b[39m+\u001b[39m\u001b[39m1\u001b[39m, \u001b[39mlen\u001b[39m(abundant_numbers)):\n\u001b[0;32m     13\u001b[0m \t\tsum_of_abundants_list\u001b[39m.\u001b[39mappend(abundant_numbers[x] \u001b[39m+\u001b[39m abundant_numbers[y])\n\u001b[1;32m---> 14\u001b[0m \u001b[39mreturn\u001b[39;00m \u001b[39msum\u001b[39m([number \u001b[39mfor\u001b[39;00m number \u001b[39min\u001b[39;00m \u001b[39mrange\u001b[39m(\u001b[39m1\u001b[39m,limit\u001b[39m+\u001b[39m\u001b[39m1\u001b[39m) \u001b[39mif\u001b[39;00m number \u001b[39mnot\u001b[39;49;00m \u001b[39min\u001b[39;49;00m sum_of_abundants_list])\n",
      "\u001b[1;31mKeyboardInterrupt\u001b[0m: "
     ]
    }
   ],
   "source": [
    "%%time\n",
    "solution()"
   ]
  }
 ],
 "metadata": {
  "kernelspec": {
   "display_name": "base",
   "language": "python",
   "name": "python3"
  },
  "language_info": {
   "codemirror_mode": {
    "name": "ipython",
    "version": 3
   },
   "file_extension": ".py",
   "mimetype": "text/x-python",
   "name": "python",
   "nbconvert_exporter": "python",
   "pygments_lexer": "ipython3",
   "version": "3.10.9"
  }
 },
 "nbformat": 4,
 "nbformat_minor": 5
}
