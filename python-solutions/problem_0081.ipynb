{
 "cells": [
  {
   "cell_type": "markdown",
   "id": "accc88c7",
   "metadata": {},
   "source": [
    "# [Question 81](https://projecteuler.net/problem=81)"
   ]
  },
  {
   "cell_type": "markdown",
   "id": "d2eb1ac5",
   "metadata": {},
   "source": [
    "## Path Sum: Two Ways\n",
    "In the $5$ by $5$ matrix below, the minimal path sum from the top left to the bottom right, by only moving to the right and down, is indicated in bold red and is equal to $2427$.<br>\n",
    "<br>\n",
    "$$\n",
    "\n",
    "\\begin{pmatrix}\n",
    "\\color{red}{131} & 673 & 234 & 103 & 18\\\\\n",
    "\\color{red}{201} & \\color{red}{96} & \\color{red}{342} & 965 & 150\\\\\n",
    "630 & 803 & \\color{red}{746} & \\color{red}{422} & 111\\\\\n",
    "537 & 699 & 497 & \\color{red}{121} & 956\\\\\n",
    "805 & 732 & 524 & \\color{red}{37} & \\color{red}{331}\n",
    "\\end{pmatrix}\n",
    "$$\n",
    "\n",
    "\n",
    "Find the minimal path sum from the top left to the bottom right by only moving right and down in [matrix.txt](https://projecteuler.net/resources/documents/0081_matrix.txt), a 31K text file containing an $80$ by $80$ matrix.\n"
   ]
  },
  {
   "cell_type": "markdown",
   "id": "0049e9ce",
   "metadata": {},
   "source": [
    "# Solution"
   ]
  },
  {
   "cell_type": "code",
   "execution_count": 11,
   "id": "61b44bb0",
   "metadata": {},
   "outputs": [],
   "source": [
    "with open(r'input files\\0081_matrix.txt', 'r') as file:\n",
    "    matrix_text = file.read()\n",
    "\n",
    "matrix = [[int(n) for n in line.split(\",\")] for line in matrix_text.split(\"\\n\")]"
   ]
  },
  {
   "cell_type": "markdown",
   "id": "8e78a91b",
   "metadata": {},
   "source": [
    "### Conditional approach"
   ]
  },
  {
   "cell_type": "code",
   "execution_count": 12,
   "id": "f0ad7949",
   "metadata": {},
   "outputs": [],
   "source": [
    "def minimal_path_sum_conditional(matrix):\n",
    "    # Define path matrix\n",
    "    size = len(matrix)\n",
    "    path_matrix = [[0 for col in range(size)] for row in range(size)]\n",
    "\n",
    "    # Update values\n",
    "    for row in range(size):\n",
    "        for col in range(size):\n",
    "            previous_left = path_matrix[row][col - 1] if col > 0 else -1\n",
    "            previous_up   = path_matrix[row - 1][col] if row > 0 else -1\n",
    "            # Add conditions to handle starting position, first row and first column\n",
    "            path_matrix[row][col] = matrix[row][col] + min([path for path in [previous_left, previous_up] if path > 0], default=0)\n",
    "    return path_matrix[size-1][size-1]"
   ]
  },
  {
   "cell_type": "code",
   "execution_count": 13,
   "id": "287c29a4",
   "metadata": {},
   "outputs": [],
   "source": [
    "def solution_conditional():\n",
    "    return minimal_path_sum_conditional(matrix)"
   ]
  },
  {
   "cell_type": "markdown",
   "id": "c5c71cab",
   "metadata": {},
   "source": [
    "### Split position approach"
   ]
  },
  {
   "cell_type": "code",
   "execution_count": 14,
   "id": "42298028",
   "metadata": {},
   "outputs": [],
   "source": [
    "def minimal_path_sum_split(matrix):\n",
    "    # Define path matrix\n",
    "    size = len(matrix)\n",
    "    path_matrix = [[0 for col in range(size)] for row in range(size)]\n",
    "\n",
    "    # Update values\n",
    "    path_matrix[0][0] = matrix[0][0]    # Starting position\n",
    "    for col in range(1, size): path_matrix[0][col] = matrix[0][col] + path_matrix[0][col-1] # First row\n",
    "    for row in range(1, size): path_matrix[row][0] = matrix[row][0] + path_matrix[row-1][0] # First column\n",
    "    for row in range(1,size):\n",
    "        for col in range(1,size):\n",
    "            # The rest of the matrix\n",
    "            path_matrix[row][col] = matrix[row][col] + min(path_matrix[row - 1][col], path_matrix[row][col - 1])   \n",
    "    return path_matrix[size-1][size-1]"
   ]
  },
  {
   "cell_type": "code",
   "execution_count": 15,
   "id": "19e42d8b",
   "metadata": {},
   "outputs": [],
   "source": [
    "def solution_split():\n",
    "    return minimal_path_sum_split(matrix)"
   ]
  },
  {
   "cell_type": "markdown",
   "id": "a8c47f22",
   "metadata": {},
   "source": [
    "# Run"
   ]
  },
  {
   "cell_type": "code",
   "execution_count": 16,
   "id": "705bd953",
   "metadata": {},
   "outputs": [
    {
     "name": "stdout",
     "output_type": "stream",
     "text": [
      "CPU times: total: 15.6 ms\n",
      "Wall time: 96.7 ms\n"
     ]
    },
    {
     "data": {
      "text/plain": [
       "427337"
      ]
     },
     "execution_count": 16,
     "metadata": {},
     "output_type": "execute_result"
    }
   ],
   "source": [
    "%%time\n",
    "solution_conditional()"
   ]
  },
  {
   "cell_type": "code",
   "execution_count": 17,
   "id": "4bcd6d82",
   "metadata": {},
   "outputs": [
    {
     "name": "stdout",
     "output_type": "stream",
     "text": [
      "CPU times: total: 15.6 ms\n",
      "Wall time: 6.98 ms\n"
     ]
    },
    {
     "data": {
      "text/plain": [
       "427337"
      ]
     },
     "execution_count": 17,
     "metadata": {},
     "output_type": "execute_result"
    }
   ],
   "source": [
    "%%time\n",
    "solution_split()"
   ]
  }
 ],
 "metadata": {
  "kernelspec": {
   "display_name": "Python 3",
   "language": "python",
   "name": "python3"
  },
  "language_info": {
   "codemirror_mode": {
    "name": "ipython",
    "version": 3
   },
   "file_extension": ".py",
   "mimetype": "text/x-python",
   "name": "python",
   "nbconvert_exporter": "python",
   "pygments_lexer": "ipython3",
   "version": "3.10.9"
  }
 },
 "nbformat": 4,
 "nbformat_minor": 5
}
