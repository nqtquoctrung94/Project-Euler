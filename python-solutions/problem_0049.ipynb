{
 "cells": [
  {
   "cell_type": "markdown",
   "id": "2f4606bf",
   "metadata": {},
   "source": [
    "# [Question 49](https://projecteuler.net/problem=49)"
   ]
  },
  {
   "cell_type": "markdown",
   "id": "213f3d4e",
   "metadata": {},
   "source": [
    "## Prime Permutations\n",
    "The arithmetic sequence, $1487, 4817, 8147$, in which each of the terms increases by $3330$, is unusual in two ways: \n",
    "- (i) each of the three terms are prime, and, \n",
    "- (ii) each of the $4$-digit numbers are permutations of one another.<br>\n",
    "\n",
    "There are no arithmetic sequences made up of three $1$-, $2$-, or $3$-digit primes, exhibiting this property, but there is one other $4$-digit increasing sequence.<br>\n",
    "What $12$-digit number do you form by concatenating the three terms in this sequence?<br>\n"
   ]
  },
  {
   "cell_type": "markdown",
   "id": "b7d10433",
   "metadata": {},
   "source": [
    "# Solution"
   ]
  },
  {
   "cell_type": "code",
   "execution_count": 17,
   "id": "dbe9f7fc",
   "metadata": {},
   "outputs": [],
   "source": [
    "from snippet.euler_lib import sieve_of_eratosthenes"
   ]
  },
  {
   "cell_type": "code",
   "execution_count": 18,
   "id": "2abffaa1",
   "metadata": {},
   "outputs": [],
   "source": [
    "def three_terms(prime_list: list) -> int:\n",
    "    list_size = len(prime_list)\n",
    "    if list_size < 3:\n",
    "        return -1\n",
    "\n",
    "    prime_list.sort()\n",
    "\n",
    "    for start_index in range(list_size-2):\n",
    "        for next_index in range(start_index+1, list_size-1):\n",
    "            prime1 = prime_list[start_index]\n",
    "            prime2 = prime_list[next_index]\n",
    "            diff = prime2 - prime1\n",
    "            prime3 = prime2 + diff\n",
    "            if prime3 in prime_list:\n",
    "                return int(''.join([str(prime1),str(prime2),str(prime3)]))\n",
    "    return -1"
   ]
  },
  {
   "cell_type": "code",
   "execution_count": 19,
   "id": "b7074e86",
   "metadata": {},
   "outputs": [],
   "source": [
    "def solution():\n",
    "    # 4-digit prime list\n",
    "    primes = [prime for prime in sieve_of_eratosthenes(10000) if prime > 1000] \n",
    "    \n",
    "    permu_primes_dict = {}\n",
    "    for prime in primes:\n",
    "        sorted_digits = ''.join(sorted(str(prime)))\n",
    "        if permu_primes_dict.get(sorted_digits):\n",
    "            permu_primes_dict[sorted_digits].append(prime)\n",
    "        else:\n",
    "            permu_primes_dict[sorted_digits] = [prime]\n",
    "\n",
    "    for prime_list in permu_primes_dict.values():\n",
    "        result = three_terms(prime_list)\n",
    "        if result > 0:\n",
    "            print(result)"
   ]
  },
  {
   "cell_type": "markdown",
   "id": "8857153a",
   "metadata": {},
   "source": [
    "# Run"
   ]
  },
  {
   "cell_type": "code",
   "execution_count": 20,
   "id": "566af60b",
   "metadata": {},
   "outputs": [
    {
     "name": "stdout",
     "output_type": "stream",
     "text": [
      "148748178147\n",
      "296962999629\n",
      "CPU times: total: 15.6 ms\n",
      "Wall time: 7.98 ms\n"
     ]
    }
   ],
   "source": [
    "%%time\n",
    "solution()"
   ]
  }
 ],
 "metadata": {
  "kernelspec": {
   "display_name": "base",
   "language": "python",
   "name": "python3"
  },
  "language_info": {
   "codemirror_mode": {
    "name": "ipython",
    "version": 3
   },
   "file_extension": ".py",
   "mimetype": "text/x-python",
   "name": "python",
   "nbconvert_exporter": "python",
   "pygments_lexer": "ipython3",
   "version": "3.10.9"
  }
 },
 "nbformat": 4,
 "nbformat_minor": 5
}
