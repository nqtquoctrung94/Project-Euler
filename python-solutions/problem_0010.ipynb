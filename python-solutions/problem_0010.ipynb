{
 "cells": [
  {
   "attachments": {},
   "cell_type": "markdown",
   "id": "498034bc",
   "metadata": {},
   "source": [
    "# [Question 10](https://projecteuler.net/problem=10)"
   ]
  },
  {
   "attachments": {},
   "cell_type": "markdown",
   "id": "decc02d1",
   "metadata": {},
   "source": [
    "The sum of the primes below $10$ is $2 + 3 + 5 + 7 = 17$.<br>\n",
    "Find the sum of all the primes below two million.<br>\n"
   ]
  },
  {
   "attachments": {},
   "cell_type": "markdown",
   "id": "110d5be2",
   "metadata": {},
   "source": [
    "# Solution"
   ]
  },
  {
   "cell_type": "code",
   "execution_count": 1,
   "id": "100ef5f8",
   "metadata": {},
   "outputs": [],
   "source": [
    "from euler_lib import Sieve_of_Eratosthenes as sieve\n",
    "\n",
    "def solution():\n",
    "\tprime_list = sieve(2000000)\n",
    "\treturn sum(prime_list)"
   ]
  },
  {
   "attachments": {},
   "cell_type": "markdown",
   "id": "a931f455",
   "metadata": {},
   "source": [
    "# Run"
   ]
  },
  {
   "cell_type": "code",
   "execution_count": 2,
   "id": "9f893c05",
   "metadata": {},
   "outputs": [
    {
     "name": "stdout",
     "output_type": "stream",
     "text": [
      "CPU times: total: 266 ms\n",
      "Wall time: 301 ms\n"
     ]
    },
    {
     "data": {
      "text/plain": [
       "142913828922"
      ]
     },
     "execution_count": 2,
     "metadata": {},
     "output_type": "execute_result"
    }
   ],
   "source": [
    "%%time\n",
    "solution()"
   ]
  }
 ],
 "metadata": {
  "kernelspec": {
   "display_name": "Python 3",
   "language": "python",
   "name": "python3"
  },
  "language_info": {
   "codemirror_mode": {
    "name": "ipython",
    "version": 3
   },
   "file_extension": ".py",
   "mimetype": "text/x-python",
   "name": "python",
   "nbconvert_exporter": "python",
   "pygments_lexer": "ipython3",
   "version": "3.11.4"
  }
 },
 "nbformat": 4,
 "nbformat_minor": 5
}
