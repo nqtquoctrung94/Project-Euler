{
 "cells": [
  {
   "attachments": {},
   "cell_type": "markdown",
   "id": "498034bc",
   "metadata": {},
   "source": [
    "# [Question 10](https://projecteuler.net/problem=10)"
   ]
  },
  {
   "attachments": {},
   "cell_type": "markdown",
   "id": "decc02d1",
   "metadata": {},
   "source": [
    "The sum of the primes below $10$ is $2 + 3 + 5 + 7 = 17$.<br>\n",
    "Find the sum of all the primes below two million.<br>\n"
   ]
  },
  {
   "attachments": {},
   "cell_type": "markdown",
   "id": "110d5be2",
   "metadata": {},
   "source": [
    "# Solution"
   ]
  },
  {
   "attachments": {},
   "cell_type": "markdown",
   "id": "421df91c",
   "metadata": {},
   "source": [
    "## Solution 1"
   ]
  },
  {
   "cell_type": "code",
   "execution_count": 8,
   "id": "100ef5f8",
   "metadata": {},
   "outputs": [],
   "source": [
    "from euler_lib import sieve_of_eratosthenes as sieve\n",
    "\n",
    "def solution1():\n",
    "\tprime_list = sieve(2000000)\n",
    "\treturn sum(prime_list)"
   ]
  },
  {
   "attachments": {},
   "cell_type": "markdown",
   "id": "165740c6",
   "metadata": {},
   "source": [
    "## Solution 2"
   ]
  },
  {
   "cell_type": "code",
   "execution_count": 9,
   "id": "af49c5ad",
   "metadata": {},
   "outputs": [],
   "source": [
    "from euler_lib import is_prime\n",
    "\n",
    "def solution2():\n",
    "    return sum([i for i in range(2000000) if is_prime(i)])"
   ]
  },
  {
   "attachments": {},
   "cell_type": "markdown",
   "id": "a931f455",
   "metadata": {},
   "source": [
    "# Run"
   ]
  },
  {
   "cell_type": "code",
   "execution_count": 10,
   "id": "9f893c05",
   "metadata": {},
   "outputs": [
    {
     "name": "stdout",
     "output_type": "stream",
     "text": [
      "CPU times: total: 844 ms\n",
      "Wall time: 1.27 s\n"
     ]
    },
    {
     "data": {
      "text/plain": [
       "142913828922"
      ]
     },
     "execution_count": 10,
     "metadata": {},
     "output_type": "execute_result"
    }
   ],
   "source": [
    "%%time\n",
    "solution1()"
   ]
  },
  {
   "cell_type": "code",
   "execution_count": 11,
   "id": "a725e0d6",
   "metadata": {},
   "outputs": [
    {
     "name": "stdout",
     "output_type": "stream",
     "text": [
      "CPU times: total: 7.5 s\n",
      "Wall time: 8.38 s\n"
     ]
    },
    {
     "data": {
      "text/plain": [
       "142913828922"
      ]
     },
     "execution_count": 11,
     "metadata": {},
     "output_type": "execute_result"
    }
   ],
   "source": [
    "%%time\n",
    "solution2()"
   ]
  }
 ],
 "metadata": {
  "kernelspec": {
   "display_name": "Python 3",
   "language": "python",
   "name": "python3"
  },
  "language_info": {
   "codemirror_mode": {
    "name": "ipython",
    "version": 3
   },
   "file_extension": ".py",
   "mimetype": "text/x-python",
   "name": "python",
   "nbconvert_exporter": "python",
   "pygments_lexer": "ipython3",
   "version": "3.10.9"
  }
 },
 "nbformat": 4,
 "nbformat_minor": 5
}
