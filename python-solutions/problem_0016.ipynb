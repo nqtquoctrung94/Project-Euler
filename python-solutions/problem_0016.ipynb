{
 "cells": [
  {
   "attachments": {},
   "cell_type": "markdown",
   "id": "9005206f",
   "metadata": {},
   "source": [
    "# [Question 16](https://projecteuler.net/problem=16)"
   ]
  },
  {
   "attachments": {},
   "cell_type": "markdown",
   "id": "30ef009c",
   "metadata": {},
   "source": [
    "## Power Digit Sum\n",
    "$2^{15} = 32768$ and the sum of its digits is $3 + 2 + 7 + 6 + 8 = 26$.<br>\n",
    "What is the sum of the digits of the number $2^{1000}$?<br>\n"
   ]
  },
  {
   "attachments": {},
   "cell_type": "markdown",
   "id": "db645447",
   "metadata": {},
   "source": [
    "# Solution"
   ]
  },
  {
   "cell_type": "code",
   "execution_count": 60,
   "id": "76b84d6e",
   "metadata": {},
   "outputs": [],
   "source": [
    "def double_value(input_list: list) -> list:\n",
    "    return [value*2 for value in input_list]\n",
    "\n",
    "def update_digits(input_list: list) -> list:\n",
    "    new_list = []\n",
    "    plus = 0\n",
    "    for i in range(len(input_list)):\n",
    "        value = input_list[i] + plus\n",
    "        if value >= 10:\n",
    "            plus = value // 10\n",
    "            new_list.append(value % 10)\n",
    "            if i+1 == len(input_list):\n",
    "                new_list.append(plus)\n",
    "        else:\n",
    "            plus = 0\n",
    "            new_list.append(value)\n",
    "    return new_list\n",
    "\n",
    "def solution():\n",
    "    list_digit_of_two = [1]\n",
    "    for i in range(1,1001):\n",
    "        list_digit_of_two = double_value(list_digit_of_two)\n",
    "        list_digit_of_two = update_digits(list_digit_of_two)\n",
    "    return sum(list_digit_of_two)"
   ]
  },
  {
   "attachments": {},
   "cell_type": "markdown",
   "id": "08535740",
   "metadata": {},
   "source": [
    "# Run"
   ]
  },
  {
   "cell_type": "code",
   "execution_count": 61,
   "id": "e8422db8",
   "metadata": {},
   "outputs": [
    {
     "name": "stdout",
     "output_type": "stream",
     "text": [
      "CPU times: total: 0 ns\n",
      "Wall time: 21 ms\n"
     ]
    },
    {
     "data": {
      "text/plain": [
       "1366"
      ]
     },
     "execution_count": 61,
     "metadata": {},
     "output_type": "execute_result"
    }
   ],
   "source": [
    "%%time\n",
    "solution()"
   ]
  }
 ],
 "metadata": {
  "kernelspec": {
   "display_name": "Python 3",
   "language": "python",
   "name": "python3"
  },
  "language_info": {
   "codemirror_mode": {
    "name": "ipython",
    "version": 3
   },
   "file_extension": ".py",
   "mimetype": "text/x-python",
   "name": "python",
   "nbconvert_exporter": "python",
   "pygments_lexer": "ipython3",
   "version": "3.11.4"
  }
 },
 "nbformat": 4,
 "nbformat_minor": 5
}
