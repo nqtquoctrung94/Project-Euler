{
 "cells": [
  {
   "cell_type": "markdown",
   "id": "f729607a",
   "metadata": {},
   "source": [
    "# [Question 30](https://projecteuler.net/problem=30)"
   ]
  },
  {
   "cell_type": "markdown",
   "id": "6dafca47",
   "metadata": {},
   "source": [
    "## Digit Fifth Powers\n",
    "Surprisingly there are only three numbers that can be written as the sum of fourth powers of their digits:<br>\n",
    "\\begin{align}\n",
    "1634 &= 1^4 + 6^4 + 3^4 + 4^4\\\\\n",
    "8208 &= 8^4 + 2^4 + 0^4 + 8^4\\\\\n",
    "9474 &= 9^4 + 4^4 + 7^4 + 4^4\n",
    "\\end{align}\n",
    "As $1 = 1^4$ is not a sum it is not included.<br>\n",
    "The sum of these numbers is $1634 + 8208 + 9474 = 19316$.<br>\n",
    "Find the sum of all the numbers that can be written as the sum of fifth powers of their digits.<br>\n"
   ]
  },
  {
   "cell_type": "markdown",
   "id": "c59969cb",
   "metadata": {},
   "source": [
    "# Solution"
   ]
  },
  {
   "cell_type": "code",
   "execution_count": 36,
   "id": "1bfc9257",
   "metadata": {},
   "outputs": [],
   "source": [
    "def sum_fifth_power_digits(n: int, fifth_powers:list) -> int:\n",
    "    total = 0\n",
    "    while n > 0:\n",
    "        digit = n % 10\n",
    "        total += fifth_powers[digit]\n",
    "        n //= 10\n",
    "    return total"
   ]
  },
  {
   "cell_type": "code",
   "execution_count": 37,
   "id": "90b4e5b5",
   "metadata": {},
   "outputs": [],
   "source": [
    "def solution():\n",
    "\t\"\"\" Let's check how high the fifth power sum of a number with x digits can reach:\n",
    "\t- x=0     max 0*9^5 = 0\n",
    "\t- x=1     max 1*9^5 = 59049\n",
    "\t- x=2     max 2*9^5 = 118098\n",
    "\t- x=3     max 3*9^5 = 177147\n",
    "\t- x=4     max 4*9^5 = 236196\n",
    "\t- x=5     max 5*9^5 = 295245\n",
    "\t- x=6     max 6*9^5 = 354294\n",
    "\tThe max fifth power sum of 7 digits onward is not high enough to reach 7+ digits, so the maximum we want to search is up to 10^6-1\n",
    "\t- x=7     max 7*9^5 = 413343\n",
    "\t- x=8     max 8*9^5 = 472392\n",
    "\t- x=9     max 9*9^5 = 531441\n",
    "\t\"\"\"\n",
    "\ttotal = 0\n",
    "\tfifth_powers = [i ** 5 for i in range(10)] # Precompute fifth powers of digits 0-9\n",
    "\tfor i in range(2, 10**6):\n",
    "\t\tdigit_sum = sum_fifth_power_digits(i, fifth_powers)\n",
    "\t\tif i == digit_sum:\n",
    "\t\t\ttotal += digit_sum\n",
    "\treturn total\n"
   ]
  },
  {
   "cell_type": "markdown",
   "id": "1c3d9dad",
   "metadata": {},
   "source": [
    "# Run"
   ]
  },
  {
   "cell_type": "code",
   "execution_count": 38,
   "id": "bf2bcad1",
   "metadata": {},
   "outputs": [
    {
     "name": "stdout",
     "output_type": "stream",
     "text": [
      "CPU times: total: 328 ms\n",
      "Wall time: 443 ms\n"
     ]
    },
    {
     "data": {
      "text/plain": [
       "443839"
      ]
     },
     "execution_count": 38,
     "metadata": {},
     "output_type": "execute_result"
    }
   ],
   "source": [
    "%%time\n",
    "solution()"
   ]
  }
 ],
 "metadata": {
  "kernelspec": {
   "display_name": "Python 3",
   "language": "python",
   "name": "python3"
  },
  "language_info": {
   "codemirror_mode": {
    "name": "ipython",
    "version": 3
   },
   "file_extension": ".py",
   "mimetype": "text/x-python",
   "name": "python",
   "nbconvert_exporter": "python",
   "pygments_lexer": "ipython3",
   "version": "3.11.4"
  }
 },
 "nbformat": 4,
 "nbformat_minor": 5
}
