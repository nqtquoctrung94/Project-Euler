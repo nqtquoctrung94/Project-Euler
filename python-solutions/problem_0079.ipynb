{
 "cells": [
  {
   "cell_type": "markdown",
   "id": "9ff5fa01",
   "metadata": {},
   "source": [
    "# [Question 79](https://projecteuler.net/problem=79)"
   ]
  },
  {
   "cell_type": "markdown",
   "id": "95962d98",
   "metadata": {},
   "source": [
    "## Passcode Derivation\n",
    "A common security method used for online banking is to ask the user for three random characters from a passcode. For example, if the passcode was 531278, they may ask for the 2nd, 3rd, and 5th characters; the expected reply would be: 317.<br>\n",
    "The text file, [keylog.txt](https://projecteuler.net/resources/documents/0079_keylog.txt), contains fifty successful login attempts.<br>\n",
    "Given that the three characters are always asked for in order, analyse the file so as to determine the shortest possible secret passcode of unknown length.<br>\n"
   ]
  },
  {
   "cell_type": "markdown",
   "id": "b56600d3",
   "metadata": {},
   "source": [
    "# Solution"
   ]
  },
  {
   "cell_type": "code",
   "execution_count": 63,
   "id": "59dabe7c",
   "metadata": {},
   "outputs": [],
   "source": [
    "# Read file\n",
    "with open(r'input files\\0079_keylog.txt', 'r') as file:\n",
    "    keylog_text = file.read()\n",
    "\n",
    "# Keep keylog inputs as string to work on each digit\n",
    "keylog = [n for n in keylog_text.split(\"\\n\")]"
   ]
  },
  {
   "cell_type": "markdown",
   "id": "6763af2c",
   "metadata": {},
   "source": [
    "This solution assumed that the given passcode has no repeated number"
   ]
  },
  {
   "cell_type": "code",
   "execution_count": 64,
   "id": "8ad6571c",
   "metadata": {},
   "outputs": [],
   "source": [
    "def get_dictionary(keylog):\n",
    "    digit_dict = dict()\n",
    "    # Get unique attempts only\n",
    "    for number in set(keylog):  \n",
    "        for index in range(3):\n",
    "\n",
    "            # Create storage for current digit if not available\n",
    "            current_digit = int(number[index])\n",
    "            digit_dict[current_digit] = digit_dict.get(current_digit, set())\n",
    "            \n",
    "            # Update dictionary the numbers that behind each digit\n",
    "            tail_digits = number[index+1:]\n",
    "            for digit in tail_digits:\n",
    "                digit_dict[current_digit].add(int(digit))\n",
    "                \n",
    "    return digit_dict"
   ]
  },
  {
   "cell_type": "code",
   "execution_count": 65,
   "id": "cda9a9ac",
   "metadata": {},
   "outputs": [],
   "source": [
    "def get_number(keylog):\n",
    "    digit_dict = get_dictionary(keylog)\n",
    "    # Sort by length of array in each key\n",
    "    sorted_keys = sorted(digit_dict.keys(), key=lambda k: len(digit_dict[k]), reverse=True)\n",
    "    return int(''.join(str(key) for key in sorted_keys))"
   ]
  },
  {
   "cell_type": "code",
   "execution_count": 66,
   "id": "dfd8dfd2",
   "metadata": {},
   "outputs": [],
   "source": [
    "def solution():\n",
    "    return get_number(keylog)"
   ]
  },
  {
   "cell_type": "markdown",
   "id": "23d2917e",
   "metadata": {},
   "source": [
    "# Run"
   ]
  },
  {
   "cell_type": "code",
   "execution_count": 67,
   "id": "838238b4",
   "metadata": {},
   "outputs": [
    {
     "name": "stdout",
     "output_type": "stream",
     "text": [
      "CPU times: total: 0 ns\n",
      "Wall time: 995 µs\n"
     ]
    },
    {
     "data": {
      "text/plain": [
       "73162890"
      ]
     },
     "execution_count": 67,
     "metadata": {},
     "output_type": "execute_result"
    }
   ],
   "source": [
    "%%time\n",
    "solution()"
   ]
  }
 ],
 "metadata": {
  "kernelspec": {
   "display_name": "Python 3",
   "language": "python",
   "name": "python3"
  },
  "language_info": {
   "codemirror_mode": {
    "name": "ipython",
    "version": 3
   },
   "file_extension": ".py",
   "mimetype": "text/x-python",
   "name": "python",
   "nbconvert_exporter": "python",
   "pygments_lexer": "ipython3",
   "version": "3.10.9"
  }
 },
 "nbformat": 4,
 "nbformat_minor": 5
}
