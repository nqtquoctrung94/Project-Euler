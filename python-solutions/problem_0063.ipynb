{
 "cells": [
  {
   "cell_type": "markdown",
   "id": "ee0b1a3b",
   "metadata": {},
   "source": [
    "# [Question 63](https://projecteuler.net/problem=63)"
   ]
  },
  {
   "cell_type": "markdown",
   "id": "f3b5b677",
   "metadata": {},
   "source": [
    "## Powerful Digit Counts\n",
    "The $5$-digit number, $16807=7^5$, is also a fifth power. Similarly, the $9$-digit number, $134217728=8^9$, is a ninth power.<br>\n",
    "How many $n$-digit positive integers exist which are also an $n$ th power?<br>\n"
   ]
  },
  {
   "cell_type": "markdown",
   "id": "c6556a79",
   "metadata": {},
   "source": [
    "# Solution"
   ]
  },
  {
   "cell_type": "code",
   "execution_count": 13,
   "id": "c1914256",
   "metadata": {},
   "outputs": [],
   "source": [
    "import math"
   ]
  },
  {
   "cell_type": "code",
   "execution_count": 14,
   "id": "8e74e56a",
   "metadata": {},
   "outputs": [],
   "source": [
    "def is_nth_power(number:int, power:int) -> bool:\n",
    "    n = int(math.pow(number, power))\n",
    "    return len(str(n)) == power"
   ]
  },
  {
   "cell_type": "code",
   "execution_count": 15,
   "id": "7761a4f7",
   "metadata": {},
   "outputs": [],
   "source": [
    "def solution():\n",
    "\treturn sum(1 for number in range(1, 10) for power in range(1, 100) if is_nth_power(number, power))"
   ]
  },
  {
   "cell_type": "markdown",
   "id": "153c42d8",
   "metadata": {},
   "source": [
    "# Run"
   ]
  },
  {
   "cell_type": "code",
   "execution_count": 16,
   "id": "ed1e1a29",
   "metadata": {},
   "outputs": [
    {
     "name": "stdout",
     "output_type": "stream",
     "text": [
      "CPU times: total: 0 ns\n",
      "Wall time: 0 ns\n"
     ]
    },
    {
     "data": {
      "text/plain": [
       "49"
      ]
     },
     "execution_count": 16,
     "metadata": {},
     "output_type": "execute_result"
    }
   ],
   "source": [
    "%%time\n",
    "solution()"
   ]
  }
 ],
 "metadata": {
  "kernelspec": {
   "display_name": "Python 3",
   "language": "python",
   "name": "python3"
  },
  "language_info": {
   "codemirror_mode": {
    "name": "ipython",
    "version": 3
   },
   "file_extension": ".py",
   "mimetype": "text/x-python",
   "name": "python",
   "nbconvert_exporter": "python",
   "pygments_lexer": "ipython3",
   "version": "3.11.4"
  }
 },
 "nbformat": 4,
 "nbformat_minor": 5
}
