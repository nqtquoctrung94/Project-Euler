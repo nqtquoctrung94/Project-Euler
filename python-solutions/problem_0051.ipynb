{
 "cells": [
  {
   "cell_type": "markdown",
   "id": "acb7d429",
   "metadata": {},
   "source": [
    "# [Question 51](https://projecteuler.net/problem=51)"
   ]
  },
  {
   "cell_type": "markdown",
   "id": "92dd0550",
   "metadata": {},
   "source": [
    "## Prime Digit Replacements\n",
    "By replacing the 1st digit of the 2-digit number *3, it turns out that six of the nine possible values: 13, 23, 43, 53, 73, and 83, are all prime.<br>\n",
    "By replacing the 3rd and 4th digits of 56**3 with the same digit, this 5-digit number is the first example having seven primes among the ten generated numbers, yielding the family: 56003, 56113, 56333, 56443, 56663, 56773, and 56993. Consequently 56003, being the first member of this family, is the smallest prime with this property.<br>\n",
    "Find the smallest prime which, by replacing part of the number (not necessarily adjacent digits) with the same digit, is part of an eight prime value family.<br>\n"
   ]
  },
  {
   "cell_type": "markdown",
   "id": "b8640681",
   "metadata": {},
   "source": [
    "# Solution"
   ]
  },
  {
   "cell_type": "code",
   "execution_count": 57,
   "id": "349396c6",
   "metadata": {},
   "outputs": [],
   "source": [
    "from euler_lib import sieve_of_eratosthenes"
   ]
  },
  {
   "cell_type": "code",
   "execution_count": 58,
   "id": "038c8fb4",
   "metadata": {},
   "outputs": [],
   "source": [
    "def replace_digit(number:int, target:int, replace:int) -> int:\n",
    "    if (replace==0) and (target==str(number)[0]):\n",
    "        return -1\n",
    "    return int(''.join(str(digit).replace(str(target), str(replace)) for digit in str(number)))"
   ]
  },
  {
   "cell_type": "code",
   "execution_count": 59,
   "id": "81025b1f",
   "metadata": {},
   "outputs": [],
   "source": [
    "def replacement_prime_family(prime:int, target:int, prime_check: dict) -> list:\n",
    "    family = [prime]\n",
    "\n",
    "    for replacement in set(\"9876543210\") - set(target):\n",
    "        new_number = replace_digit(prime, target, int(replacement))\n",
    "        if new_number in prime_check.keys():\n",
    "            prime_check[new_number] = True\n",
    "            family.append(new_number)\n",
    "\n",
    "    return family"
   ]
  },
  {
   "cell_type": "code",
   "execution_count": 60,
   "id": "8dc6eed5",
   "metadata": {},
   "outputs": [],
   "source": [
    "def solution():\n",
    "\tprime_check = {prime:False for prime in sieve_of_eratosthenes(1000000)}\n",
    "\tfor prime, checked in prime_check.items():\n",
    "\t\t\n",
    "\t\tif checked:\n",
    "\t\t\tcontinue\n",
    "\t\tprime_check[prime] = True\n",
    "\n",
    "\t\tfor target_digit in set(str(prime)):\n",
    "\t\t\tprime_family = replacement_prime_family(prime, target_digit, prime_check)\n",
    "\t\t\tif len(prime_family) == 8:\n",
    "\t\t\t\treturn min(prime_family)"
   ]
  },
  {
   "cell_type": "markdown",
   "id": "0e850140",
   "metadata": {},
   "source": [
    "# Run"
   ]
  },
  {
   "cell_type": "code",
   "execution_count": 61,
   "id": "85d2c4bf",
   "metadata": {},
   "outputs": [
    {
     "name": "stdout",
     "output_type": "stream",
     "text": [
      "CPU times: total: 4.86 s\n",
      "Wall time: 5.66 s\n"
     ]
    },
    {
     "data": {
      "text/plain": [
       "121313"
      ]
     },
     "execution_count": 61,
     "metadata": {},
     "output_type": "execute_result"
    }
   ],
   "source": [
    "%%time\n",
    "solution()"
   ]
  }
 ],
 "metadata": {
  "kernelspec": {
   "display_name": "base",
   "language": "python",
   "name": "python3"
  },
  "language_info": {
   "codemirror_mode": {
    "name": "ipython",
    "version": 3
   },
   "file_extension": ".py",
   "mimetype": "text/x-python",
   "name": "python",
   "nbconvert_exporter": "python",
   "pygments_lexer": "ipython3",
   "version": "3.10.9"
  }
 },
 "nbformat": 4,
 "nbformat_minor": 5
}
