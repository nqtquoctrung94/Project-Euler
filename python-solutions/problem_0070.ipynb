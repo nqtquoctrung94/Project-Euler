{
 "cells": [
  {
   "cell_type": "markdown",
   "id": "efd75df1",
   "metadata": {},
   "source": [
    "# [Question 70](https://projecteuler.net/problem=70)"
   ]
  },
  {
   "cell_type": "markdown",
   "id": "2400be51",
   "metadata": {},
   "source": [
    "## Totient Permutation\n",
    "Euler's totient function, $\\phi(n)$ [sometimes called the phi function], is used to determine the number of positive numbers less than or equal to $n$ which are relatively prime to $n$. For example, as $1, 2, 4, 5, 7$, and $8$, are all less than nine and relatively prime to nine, $\\phi(9)=6$.The number $1$ is considered to be relatively prime to every positive number, so $\\phi(1)=1$. <br>\n",
    "Interestingly, $\\phi(87109)=79180$, and it can be seen that $87109$ is a permutation of $79180$.<br>\n",
    "Find the value of $n$, $1 \\lt n \\lt 10^7$, for which $\\phi(n)$ is a permutation of $n$ and the ratio $n/\\phi(n)$ produces a minimum.<br>\n"
   ]
  },
  {
   "cell_type": "markdown",
   "id": "62e969bb",
   "metadata": {},
   "source": [
    "# Solution"
   ]
  },
  {
   "cell_type": "code",
   "execution_count": null,
   "id": "69a56886",
   "metadata": {},
   "outputs": [],
   "source": [
    "def solution():\n",
    "    pass"
   ]
  },
  {
   "cell_type": "markdown",
   "id": "a24706ce",
   "metadata": {},
   "source": [
    "# Run"
   ]
  },
  {
   "cell_type": "code",
   "execution_count": null,
   "id": "da6caab7",
   "metadata": {},
   "outputs": [],
   "source": [
    "%%time\n",
    "solution()"
   ]
  }
 ],
 "metadata": {},
 "nbformat": 4,
 "nbformat_minor": 5
}
