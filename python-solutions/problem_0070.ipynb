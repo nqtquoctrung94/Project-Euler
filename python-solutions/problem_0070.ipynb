{
 "cells": [
  {
   "cell_type": "markdown",
   "id": "efd75df1",
   "metadata": {},
   "source": [
    "# [Question 70](https://projecteuler.net/problem=70)"
   ]
  },
  {
   "cell_type": "markdown",
   "id": "2400be51",
   "metadata": {},
   "source": [
    "## Totient Permutation\n",
    "Euler's totient function, $\\phi(n)$ [sometimes called the phi function], is used to determine the number of positive numbers less than or equal to $n$ which are relatively prime to $n$. For example, as $1, 2, 4, 5, 7$, and $8$, are all less than nine and relatively prime to nine, $\\phi(9)=6$.The number $1$ is considered to be relatively prime to every positive number, so $\\phi(1)=1$. <br>\n",
    "Interestingly, $\\phi(87109)=79180$, and it can be seen that $87109$ is a permutation of $79180$.<br>\n",
    "Find the value of $n$, $1 \\lt n \\lt 10^7$, for which $\\phi(n)$ is a permutation of $n$ and the ratio $n/\\phi(n)$ produces a minimum.<br>\n"
   ]
  },
  {
   "cell_type": "markdown",
   "id": "62e969bb",
   "metadata": {},
   "source": [
    "# Solution"
   ]
  },
  {
   "cell_type": "code",
   "execution_count": 10,
   "id": "4b3524de",
   "metadata": {},
   "outputs": [],
   "source": [
    "from snippet.euler_lib import totient_1_to_n"
   ]
  },
  {
   "cell_type": "code",
   "execution_count": 11,
   "id": "5eb76e40",
   "metadata": {},
   "outputs": [],
   "source": [
    "def are_permutation_pair(a:int, b:int) -> bool:\n",
    "    str_a, str_b = str(a), str(b)\n",
    "    if len(str_a) != len(str_b):\n",
    "        return False\n",
    "    return sorted(str_a) == sorted(str_b)"
   ]
  },
  {
   "cell_type": "code",
   "execution_count": 12,
   "id": "69a56886",
   "metadata": {},
   "outputs": [],
   "source": [
    "def solution_loop():\n",
    "    limit = 10**7\n",
    "    phi = totient_1_to_n(limit)\n",
    "    result = 1\n",
    "    min_fraction = limit\n",
    "    for n in range(2, limit):\n",
    "        if are_permutation_pair(n, phi[n]):\n",
    "            fraction = n / phi[n]\n",
    "            if fraction < min_fraction:\n",
    "                result = n\n",
    "                min_fraction = fraction\n",
    "    return result"
   ]
  },
  {
   "cell_type": "code",
   "execution_count": 13,
   "id": "fc553dce",
   "metadata": {},
   "outputs": [],
   "source": [
    "def solution_dict():\n",
    "    limit = 10**7\n",
    "    phi = totient_1_to_n(limit)\n",
    "    fractions = {n: n/phi[n] for n in range(2, limit) if are_permutation_pair(n, phi[n])}\n",
    "    return min(fractions, key=fractions.get)"
   ]
  },
  {
   "cell_type": "markdown",
   "id": "06228947",
   "metadata": {},
   "source": [
    "Observation:\n",
    "- Odd number has rate < 2, while even number has rate >= 2 <br>\n",
    "    => Can reduce numbers to check by half"
   ]
  },
  {
   "cell_type": "markdown",
   "id": "a24706ce",
   "metadata": {},
   "source": [
    "# Run"
   ]
  },
  {
   "cell_type": "code",
   "execution_count": 14,
   "id": "da6caab7",
   "metadata": {},
   "outputs": [
    {
     "name": "stdout",
     "output_type": "stream",
     "text": [
      "CPU times: total: 2.23 s\n",
      "Wall time: 15.5 s\n"
     ]
    },
    {
     "data": {
      "text/plain": [
       "8319823"
      ]
     },
     "execution_count": 14,
     "metadata": {},
     "output_type": "execute_result"
    }
   ],
   "source": [
    "%%time\n",
    "solution_loop()"
   ]
  },
  {
   "cell_type": "code",
   "execution_count": 15,
   "id": "e507acb8",
   "metadata": {},
   "outputs": [
    {
     "name": "stdout",
     "output_type": "stream",
     "text": [
      "CPU times: total: 3.83 s\n",
      "Wall time: 15 s\n"
     ]
    },
    {
     "data": {
      "text/plain": [
       "8319823"
      ]
     },
     "execution_count": 15,
     "metadata": {},
     "output_type": "execute_result"
    }
   ],
   "source": [
    "%%time\n",
    "solution_dict()"
   ]
  }
 ],
 "metadata": {
  "kernelspec": {
   "display_name": "Python 3",
   "language": "python",
   "name": "python3"
  },
  "language_info": {
   "codemirror_mode": {
    "name": "ipython",
    "version": 3
   },
   "file_extension": ".py",
   "mimetype": "text/x-python",
   "name": "python",
   "nbconvert_exporter": "python",
   "pygments_lexer": "ipython3",
   "version": "3.11.4"
  }
 },
 "nbformat": 4,
 "nbformat_minor": 5
}
