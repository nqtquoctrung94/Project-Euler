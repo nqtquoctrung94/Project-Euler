{
 "cells": [
  {
   "cell_type": "markdown",
   "id": "bd621380",
   "metadata": {},
   "source": [
    "# [Question 56](https://projecteuler.net/problem=56)"
   ]
  },
  {
   "cell_type": "markdown",
   "id": "322964cc",
   "metadata": {},
   "source": [
    "## Powerful Digit Sum\n",
    "A googol ($10^{100}$) is a massive number: one followed by one-hundred zeros; $100^{100}$ is almost unimaginably large: one followed by two-hundred zeros. Despite their size, the sum of the digits in each number is only $1$.<br>\n",
    "Considering natural numbers of the form, $a^b$, where $a, b \\lt 100$, what is the maximum digital sum?<br>\n"
   ]
  },
  {
   "cell_type": "markdown",
   "id": "1fcd695e",
   "metadata": {},
   "source": [
    "# Solution"
   ]
  },
  {
   "cell_type": "code",
   "execution_count": 174,
   "id": "fe028e47",
   "metadata": {},
   "outputs": [],
   "source": [
    "import math"
   ]
  },
  {
   "cell_type": "code",
   "execution_count": 175,
   "id": "c3439014",
   "metadata": {},
   "outputs": [],
   "source": [
    "def digit_sum(number:int) -> int:\n",
    "    return sum(int(digit) for digit in str(number))"
   ]
  },
  {
   "cell_type": "code",
   "execution_count": 176,
   "id": "e3d332f2",
   "metadata": {},
   "outputs": [],
   "source": [
    "def solution():\n",
    "\treturn max(digit_sum(a**b) for a in range(100) for b in range(100))"
   ]
  },
  {
   "cell_type": "markdown",
   "id": "a97d88d5",
   "metadata": {},
   "source": [
    "# Run"
   ]
  },
  {
   "cell_type": "code",
   "execution_count": 177,
   "id": "1ceba684",
   "metadata": {},
   "outputs": [
    {
     "name": "stdout",
     "output_type": "stream",
     "text": [
      "CPU times: total: 46.9 ms\n",
      "Wall time: 102 ms\n"
     ]
    },
    {
     "data": {
      "text/plain": [
       "972"
      ]
     },
     "execution_count": 177,
     "metadata": {},
     "output_type": "execute_result"
    }
   ],
   "source": [
    "%%time\n",
    "solution()"
   ]
  }
 ],
 "metadata": {
  "kernelspec": {
   "display_name": "Python 3",
   "language": "python",
   "name": "python3"
  },
  "language_info": {
   "codemirror_mode": {
    "name": "ipython",
    "version": 3
   },
   "file_extension": ".py",
   "mimetype": "text/x-python",
   "name": "python",
   "nbconvert_exporter": "python",
   "pygments_lexer": "ipython3",
   "version": "3.11.4"
  }
 },
 "nbformat": 4,
 "nbformat_minor": 5
}
