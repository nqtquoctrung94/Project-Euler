{
 "cells": [
  {
   "cell_type": "markdown",
   "id": "da3f42bb",
   "metadata": {},
   "source": [
    "# [Question 27](https://projecteuler.net/problem=27)"
   ]
  },
  {
   "cell_type": "markdown",
   "id": "6ecd667c",
   "metadata": {},
   "source": [
    "## Quadratic Primes\n",
    "Euler discovered the remarkable quadratic formula:<br>\n",
    "$$n^2 + n + 41$$\n",
    "\n",
    "It turns out that the formula will produce $40$ primes for the consecutive integer values $0 \\le n \\le 39$. However, when $n = 40, 40^2 + 40 + 41 = 40(40 + 1) + 41$ is divisible by $41$, and certainly when $n = 41, 41^2 + 41 + 41$ is clearly divisible by $41$.<br>\n",
    "The incredible formula $n^2 - 79n + 1601$ was discovered, which produces $80$ primes for the consecutive values $0 \\le n \\le 79$. The product of the coefficients, $-79$ and $1601$, is $-126479$.<br>\n",
    "Considering quadratics of the form:<br>\n",
    "\n",
    "$$n^2 + an + b$$\n",
    ", where $|a| < 1000$ and $|b| \\le 1000$ where $|n|$ is the modulus/absolute value of $n$ <br>\n",
    "e.g. $|11| = 11$ and $|-4| = 4$ <br>\n",
    "\n",
    "Find the product of the coefficients, $a$ and $b$, for the quadratic expression that produces the maximum number of primes for consecutive values of $n$, starting with $n = 0$.<br>\n"
   ]
  },
  {
   "cell_type": "markdown",
   "id": "d4caf8df",
   "metadata": {},
   "source": [
    "# Solution"
   ]
  },
  {
   "cell_type": "markdown",
   "id": "0fc7c589",
   "metadata": {},
   "source": [
    "Let $F(n) = n^2 + an + b$\n",
    "- For n=0, $F(0) = b \\rightarrow$  b must be prime\n",
    "- For n=b, $F(b) = b^2 + ab + b \\rightarrow $ n is in range(0, b)"
   ]
  },
  {
   "cell_type": "code",
   "execution_count": 22,
   "id": "27a353a2",
   "metadata": {},
   "outputs": [],
   "source": [
    "from euler_lib import sieve_of_eratosthenes as sieve\n",
    "from euler_lib import is_prime\n",
    "\n",
    "def calculate_prime_chain(a:int , b:int) -> int:\n",
    "    for n in range(b):\n",
    "        f_n = n**2 + a*n + b\n",
    "        if not is_prime(f_n):\n",
    "            return n-1\n",
    "    return b-1"
   ]
  },
  {
   "cell_type": "code",
   "execution_count": 23,
   "id": "b3859617",
   "metadata": {},
   "outputs": [],
   "source": [
    "def solution():\n",
    "\tprime_list = sieve(1000)\n",
    "\tmax_chain = 0\n",
    "\tmax_a = 0\n",
    "\tmax_b = 0\n",
    "\tfor a in range(-999, 1000):\n",
    "\t\tfor b in prime_list:\n",
    "\t\t\tchain = calculate_prime_chain(a, b)\n",
    "\t\t\tif chain > max_chain:\n",
    "\t\t\t\tmax_chain = chain\n",
    "\t\t\t\tmax_a = a\n",
    "\t\t\t\tmax_b = b\n",
    "\t\t\t\t# print(f\"Found function F(n) = n^2 + {a}*n + {b} with {max_chain} consecutive primes\")\n",
    "\treturn max_a * max_b"
   ]
  },
  {
   "cell_type": "markdown",
   "id": "701327f4",
   "metadata": {},
   "source": [
    "# Run"
   ]
  },
  {
   "cell_type": "code",
   "execution_count": 24,
   "id": "5e34c6f0",
   "metadata": {},
   "outputs": [
    {
     "name": "stdout",
     "output_type": "stream",
     "text": [
      "CPU times: total: 1.73 s\n",
      "Wall time: 2.09 s\n"
     ]
    },
    {
     "data": {
      "text/plain": [
       "-59231"
      ]
     },
     "execution_count": 24,
     "metadata": {},
     "output_type": "execute_result"
    }
   ],
   "source": [
    "%%time\n",
    "solution()"
   ]
  }
 ],
 "metadata": {
  "kernelspec": {
   "display_name": "base",
   "language": "python",
   "name": "python3"
  },
  "language_info": {
   "codemirror_mode": {
    "name": "ipython",
    "version": 3
   },
   "file_extension": ".py",
   "mimetype": "text/x-python",
   "name": "python",
   "nbconvert_exporter": "python",
   "pygments_lexer": "ipython3",
   "version": "3.10.9"
  }
 },
 "nbformat": 4,
 "nbformat_minor": 5
}
