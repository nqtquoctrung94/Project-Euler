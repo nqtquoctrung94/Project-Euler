{
 "cells": [
  {
   "cell_type": "markdown",
   "id": "b5ce2335",
   "metadata": {},
   "source": [
    "# [Question 68](https://projecteuler.net/problem=68)"
   ]
  },
  {
   "cell_type": "markdown",
   "id": "f3a24bb0",
   "metadata": {},
   "source": [
    "## Magic 5-gon Ring\n",
    "Consider the following \"magic\" 3-gon ring, filled with the numbers 1 to 6, and each line adding to nine.<br>\n",
    "\n",
    "<div style=\"background-color: white; display: inline-block; padding: 10px; text-align: center;\">\n",
    "    <img src=\"https://projecteuler.net/resources/images/0068_1.png?1678992052\" alt=\"Image\" />\n",
    "</div>\n",
    "\n",
    "Working clockwise, and starting from the group of three with the numerically lowest external node (4,3,2 in this example), each solution can be described uniquely. For example, the above solution can be described by the set: 4,3,2; 6,2,1; 5,1,3.<br>\n",
    "It is possible to complete the ring with four different totals: 9, 10, 11, and 12. There are eight solutions in total.<br>\n",
    "\n",
    "| Total | Solution Set        |\n",
    "|-------|---------------------|\n",
    "|     9 | 4,2,3; 5,3,1; 6,1,2 |\n",
    "|     9 | 4,3,2; 6,2,1; 5,1,3 |\n",
    "|    10 | 2,3,5; 4,5,1; 6,1,3 |\n",
    "|    10 | 2,5,3; 6,3,1; 4,1,5 |\n",
    "|    11 | 1,4,6; 3,6,2; 5,2,4 |\n",
    "|    11 | 1,6,4; 5,4,2; 3,2,6 |\n",
    "|    12 | 1,5,6; 2,6,4; 3,4,5 |\n",
    "|    12 | 1,6,5; 3,5,4; 2,4,6 |\n",
    "\n",
    "By concatenating each group it is possible to form 9-digit strings; the maximum string for a 3-gon ring is 432621513.<br>\n",
    "Using the numbers 1 to 10, and depending on arrangements, it is possible to form 16- and 17-digit strings. What is the maximum 16-digit string for a \"magic\" 5-gon ring?<br>\n",
    "\n",
    "<div style=\"background-color: white; display: inline-block; padding: 10px; text-align: center;\">\n",
    "    <img src=\"https://projecteuler.net/resources/images/0068_2.png?1678992052\" alt=\"Image\" />\n",
    "</div>"
   ]
  },
  {
   "cell_type": "markdown",
   "id": "5d72f844",
   "metadata": {},
   "source": [
    "# Solution"
   ]
  },
  {
   "attachments": {
    "image.png": {
     "image/png": "[encoded data removed]"
    }
   },
   "cell_type": "markdown",
   "id": "6fe4ff51",
   "metadata": {},
   "source": [
    "![image.png](attachment:image.png)"
   ]
  },
  {
   "cell_type": "code",
   "execution_count": 189,
   "id": "f239903f",
   "metadata": {},
   "outputs": [],
   "source": [
    "from itertools import combinations, permutations"
   ]
  },
  {
   "cell_type": "code",
   "execution_count": 190,
   "id": "0041ef11",
   "metadata": {},
   "outputs": [],
   "source": [
    "def form_number(outer, inner):\n",
    "    set_size = len(outer)\n",
    "    num_string = ''\n",
    "    for i in range(set_size):\n",
    "        num_string += str(outer[i]) + str(inner[i]) + str(inner[(i+1) % set_size])\n",
    "    return int(num_string)"
   ]
  },
  {
   "cell_type": "code",
   "execution_count": 191,
   "id": "acb9fa58",
   "metadata": {},
   "outputs": [],
   "source": [
    "def are_valid_sets(outer, inner):\n",
    "    \"\"\"This function check if each line of the ring have the same sum\"\"\"\n",
    "    set_size = len(outer)\n",
    "    target_sum = outer[0] + inner[0] + inner[1]\n",
    "\n",
    "    for i in range(1,set_size):\n",
    "        if outer[i] + inner[i] + inner[(i+1) % set_size] != target_sum:\n",
    "            return False\n",
    "    return True"
   ]
  },
  {
   "cell_type": "code",
   "execution_count": 192,
   "id": "254a2edb",
   "metadata": {},
   "outputs": [],
   "source": [
    "def valid_ring(size):\n",
    "    num_limit = size*2\n",
    "    for outer_nums in permutations(range(1,num_limit+1), r=size): \n",
    "        if outer_nums[0] == min(outer_nums):                # First number must be the lowest\n",
    "            for inner_nums in permutations(set(range(1, num_limit+1)) - set(outer_nums)):\n",
    "                if are_valid_sets(outer_nums, inner_nums):\n",
    "                    yield form_number(outer_nums, inner_nums)"
   ]
  },
  {
   "cell_type": "code",
   "execution_count": 193,
   "id": "2199e2ac",
   "metadata": {},
   "outputs": [],
   "source": [
    "def solution():\n",
    "    ring_numbers = valid_ring(size=5)\n",
    "    return max(num for num in ring_numbers if len(str(num))==16)"
   ]
  },
  {
   "cell_type": "markdown",
   "id": "1d4c5fcd",
   "metadata": {},
   "source": [
    "# Run"
   ]
  },
  {
   "cell_type": "code",
   "execution_count": 194,
   "id": "43bc1efa",
   "metadata": {},
   "outputs": [
    {
     "name": "stdout",
     "output_type": "stream",
     "text": [
      "CPU times: total: 93.8 ms\n",
      "Wall time: 266 ms\n"
     ]
    },
    {
     "data": {
      "text/plain": [
       "6531031914842725"
      ]
     },
     "execution_count": 194,
     "metadata": {},
     "output_type": "execute_result"
    }
   ],
   "source": [
    "%%time\n",
    "solution()"
   ]
  },
  {
   "cell_type": "markdown",
   "id": "df4eb6a6",
   "metadata": {},
   "source": [
    "valid_ring function works for other sizes as well"
   ]
  },
  {
   "cell_type": "code",
   "execution_count": 195,
   "id": "0f6eda11",
   "metadata": {},
   "outputs": [
    {
     "name": "stdout",
     "output_type": "stream",
     "text": [
      "432621513\n",
      "CPU times: total: 0 ns\n",
      "Wall time: 1 ms\n"
     ]
    }
   ],
   "source": [
    "%%time\n",
    "print(max(valid_ring(size=3)))"
   ]
  },
  {
   "cell_type": "markdown",
   "id": "9fc3a1d2",
   "metadata": {},
   "source": [
    "## Faster approach"
   ]
  },
  {
   "cell_type": "markdown",
   "id": "1d596e2e",
   "metadata": {},
   "source": [
    "Because we are looking for 16-digit 5-gon number, and the number inside the ring repeat 2 times <br>\n",
    "=> 10 must be on the outside "
   ]
  },
  {
   "cell_type": "code",
   "execution_count": 196,
   "id": "710bc259",
   "metadata": {},
   "outputs": [],
   "source": [
    "def valid_ring(size):\n",
    "    num_limit = size*2\n",
    "    for outer in combinations(range(1,num_limit), r=size-1):    # Pick combination of outside numbers (without 10)\n",
    "        for outer_nums in permutations((*outer, num_limit)):    # Add 10 then create permutations\n",
    "            if outer_nums[0] == min(outer_nums):                # First number must be the lowest\n",
    "                for inner_nums in permutations(set(range(1, num_limit+1)) - set(outer_nums)):\n",
    "                    if are_valid_sets(outer_nums, inner_nums):\n",
    "                        yield form_number(outer_nums, inner_nums)"
   ]
  },
  {
   "cell_type": "code",
   "execution_count": 197,
   "id": "0f9ed453",
   "metadata": {},
   "outputs": [],
   "source": [
    "def solution():\n",
    "    return max(valid_ring(size=5)) # We sure that the size is 16 so no need to check condition"
   ]
  },
  {
   "cell_type": "code",
   "execution_count": 198,
   "id": "3aa26e7b",
   "metadata": {},
   "outputs": [
    {
     "name": "stdout",
     "output_type": "stream",
     "text": [
      "CPU times: total: 78.1 ms\n",
      "Wall time: 125 ms\n"
     ]
    },
    {
     "data": {
      "text/plain": [
       "6531031914842725"
      ]
     },
     "execution_count": 198,
     "metadata": {},
     "output_type": "execute_result"
    }
   ],
   "source": [
    "%%time\n",
    "solution()"
   ]
  }
 ],
 "metadata": {
  "kernelspec": {
   "display_name": "Python 3",
   "language": "python",
   "name": "python3"
  },
  "language_info": {
   "codemirror_mode": {
    "name": "ipython",
    "version": 3
   },
   "file_extension": ".py",
   "mimetype": "text/x-python",
   "name": "python",
   "nbconvert_exporter": "python",
   "pygments_lexer": "ipython3",
   "version": "3.10.9"
  }
 },
 "nbformat": 4,
 "nbformat_minor": 5
}
