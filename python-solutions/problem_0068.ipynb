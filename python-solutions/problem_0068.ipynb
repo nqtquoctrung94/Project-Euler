{
 "cells": [
  {
   "cell_type": "markdown",
   "id": "b5ce2335",
   "metadata": {},
   "source": [
    "# [Question 68](https://projecteuler.net/problem=68)"
   ]
  },
  {
   "cell_type": "markdown",
   "id": "f3a24bb0",
   "metadata": {},
   "source": [
    "## Magic 5-gon Ring\n",
    "Consider the following \"magic\" 3-gon ring, filled with the numbers 1 to 6, and each line adding to nine.<br>\n",
    "<br>\n",
    "<br>\n",
    "Working clockwise, and starting from the group of three with the numerically lowest external node (4,3,2 in this example), each solution can be described uniquely. For example, the above solution can be described by the set: 4,3,2; 6,2,1; 5,1,3.<br>\n",
    "It is possible to complete the ring with four different totals: 9, 10, 11, and 12. There are eight solutions in total.<br>\n",
    "<br>\n",
    "TotalSolution Set<br>\n",
    "94,2,3; 5,3,1; 6,1,2<br>\n",
    "94,3,2; 6,2,1; 5,1,3<br>\n",
    "102,3,5; 4,5,1; 6,1,3<br>\n",
    "102,5,3; 6,3,1; 4,1,5<br>\n",
    "111,4,6; 3,6,2; 5,2,4<br>\n",
    "111,6,4; 5,4,2; 3,2,6<br>\n",
    "121,5,6; 2,6,4; 3,4,5<br>\n",
    "121,6,5; 3,5,4; 2,4,6<br>\n",
    "<br>\n",
    "By concatenating each group it is possible to form 9-digit strings; the maximum string for a 3-gon ring is 432621513.<br>\n",
    "Using the numbers 1 to 10, and depending on arrangements, it is possible to form 16- and 17-digit strings. What is the maximum 16-digit string for a \"magic\" 5-gon ring?<br>\n",
    "<br>\n",
    "<br>\n"
   ]
  },
  {
   "cell_type": "markdown",
   "id": "5d72f844",
   "metadata": {},
   "source": [
    "# Solution"
   ]
  },
  {
   "cell_type": "code",
   "execution_count": null,
   "id": "2199e2ac",
   "metadata": {},
   "outputs": [],
   "source": [
    "def solution():\n",
    "\tpass"
   ]
  },
  {
   "cell_type": "markdown",
   "id": "1d4c5fcd",
   "metadata": {},
   "source": [
    "# Run"
   ]
  },
  {
   "cell_type": "code",
   "execution_count": null,
   "id": "43bc1efa",
   "metadata": {},
   "outputs": [],
   "source": [
    "%%time\n",
    "solution()"
   ]
  }
 ],
 "metadata": {},
 "nbformat": 4,
 "nbformat_minor": 5
}
