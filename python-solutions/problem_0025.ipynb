{
 "cells": [
  {
   "cell_type": "markdown",
   "id": "571355bd",
   "metadata": {},
   "source": [
    "# [Question 25](https://projecteuler.net/problem=25)"
   ]
  },
  {
   "cell_type": "markdown",
   "id": "660c1697",
   "metadata": {},
   "source": [
    "## $1000$-digit Fibonacci Number\n",
    "The Fibonacci sequence is defined by the recurrence relation:<br>\n",
    "$F_n = F_{n - 1} + F_{n - 2}$, where $F_1 = 1$ and $F_2 = 1$.<br>\n",
    "Hence the first $12$ terms will be:<br>\n",
    "\\begin{align}\n",
    "F_1 &= 1\\\\\n",
    "F_2 &= 1\\\\\n",
    "F_3 &= 2\\\\\n",
    "F_4 &= 3\\\\\n",
    "F_5 &= 5\\\\\n",
    "F_6 &= 8\\\\\n",
    "F_7 &= 13\\\\\n",
    "F_8 &= 21\\\\\n",
    "F_9 &= 34\\\\\n",
    "F_{10} &= 55\\\\\n",
    "F_{11} &= 89\\\\\n",
    "F_{12} &= 144\n",
    "\\end{align}\n",
    "The $12$ th term, $F_{12}$, is the first term to contain three digits.<br>\n",
    "What is the index of the first term in the Fibonacci sequence to contain $1000$ digits?<br>\n"
   ]
  },
  {
   "cell_type": "markdown",
   "id": "2c161489",
   "metadata": {},
   "source": [
    "# Solution"
   ]
  },
  {
   "cell_type": "code",
   "execution_count": 17,
   "id": "52513b3a",
   "metadata": {},
   "outputs": [],
   "source": [
    "import math\n",
    "\n",
    "fibonacci_dict = {1: 1, 2: 1}\n",
    "\n",
    "def fibonacci_n(n, fib_dict=fibonacci_dict):\n",
    "    # Check if the value is already present in the dictionary\n",
    "    if n in fib_dict:\n",
    "        return fib_dict[n]\n",
    "    \n",
    "    # Calculate the Fibonacci number recursively\n",
    "    fib_dict[n] = fibonacci_n(n-1) + fibonacci_n(n-2)\n",
    "    return fib_dict[n]\n",
    "\t\n",
    "# Pre-loading the dictionary for time comparison\n",
    "for i in range(1, 5000):\n",
    "    a = fibonacci_n(i)"
   ]
  },
  {
   "cell_type": "code",
   "execution_count": 18,
   "id": "e2393216",
   "metadata": {},
   "outputs": [],
   "source": [
    "def solution1():\n",
    "\tindex = 1\n",
    "\tfibo_number = fibonacci_n(index)\n",
    "\twhile fibo_number // 10**999 < 1:\n",
    "\t\tindex += 1\n",
    "\t\tfibo_number = fibonacci_n(index)\n",
    "\treturn index\n",
    "\n",
    "def solution2():\n",
    "\tindex = 1\n",
    "\tfibo_number = fibonacci_n(index)\n",
    "\twhile math.log10(fibo_number)+1 < 1000:\n",
    "\t\tindex += 1\n",
    "\t\tfibo_number = fibonacci_n(index)\n",
    "\treturn index\n",
    "\n",
    "def solution3():\n",
    "\tindex = 1\n",
    "\tfibo_number = fibonacci_n(index)\n",
    "\twhile len(str(fibo_number)) < 1000:\n",
    "\t\tindex += 1\n",
    "\t\tfibo_number = fibonacci_n(index)\n",
    "\treturn index"
   ]
  },
  {
   "cell_type": "markdown",
   "id": "1ffa7d80",
   "metadata": {},
   "source": [
    "## Other approachs to consider"
   ]
  },
  {
   "cell_type": "markdown",
   "id": "bce7fa73",
   "metadata": {},
   "source": [
    "Using Binet's formula \n",
    "- Reading: https://artofproblemsolving.com/wiki/index.php/Binet%27s_Formula\n",
    "- The runtime is terrible and the power growth every fast, it is not possible to calculate this for index larger than 1400 due to limitation in calculating float numbers"
   ]
  },
  {
   "cell_type": "markdown",
   "id": "7282cbcc",
   "metadata": {},
   "source": [
    "Using Matrix exponentiation\n",
    "- Reading: https://www.geeksforgeeks.org/matrix-exponentiation/\n",
    "- It's way too complex but proved to have the best time performance to find Fibonacci number at nth position"
   ]
  },
  {
   "cell_type": "markdown",
   "id": "bf86f12e",
   "metadata": {},
   "source": [
    "# Run"
   ]
  },
  {
   "cell_type": "code",
   "execution_count": 19,
   "id": "2d227879",
   "metadata": {},
   "outputs": [
    {
     "name": "stdout",
     "output_type": "stream",
     "text": [
      "14.4 ms ± 587 µs per loop (mean ± std. dev. of 7 runs, 100 loops each)\n"
     ]
    }
   ],
   "source": [
    "%%timeit\n",
    "solution1()"
   ]
  },
  {
   "cell_type": "code",
   "execution_count": 20,
   "id": "33a3b210",
   "metadata": {},
   "outputs": [
    {
     "name": "stdout",
     "output_type": "stream",
     "text": [
      "1.43 ms ± 26.5 µs per loop (mean ± std. dev. of 7 runs, 1,000 loops each)\n"
     ]
    }
   ],
   "source": [
    "%%timeit\n",
    "solution2()"
   ]
  },
  {
   "cell_type": "code",
   "execution_count": 21,
   "id": "e9b7fe8c",
   "metadata": {},
   "outputs": [
    {
     "name": "stdout",
     "output_type": "stream",
     "text": [
      "25.4 ms ± 1.02 ms per loop (mean ± std. dev. of 7 runs, 10 loops each)\n"
     ]
    }
   ],
   "source": [
    "%%timeit\n",
    "solution3()"
   ]
  }
 ],
 "metadata": {
  "kernelspec": {
   "display_name": "base",
   "language": "python",
   "name": "python3"
  },
  "language_info": {
   "codemirror_mode": {
    "name": "ipython",
    "version": 3
   },
   "file_extension": ".py",
   "mimetype": "text/x-python",
   "name": "python",
   "nbconvert_exporter": "python",
   "pygments_lexer": "ipython3",
   "version": "3.11.4"
  }
 },
 "nbformat": 4,
 "nbformat_minor": 5
}
