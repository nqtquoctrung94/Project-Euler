{
 "cells": [
  {
   "cell_type": "markdown",
   "id": "c4936cb7",
   "metadata": {},
   "source": [
    "# [Question 35](https://projecteuler.net/problem=35)"
   ]
  },
  {
   "cell_type": "markdown",
   "id": "8eff551c",
   "metadata": {},
   "source": [
    "## Circular Primes\n",
    "The number, $197$, is called a circular prime because all rotations of the digits: $197$, $971$, and $719$, are themselves prime.<br>\n",
    "There are thirteen such primes below $100$: $2, 3, 5, 7, 11, 13, 17, 31, 37, 71, 73, 79$, and $97$.<br>\n",
    "How many circular primes are there below one million?<br>\n"
   ]
  },
  {
   "cell_type": "markdown",
   "id": "ab26aacd",
   "metadata": {},
   "source": [
    "# Solution"
   ]
  },
  {
   "cell_type": "code",
   "execution_count": 53,
   "id": "4d53e5eb",
   "metadata": {},
   "outputs": [],
   "source": [
    "from snippet.euler_lib import sieve_of_eratosthenes"
   ]
  },
  {
   "cell_type": "code",
   "execution_count": 54,
   "id": "7d88a89d",
   "metadata": {},
   "outputs": [],
   "source": [
    "def rotate_number(number: int) -> list:\n",
    "    string_number = str(number)\n",
    "    return [int(string_number[i:] + string_number[:i]) for i in range(len(string_number))]"
   ]
  },
  {
   "cell_type": "code",
   "execution_count": 55,
   "id": "a844aa64",
   "metadata": {},
   "outputs": [],
   "source": [
    "def is_circular_primes(number_list: list, prime_set: set) -> bool:\n",
    "    return all(number in prime_set for number in number_list)"
   ]
  },
  {
   "cell_type": "code",
   "execution_count": 56,
   "id": "069c146d",
   "metadata": {},
   "outputs": [],
   "source": [
    "def solution():\n",
    "    limit = 1000000\n",
    "    prime_set = set(sieve_of_eratosthenes(limit))\n",
    "    rotated_numbers = {prime: rotate_number(prime) for prime in prime_set}\n",
    "    result = sum(1 for prime in prime_set if is_circular_primes(rotated_numbers[prime], prime_set))\n",
    "    return result"
   ]
  },
  {
   "cell_type": "markdown",
   "id": "4c4fa418",
   "metadata": {},
   "source": [
    "# Run"
   ]
  },
  {
   "cell_type": "code",
   "execution_count": 57,
   "id": "37a4154b",
   "metadata": {},
   "outputs": [
    {
     "name": "stdout",
     "output_type": "stream",
     "text": [
      "CPU times: total: 297 ms\n",
      "Wall time: 430 ms\n"
     ]
    },
    {
     "data": {
      "text/plain": [
       "55"
      ]
     },
     "execution_count": 57,
     "metadata": {},
     "output_type": "execute_result"
    }
   ],
   "source": [
    "%%time\n",
    "solution()"
   ]
  }
 ],
 "metadata": {
  "kernelspec": {
   "display_name": "Python 3",
   "language": "python",
   "name": "python3"
  },
  "language_info": {
   "codemirror_mode": {
    "name": "ipython",
    "version": 3
   },
   "file_extension": ".py",
   "mimetype": "text/x-python",
   "name": "python",
   "nbconvert_exporter": "python",
   "pygments_lexer": "ipython3",
   "version": "3.11.4"
  }
 },
 "nbformat": 4,
 "nbformat_minor": 5
}
