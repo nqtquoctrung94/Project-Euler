{
 "cells": [
  {
   "cell_type": "markdown",
   "id": "430472bb",
   "metadata": {},
   "source": [
    "# [Question 41](https://projecteuler.net/problem=41)"
   ]
  },
  {
   "cell_type": "markdown",
   "id": "82ed8c18",
   "metadata": {},
   "source": [
    "## Pandigital Prime\n",
    "We shall say that an $n$-digit number is pandigital if it makes use of all the digits $1$ to $n$ exactly once. For example, $2143$ is a $4$-digit pandigital and is also prime.<br>\n",
    "What is the largest $n$-digit pandigital prime that exists?<br>\n"
   ]
  },
  {
   "cell_type": "markdown",
   "id": "ce1b3ca2",
   "metadata": {},
   "source": [
    "# Solution"
   ]
  },
  {
   "cell_type": "code",
   "execution_count": 54,
   "id": "7093456c",
   "metadata": {},
   "outputs": [],
   "source": [
    "from collections.abc import Iterator\n",
    "from itertools import permutations\n",
    "from snippet.euler_lib import is_prime"
   ]
  },
  {
   "cell_type": "code",
   "execution_count": 58,
   "id": "a5f51217",
   "metadata": {},
   "outputs": [],
   "source": [
    "def highest_pandigital_prime(number_of_digits: int) -> Iterator[int]:\n",
    "    \"\"\"This function generate all the numbers possible from set (1,2,3...,n) and return the highest prime found\"\"\"\n",
    "    \n",
    "    # Permutate the set of digits\n",
    "    # For number with format n1n2n3n4n5 => split it into \n",
    "    # start_digits = n1n2n3n4 \n",
    "    # end_digit = n5\n",
    "\n",
    "    prime_end_digits = [1,3,7,9]\n",
    "    for end_digit in prime_end_digits:\n",
    "\n",
    "        # If end_digit not in current list of digits, skip\n",
    "        if end_digit > number_of_digits:\n",
    "            continue\n",
    "\n",
    "        # start_digits are the rest of the digits, exclude end_digit \n",
    "        start_digits = [str(digit+1) for digit in range(number_of_digits) if digit+1 != end_digit]\n",
    "\n",
    "        # Create all the permutations\n",
    "        permu_sets = permutations(start_digits)\n",
    "\n",
    "        # Turn to number and check if it's prime number\n",
    "        for num_set in permu_sets:\n",
    "            number = int(''.join(num_set) + str(end_digit))\n",
    "            if is_prime(number):\n",
    "                yield number"
   ]
  },
  {
   "cell_type": "code",
   "execution_count": 59,
   "id": "45481658",
   "metadata": {},
   "outputs": [],
   "source": [
    "def solution():\n",
    "\treturn max(\n",
    "\t\t# Set default=0 to handle empty iterator\n",
    "\t\tmax(highest_pandigital_prime(digits), default=0) for digits in range(2,10)\n",
    "\t)"
   ]
  },
  {
   "cell_type": "markdown",
   "id": "61599bae",
   "metadata": {},
   "source": [
    "# Run"
   ]
  },
  {
   "cell_type": "code",
   "execution_count": 60,
   "id": "18518386",
   "metadata": {},
   "outputs": [
    {
     "name": "stdout",
     "output_type": "stream",
     "text": [
      "CPU times: total: 234 ms\n",
      "Wall time: 315 ms\n"
     ]
    },
    {
     "data": {
      "text/plain": [
       "7652413"
      ]
     },
     "execution_count": 60,
     "metadata": {},
     "output_type": "execute_result"
    }
   ],
   "source": [
    "%%time\n",
    "solution()"
   ]
  }
 ],
 "metadata": {
  "kernelspec": {
   "display_name": "base",
   "language": "python",
   "name": "python3"
  },
  "language_info": {
   "codemirror_mode": {
    "name": "ipython",
    "version": 3
   },
   "file_extension": ".py",
   "mimetype": "text/x-python",
   "name": "python",
   "nbconvert_exporter": "python",
   "pygments_lexer": "ipython3",
   "version": "3.10.9"
  }
 },
 "nbformat": 4,
 "nbformat_minor": 5
}
