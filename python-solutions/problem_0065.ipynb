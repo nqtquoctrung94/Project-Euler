{
 "cells": [
  {
   "cell_type": "markdown",
   "id": "a7be0c6a",
   "metadata": {},
   "source": [
    "# [Question 65](https://projecteuler.net/problem=65)"
   ]
  },
  {
   "cell_type": "markdown",
   "id": "151968fb",
   "metadata": {},
   "source": [
    "## Convergents of $e$\n",
    "The square root of $2$ can be written as an infinite continued fraction.<br>\n",
    "$$\\sqrt{2} = 1 + \\dfrac{1}{2 + \\dfrac{1}{2 + \\dfrac{1}{2 + \\dfrac{1}{2 + ...}}}}$$\n",
    "\n",
    "The infinite continued fraction can be written, $\\sqrt{2} = [1; (2)]$, $(2)$ indicates that $2$ repeats ad infinitum. In a similar way, $\\sqrt{23} = [4; (1, 3, 1, 8)]$.<br>\n",
    "It turns out that the sequence of partial values of continued fractions for square roots provide the best rational approximations. Let us consider the convergents for $\\sqrt{2}$.<br>\n",
    "$\\begin{align}\n",
    "&1 + \\dfrac{1}{2} = \\dfrac{3}{2} \\\\\n",
    "&1 + \\dfrac{1}{2 + \\dfrac{1}{2}} = \\dfrac{7}{5}\\\\\n",
    "&1 + \\dfrac{1}{2 + \\dfrac{1}{2 + \\dfrac{1}{2}}} = \\dfrac{17}{12}\\\\\n",
    "&1 + \\dfrac{1}{2 + \\dfrac{1}{2 + \\dfrac{1}{2 + \\dfrac{1}{2}}}} = \\dfrac{41}{29}\n",
    "\\end{align}$\n",
    "\n",
    "Hence the sequence of the first ten convergents for $\\sqrt{2}$ are:<br>\n",
    "$$1, \\dfrac{3}{2}, \\dfrac{7}{5}, \\dfrac{17}{12}, \\dfrac{41}{29}, \\dfrac{99}{70}, \\dfrac{239}{169}, \\dfrac{577}{408}, \\dfrac{1393}{985}, \\dfrac{3363}{2378}, ...$$\n",
    "\n",
    "What is most surprising is that the important mathematical constant,$e = [2; 1, 2, 1, 1, 4, 1, 1, 6, 1, ... , 1, 2k, 1, ...]$.<br>\n",
    "The first ten terms in the sequence of convergents for $e$ are:<br>\n",
    "$$2, 3, \\dfrac{8}{3}, \\dfrac{11}{4}, \\dfrac{19}{7}, \\dfrac{87}{32}, \\dfrac{106}{39}, \\dfrac{193}{71}, \\dfrac{1264}{465}, \\dfrac{1457}{536}, ...$$\n",
    "\n",
    "The sum of digits in the numerator of the 10th convergent is $1 + 4 + 5 + 7 = 17$.<br>\n",
    "Find the sum of digits in the numerator of the 100th convergent of the continued fraction for $e$.<br>\n"
   ]
  },
  {
   "cell_type": "markdown",
   "id": "ff9d60e4",
   "metadata": {},
   "source": [
    "# Solution"
   ]
  },
  {
   "cell_type": "markdown",
   "id": "e6e47133",
   "metadata": {},
   "source": [
    "Reference: https://en.wikipedia.org/wiki/Continued_fraction#Infinite_continued_fractions_and_convergents\n",
    "\n",
    "For a continued fraction $[a_0; a_1, a_2,...]$, the first four convergents are:\n",
    "\n",
    "$$ \\frac{a_0}{1},\\frac{a_1a_0+1}{a_1}, \\frac{a_2(a_1a_0 + 1) + a_0}{a_2a_1 + 1}, \\frac{a_3(a_2(a_1a_0 + 1) + a_0) + (a_1a_0 + 1)}{a_3(a_2a_1 + 1) + a_1} $$\n",
    "\n",
    "If successive convergents are found, with numberators $h_1$, $h_2$,... and denominators $k_1$,$k_2$,... then the relevant recursive relation is that of Gaussian brackets:<br>\n",
    "$$ h_n = a_n h_{n-1} + h_{n-2} $$\n",
    "$$ k_n = a_n k_{n-1} + k_{n-2} $$\n",
    "\n",
    "The successive convergents are given by the formula:\n",
    "\n",
    "$$ \\frac{h_n}{k_n} = \\frac{a_n h_{n-1} + h_{n-2}}{a_n k_{n-1} + k_{n-2}} $$"
   ]
  },
  {
   "cell_type": "code",
   "execution_count": 1,
   "id": "026f5708",
   "metadata": {},
   "outputs": [],
   "source": [
    "def sum_digit(number):    \n",
    "    total = 0\n",
    "    while number > 0:\n",
    "        total += number % 10\n",
    "        number = number // 10\n",
    "    return total"
   ]
  },
  {
   "cell_type": "code",
   "execution_count": 2,
   "id": "11f1cfa6",
   "metadata": {},
   "outputs": [],
   "source": [
    "def solution():\n",
    "    # 100 fractions => (100-1)/3 = 33 => end at 1,66,1\n",
    "    e_fractions = [2]\n",
    "    for i in range(2, 68, 2):\n",
    "        e_fractions += [1,i,1]\n",
    "\n",
    "    # Create convergants dictionary\n",
    "    e_convergents = {\n",
    "        -2 : {'a':None, 'h':0, 'k':1},\n",
    "        -1 : {'a':None, 'h':1, 'k':0},\n",
    "    }\n",
    "\n",
    "    # Loop through fractions\n",
    "    for index, fraction in enumerate(e_fractions):\n",
    "        e_convergents[index] = {\n",
    "            'a': fraction,\n",
    "            'h': fraction*e_convergents[index-1]['h'] + e_convergents[index-2]['h'],\n",
    "            'k': fraction*e_convergents[index-1]['k'] + e_convergents[index-2]['k'],\n",
    "        }\n",
    "\n",
    "    # Calculate digit sum of the 100th numerator \n",
    "    numerator_100 = e_convergents[99]['h']\n",
    "    return sum_digit(numerator_100)\n"
   ]
  },
  {
   "cell_type": "markdown",
   "id": "13b5c376",
   "metadata": {},
   "source": [
    "# Run"
   ]
  },
  {
   "cell_type": "code",
   "execution_count": 3,
   "id": "88463acb",
   "metadata": {},
   "outputs": [
    {
     "name": "stdout",
     "output_type": "stream",
     "text": [
      "CPU times: total: 0 ns\n",
      "Wall time: 0 ns\n"
     ]
    },
    {
     "data": {
      "text/plain": [
       "272"
      ]
     },
     "execution_count": 3,
     "metadata": {},
     "output_type": "execute_result"
    }
   ],
   "source": [
    "%%time\n",
    "solution()"
   ]
  }
 ],
 "metadata": {
  "kernelspec": {
   "display_name": "base",
   "language": "python",
   "name": "python3"
  },
  "language_info": {
   "codemirror_mode": {
    "name": "ipython",
    "version": 3
   },
   "file_extension": ".py",
   "mimetype": "text/x-python",
   "name": "python",
   "nbconvert_exporter": "python",
   "pygments_lexer": "ipython3",
   "version": "3.11.4"
  }
 },
 "nbformat": 4,
 "nbformat_minor": 5
}
