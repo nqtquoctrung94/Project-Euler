{
 "cells": [
  {
   "cell_type": "markdown",
   "id": "94a2ef5b",
   "metadata": {},
   "source": [
    "# [Question 22](https://projecteuler.net/problem=22)"
   ]
  },
  {
   "attachments": {},
   "cell_type": "markdown",
   "id": "b1f366a4",
   "metadata": {},
   "source": [
    "## Names Scores\n",
    "Using [names.txt](https://projecteuler.net/resources/documents/0022_names.txt), a 46K text file containing over five-thousand first names, begin by sorting it into alphabetical order. Then working out the alphabetical value for each name, multiply this value by its alphabetical position in the list to obtain a name score.<br>\n",
    "For example, when the list is sorted into alphabetical order, COLIN, which is worth $3 + 15 + 12 + 9 + 14 = 53$, is the $938$ th name in the list. So, COLIN would obtain a score of $938 \\times 53 = 49714$.<br>\n",
    "What is the total of all the name scores in the file?<br>\n"
   ]
  },
  {
   "cell_type": "markdown",
   "id": "54c13fab",
   "metadata": {},
   "source": [
    "# Solution"
   ]
  },
  {
   "cell_type": "code",
   "execution_count": 33,
   "id": "48c873f3",
   "metadata": {},
   "outputs": [],
   "source": [
    "def read_file() -> list:\n",
    "\t\"\"\"This function read input file and return the list of names ['MARY','PATRICIA',...]\"\"\"\n",
    "\twith open(r'input files\\0022_names.txt', 'r') as file:\n",
    "\t\tfile_content = file.read()\n",
    "\tfile_content = file_content.replace('\"','')\n",
    "\tnames = file_content.split(\",\")\n",
    "\treturn names\n",
    "\t\n",
    "def create_character_value_dict() -> dict:\n",
    "\t\"\"\"This function create a dictionary {\"A\":1, \"B\":2, .....,\"Z\":26}\"\"\"\n",
    "\tcharacter = [chr(i) for i in range(ord('A'), ord('Z') + 1)]\n",
    "\tcharacter_dict = dict({char: value for char, value in zip(character,list(range(1,27))) })\n",
    "\treturn character_dict\n",
    "\n",
    "def name_score(name:str, position:int, character_value:dict) -> int:\n",
    "\t\"\"\"This function map each character in name to the dictionary, then compute sum, finally multiply with index value\"\"\"\n",
    "\tname_worth = sum(character_value[char] for char in name)\n",
    "\treturn name_worth * position\n",
    "\n",
    "def solution():\n",
    "\tnames = read_file()\n",
    "\tcharacter_dict = create_character_value_dict()\n",
    "\tnames.sort()\n",
    "\ttotal_score = 0\n",
    "\tfor i in range(len(names)):\n",
    "\t\tname = names[i]\n",
    "\t\tscore = name_score(name, i+1, character_dict)\n",
    "\t\ttotal_score += score\n",
    "\n",
    "\treturn total_score"
   ]
  },
  {
   "cell_type": "markdown",
   "id": "d44efcec",
   "metadata": {},
   "source": [
    "# Run"
   ]
  },
  {
   "cell_type": "code",
   "execution_count": 34,
   "id": "d8907b90",
   "metadata": {},
   "outputs": [
    {
     "name": "stdout",
     "output_type": "stream",
     "text": [
      "CPU times: total: 0 ns\n",
      "Wall time: 11 ms\n"
     ]
    },
    {
     "data": {
      "text/plain": [
       "871198282"
      ]
     },
     "execution_count": 34,
     "metadata": {},
     "output_type": "execute_result"
    }
   ],
   "source": [
    "%%time\n",
    "solution()"
   ]
  }
 ],
 "metadata": {
  "kernelspec": {
   "display_name": "base",
   "language": "python",
   "name": "python3"
  },
  "language_info": {
   "codemirror_mode": {
    "name": "ipython",
    "version": 3
   },
   "file_extension": ".py",
   "mimetype": "text/x-python",
   "name": "python",
   "nbconvert_exporter": "python",
   "pygments_lexer": "ipython3",
   "version": "3.10.9"
  }
 },
 "nbformat": 4,
 "nbformat_minor": 5
}
