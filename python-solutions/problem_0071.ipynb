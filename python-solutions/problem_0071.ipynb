{
 "cells": [
  {
   "cell_type": "markdown",
   "id": "6b676900",
   "metadata": {},
   "source": [
    "# [Question 71](https://projecteuler.net/problem=71)"
   ]
  },
  {
   "cell_type": "markdown",
   "id": "cbf1c6c0",
   "metadata": {},
   "source": [
    "## Ordered Fractions\n",
    "Consider the fraction, $\\dfrac n d$, where $n$ and $d$ are positive integers. If $n \\lt d$ and $\\operatorname{HCF}(n,d)=1$, it is called a reduced proper fraction.<br>\n",
    "If we list the set of reduced proper fractions for $d \\le 8$ in ascending order of size, we get:<br>\n",
    "$$\\frac 1 8, \\frac 1 7, \\frac 1 6, \\frac 1 5, \\frac 1 4, \\frac 2 7, \\frac 1 3, \\frac 3 8, \\mathbf{\\frac 2 5}, \\frac 3 7, \\frac 1 2, \\frac 4 7, \\frac 3 5, \\frac 5 8, \\frac 2 3, \\frac 5 7, \\frac 3 4, \\frac 4 5, \\frac 5 6, \\frac 6 7, \\frac 7 8$$\n",
    "\n",
    "It can be seen that $\\dfrac 2 5$ is the fraction immediately to the left of $\\dfrac 3 7$.<br>\n",
    "By listing the set of reduced proper fractions for $d \\le 1\\,000\\,000$ in ascending order of size, find the numerator of the fraction immediately to the left of $\\dfrac 3 7$.<br>\n"
   ]
  },
  {
   "cell_type": "markdown",
   "id": "acbb4a4f",
   "metadata": {},
   "source": [
    "# Solution"
   ]
  },
  {
   "cell_type": "code",
   "execution_count": null,
   "id": "4ee1c17d",
   "metadata": {},
   "outputs": [],
   "source": [
    "def solution():\n",
    "    pass"
   ]
  },
  {
   "cell_type": "markdown",
   "id": "85bc641f",
   "metadata": {},
   "source": [
    "# Run"
   ]
  },
  {
   "cell_type": "code",
   "execution_count": null,
   "id": "9a8b1183",
   "metadata": {},
   "outputs": [],
   "source": [
    "%%time\n",
    "solution()"
   ]
  }
 ],
 "metadata": {},
 "nbformat": 4,
 "nbformat_minor": 5
}
