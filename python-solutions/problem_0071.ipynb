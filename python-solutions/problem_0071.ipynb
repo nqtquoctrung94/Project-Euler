{
 "cells": [
  {
   "cell_type": "markdown",
   "id": "6b676900",
   "metadata": {},
   "source": [
    "# [Question 71](https://projecteuler.net/problem=71)"
   ]
  },
  {
   "cell_type": "markdown",
   "id": "cbf1c6c0",
   "metadata": {},
   "source": [
    "## Ordered Fractions\n",
    "Consider the fraction, $\\dfrac n d$, where $n$ and $d$ are positive integers. If $n \\lt d$ and $\\operatorname{HCF}(n,d)=1$, it is called a reduced proper fraction.<br>\n",
    "If we list the set of reduced proper fractions for $d \\le 8$ in ascending order of size, we get:<br>\n",
    "\n",
    "$$\\frac{1}{8}, \\frac{1}{7}, \\frac{1}{6}, \\frac{1}{5}, \\frac{1}{4}, \\frac{2}{7}, \\frac{1}{3}, \\frac{3}{8}, \\mathbf{\\frac{2}{5}}, \\frac{3}{7}, \\frac{1}{2}, \\frac{4}{7}, \\frac{3}{5}, \\frac{5}{8}, \\frac{2}{3}, \\frac{5}{7}, \\frac{3}{4}, \\frac{4}{5}, \\frac{5}{6}, \\frac{6}{7}, \\frac{7}{8}$$\n",
    "\n",
    "It can be seen that $\\dfrac 2 5$ is the fraction immediately to the left of $\\dfrac 3 7$.<br>\n",
    "By listing the set of reduced proper fractions for $d \\le 1\\,000\\,000$ in ascending order of size, find the numerator of the fraction immediately to the left of $\\dfrac 3 7$.<br>\n"
   ]
  },
  {
   "cell_type": "markdown",
   "id": "acbb4a4f",
   "metadata": {},
   "source": [
    "# Solution"
   ]
  },
  {
   "cell_type": "markdown",
   "id": "b0fe1eb0",
   "metadata": {},
   "source": [
    "Using Farey sequence's mediant fraction. We are looking for the fraction $\\frac{p}{q}$ that is between $\\frac{a}{b}$ and $\\frac{c}{d}$. \n",
    "$$ \\frac{a}{b} < \\frac{p}{q} < \\frac{c}{d} $$\n",
    "\n",
    "$\\frac{p}{q}$ is called the mediant of $\\frac{a}{b}$ and $\\frac{c}{d}$, or\n",
    "$$\\frac{p}{q} = \\frac{a + c}{b + d} $$\n",
    "\n",
    "Reading:\n",
    "- https://en.wikipedia.org/wiki/Farey_sequence#Farey_neighbours\n",
    "- https://cp-algorithms.com/others/stern_brocot_tree_farey_sequences.html"
   ]
  },
  {
   "cell_type": "code",
   "execution_count": 1,
   "id": "0fef98fb",
   "metadata": {},
   "outputs": [],
   "source": [
    "from snippet.euler_lib import greatest_common_divisor_recursive as gcd"
   ]
  },
  {
   "cell_type": "code",
   "execution_count": 2,
   "id": "2aff42df",
   "metadata": {},
   "outputs": [],
   "source": [
    "def reduced_fraction(a:int, b:int):\n",
    "    common_divisor = gcd(a,b)\n",
    "    if common_divisor == 1:\n",
    "        return a,b\n",
    "    return a//common_divisor, b//common_divisor"
   ]
  },
  {
   "cell_type": "code",
   "execution_count": 3,
   "id": "4ee1c17d",
   "metadata": {},
   "outputs": [],
   "source": [
    "def solution():\n",
    "    # Initial values\n",
    "    limit = 10**6\n",
    "    a,b = 0, 1  # a/b at value 0 = 0/1\n",
    "    c,d = 3, 7  # c/d is the target fraction from the problem\n",
    "    p,q = a, b  # Let p/q be a/b and update from the loop\n",
    "\n",
    "    # If q reach limit, then that means there is no other p/q between a/b and c/d\n",
    "    # so we return the value right before p/q updated, aka a/b\n",
    "    while q <= limit:\n",
    "        a,b = p,q\n",
    "        p = a + c\n",
    "        q = b + d\n",
    "        p, q = reduced_fraction(p,q)\n",
    "    return a   "
   ]
  },
  {
   "cell_type": "markdown",
   "id": "85bc641f",
   "metadata": {},
   "source": [
    "# Run"
   ]
  },
  {
   "cell_type": "code",
   "execution_count": 4,
   "id": "9a8b1183",
   "metadata": {},
   "outputs": [
    {
     "name": "stdout",
     "output_type": "stream",
     "text": [
      "CPU times: total: 422 ms\n",
      "Wall time: 540 ms\n"
     ]
    },
    {
     "data": {
      "text/plain": [
       "428570"
      ]
     },
     "execution_count": 4,
     "metadata": {},
     "output_type": "execute_result"
    }
   ],
   "source": [
    "%%time\n",
    "solution()"
   ]
  }
 ],
 "metadata": {
  "kernelspec": {
   "display_name": "base",
   "language": "python",
   "name": "python3"
  },
  "language_info": {
   "codemirror_mode": {
    "name": "ipython",
    "version": 3
   },
   "file_extension": ".py",
   "mimetype": "text/x-python",
   "name": "python",
   "nbconvert_exporter": "python",
   "pygments_lexer": "ipython3",
   "version": "3.10.9"
  }
 },
 "nbformat": 4,
 "nbformat_minor": 5
}
