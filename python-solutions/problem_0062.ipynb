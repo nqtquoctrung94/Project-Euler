{
 "cells": [
  {
   "cell_type": "markdown",
   "id": "d9487a94",
   "metadata": {},
   "source": [
    "# [Question 62](https://projecteuler.net/problem=62)"
   ]
  },
  {
   "cell_type": "markdown",
   "id": "f2bc3760",
   "metadata": {},
   "source": [
    "## Cubic Permutations\n",
    "The cube, $41063625$ ($345^3$), can be permuted to produce two other cubes: $56623104$ ($384^3$) and $66430125$ ($405^3$). In fact, $41063625$ is the smallest cube which has exactly three permutations of its digits which are also cube.<br>\n",
    "Find the smallest cube for which exactly five permutations of its digits are cube.<br>\n"
   ]
  },
  {
   "cell_type": "markdown",
   "id": "6332a3fe",
   "metadata": {},
   "source": [
    "# Solution"
   ]
  },
  {
   "cell_type": "code",
   "execution_count": 1,
   "id": "6b9ea13d",
   "metadata": {},
   "outputs": [],
   "source": [
    "def solution():\n",
    "    cubic_dict = {\n",
    "        # digit: {\n",
    "        #     sorted_digit: [num]\n",
    "        # }\n",
    "    }\n",
    "\n",
    "    num = 345 # Start at 345 because it's the smallest value with family of 3, based on the question\n",
    "    while True:\n",
    "        cube = num*num*num\n",
    "        cube_len = len(str(cube))\n",
    "        sorted_digit = ''.join(sorted([digit for digit in str(cube)]))\n",
    "\n",
    "        digits = cubic_dict.setdefault(cube_len, {})\n",
    "        digits.setdefault(sorted_digit, []).append(num)\n",
    "        if len(digits[sorted_digit]) == 5:\n",
    "            return min(digits[sorted_digit])**3\n",
    "        \n",
    "        num += 1"
   ]
  },
  {
   "cell_type": "markdown",
   "id": "d6180504",
   "metadata": {},
   "source": [
    "# Run"
   ]
  },
  {
   "cell_type": "code",
   "execution_count": 2,
   "id": "ce662019",
   "metadata": {},
   "outputs": [
    {
     "name": "stdout",
     "output_type": "stream",
     "text": [
      "CPU times: total: 0 ns\n",
      "Wall time: 12 ms\n"
     ]
    },
    {
     "data": {
      "text/plain": [
       "127035954683"
      ]
     },
     "execution_count": 2,
     "metadata": {},
     "output_type": "execute_result"
    }
   ],
   "source": [
    "%%time\n",
    "solution()"
   ]
  }
 ],
 "metadata": {
  "kernelspec": {
   "display_name": "Python 3",
   "language": "python",
   "name": "python3"
  },
  "language_info": {
   "codemirror_mode": {
    "name": "ipython",
    "version": 3
   },
   "file_extension": ".py",
   "mimetype": "text/x-python",
   "name": "python",
   "nbconvert_exporter": "python",
   "pygments_lexer": "ipython3",
   "version": "3.11.4"
  }
 },
 "nbformat": 4,
 "nbformat_minor": 5
}
