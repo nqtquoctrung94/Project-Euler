{
 "cells": [
  {
   "cell_type": "markdown",
   "id": "b877f9b7",
   "metadata": {},
   "source": [
    "# [Question 39](https://projecteuler.net/problem=39)"
   ]
  },
  {
   "cell_type": "markdown",
   "id": "cb07f22d",
   "metadata": {},
   "source": [
    "## Integer Right Triangles\n",
    "If $p$ is the perimeter of a right angle triangle with integral length sides, $\\{a, b, c\\}$, there are exactly three solutions for $p = 120$.<br>\n",
    "$\\{20,48,52\\}$, $\\{24,45,51\\}$, $\\{30,40,50\\}$\n",
    "\n",
    "For which value of $p \\le 1000$, is the number of solutions maximised?<br>\n"
   ]
  },
  {
   "cell_type": "markdown",
   "id": "b13cd786",
   "metadata": {},
   "source": [
    "# Solution"
   ]
  },
  {
   "cell_type": "code",
   "execution_count": 11,
   "id": "215315a6",
   "metadata": {},
   "outputs": [],
   "source": [
    "def count_solutions(p):\n",
    "    counter = 0\n",
    "    for a in range(1, p//2):\n",
    "        for b in range(a+1, p//2):\n",
    "            c = p - a - b\n",
    "            if c < a:\n",
    "                break\n",
    "            if a**2 + b**2 == c**2:\n",
    "                counter += 1\n",
    "    return counter"
   ]
  },
  {
   "cell_type": "code",
   "execution_count": 12,
   "id": "9ec91d67",
   "metadata": {},
   "outputs": [],
   "source": [
    "def solution():\n",
    "    max_p = 0\n",
    "    max_solution = 0\n",
    "    for p in range(3, 1001):\n",
    "        solution_count = count_solutions(p)\n",
    "        if solution_count > max_solution:\n",
    "            max_solution = solution_count\n",
    "            max_p = p\n",
    "    return max_p"
   ]
  },
  {
   "cell_type": "markdown",
   "id": "af26a0e7",
   "metadata": {},
   "source": [
    "# Run"
   ]
  },
  {
   "cell_type": "code",
   "execution_count": 13,
   "id": "cc758309",
   "metadata": {},
   "outputs": [
    {
     "name": "stdout",
     "output_type": "stream",
     "text": [
      "CPU times: total: 3.84 s\n",
      "Wall time: 4.06 s\n"
     ]
    },
    {
     "data": {
      "text/plain": [
       "840"
      ]
     },
     "execution_count": 13,
     "metadata": {},
     "output_type": "execute_result"
    }
   ],
   "source": [
    "%%time\n",
    "solution()"
   ]
  }
 ],
 "metadata": {
  "kernelspec": {
   "display_name": "Python 3",
   "language": "python",
   "name": "python3"
  },
  "language_info": {
   "codemirror_mode": {
    "name": "ipython",
    "version": 3
   },
   "file_extension": ".py",
   "mimetype": "text/x-python",
   "name": "python",
   "nbconvert_exporter": "python",
   "pygments_lexer": "ipython3",
   "version": "3.11.4"
  }
 },
 "nbformat": 4,
 "nbformat_minor": 5
}
