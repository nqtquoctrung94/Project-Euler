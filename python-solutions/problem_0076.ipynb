{
 "cells": [
  {
   "cell_type": "markdown",
   "id": "d19b21f5",
   "metadata": {},
   "source": [
    "# [Question 76](https://projecteuler.net/problem=76)"
   ]
  },
  {
   "cell_type": "markdown",
   "id": "ae9b3c0a",
   "metadata": {},
   "source": [
    "## Counting Summations\n",
    "It is possible to write five as a sum in exactly six different ways:<br>\n",
    "\n",
    "$$\\begin{align}\n",
    "&4 + 1\\\\\n",
    "&3 + 2\\\\\n",
    "&3 + 1 + 1\\\\\n",
    "&2 + 2 + 1\\\\\n",
    "&2 + 1 + 1 + 1\\\\\n",
    "&1 + 1 + 1 + 1 + 1\n",
    "\\end{align}$$\n",
    "\n",
    "How many different ways can one hundred be written as a sum of at least two positive integers?<br>\n"
   ]
  },
  {
   "cell_type": "markdown",
   "id": "0cfd5b8d",
   "metadata": {},
   "source": [
    "# Solution"
   ]
  },
  {
   "cell_type": "markdown",
   "id": "f66365c5",
   "metadata": {},
   "source": [
    "The solution was mainly inspired from this video: https://www.youtube.com/watch?v=ngCos392W4w&t=671s"
   ]
  },
  {
   "cell_type": "code",
   "execution_count": 1,
   "id": "75c82fa0",
   "metadata": {},
   "outputs": [],
   "source": [
    "def count_partition(value, max_sub_value):\n",
    "    if value == 0:\n",
    "        return 1\n",
    "    if max_sub_value == 0 or value < 0:\n",
    "        return 0\n",
    "    return count_partition(value - max_sub_value, max_sub_value) + count_partition(value, max_sub_value - 1)"
   ]
  },
  {
   "cell_type": "code",
   "execution_count": 2,
   "id": "15fe9eb7",
   "metadata": {},
   "outputs": [],
   "source": [
    "def solution():\n",
    "    value = 100\n",
    "    return count_partition(value, value-1)"
   ]
  },
  {
   "cell_type": "markdown",
   "id": "7bd7bde6",
   "metadata": {},
   "source": [
    "# Run"
   ]
  },
  {
   "cell_type": "code",
   "execution_count": 3,
   "id": "7538737a",
   "metadata": {},
   "outputs": [
    {
     "name": "stdout",
     "output_type": "stream",
     "text": [
      "CPU times: total: 2min 26s\n",
      "Wall time: 3min 26s\n"
     ]
    },
    {
     "data": {
      "text/plain": [
       "190569291"
      ]
     },
     "execution_count": 3,
     "metadata": {},
     "output_type": "execute_result"
    }
   ],
   "source": [
    "%%time\n",
    "solution()"
   ]
  }
 ],
 "metadata": {
  "kernelspec": {
   "display_name": "Python 3",
   "language": "python",
   "name": "python3"
  },
  "language_info": {
   "codemirror_mode": {
    "name": "ipython",
    "version": 3
   },
   "file_extension": ".py",
   "mimetype": "text/x-python",
   "name": "python",
   "nbconvert_exporter": "python",
   "pygments_lexer": "ipython3",
   "version": "3.11.7"
  }
 },
 "nbformat": 4,
 "nbformat_minor": 5
}
