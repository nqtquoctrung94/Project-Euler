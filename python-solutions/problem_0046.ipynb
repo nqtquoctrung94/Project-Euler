{
 "cells": [
  {
   "cell_type": "markdown",
   "id": "0f581bcb",
   "metadata": {},
   "source": [
    "# [Question 46](https://projecteuler.net/problem=46)"
   ]
  },
  {
   "cell_type": "markdown",
   "id": "70d985b1",
   "metadata": {},
   "source": [
    "## Goldbach's Other Conjecture\n",
    "It was proposed by Christian Goldbach that every odd composite number can be written as the sum of a prime and twice a square.<br>\n",
    "\\begin{align}\n",
    "9 = 7 + 2 \\times 1^2\\\\\n",
    "15 = 7 + 2 \\times 2^2\\\\\n",
    "21 = 3 + 2 \\times 3^2\\\\\n",
    "25 = 7 + 2 \\times 3^2\\\\\n",
    "27 = 19 + 2 \\times 2^2\\\\\n",
    "33 = 31 + 2 \\times 1^2\n",
    "\\end{align}\n",
    "It turns out that the conjecture was false.<br>\n",
    "What is the smallest odd composite that cannot be written as the sum of a prime and twice a square?<br>\n"
   ]
  },
  {
   "cell_type": "markdown",
   "id": "c1295e40",
   "metadata": {},
   "source": [
    "# Solution"
   ]
  },
  {
   "cell_type": "code",
   "execution_count": 15,
   "id": "add94dc3",
   "metadata": {},
   "outputs": [],
   "source": [
    "from euler_lib import is_prime"
   ]
  },
  {
   "cell_type": "code",
   "execution_count": 16,
   "id": "3bacc041",
   "metadata": {},
   "outputs": [],
   "source": [
    "def is_Goldbach_conjecture(n: int) -> bool:\n",
    "    square_i = 1\n",
    "    while True:\n",
    "        remainder = n - 2*(square_i**2) \n",
    "        if remainder < 2:\n",
    "            return False\n",
    "        if is_prime(remainder):\n",
    "            return True\n",
    "        square_i += 1"
   ]
  },
  {
   "cell_type": "code",
   "execution_count": 17,
   "id": "a7477a44",
   "metadata": {},
   "outputs": [],
   "source": [
    "def solution():\n",
    "\tn = 3\n",
    "\twhile True:\n",
    "\t\tn += 2\n",
    "\t\tif is_prime(n):\n",
    "\t\t\tcontinue\n",
    "\t\tif not is_Goldbach_conjecture(n):\n",
    "\t\t\treturn n"
   ]
  },
  {
   "cell_type": "markdown",
   "id": "94860cf2",
   "metadata": {},
   "source": [
    "# Run"
   ]
  },
  {
   "cell_type": "code",
   "execution_count": 18,
   "id": "af48c176",
   "metadata": {},
   "outputs": [
    {
     "name": "stdout",
     "output_type": "stream",
     "text": [
      "CPU times: total: 15.6 ms\n",
      "Wall time: 19.9 ms\n"
     ]
    },
    {
     "data": {
      "text/plain": [
       "5777"
      ]
     },
     "execution_count": 18,
     "metadata": {},
     "output_type": "execute_result"
    }
   ],
   "source": [
    "%%time\n",
    "solution()"
   ]
  }
 ],
 "metadata": {
  "kernelspec": {
   "display_name": "base",
   "language": "python",
   "name": "python3"
  },
  "language_info": {
   "codemirror_mode": {
    "name": "ipython",
    "version": 3
   },
   "file_extension": ".py",
   "mimetype": "text/x-python",
   "name": "python",
   "nbconvert_exporter": "python",
   "pygments_lexer": "ipython3",
   "version": "3.10.9"
  }
 },
 "nbformat": 4,
 "nbformat_minor": 5
}
