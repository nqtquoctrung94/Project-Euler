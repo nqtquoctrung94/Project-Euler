{
 "cells": [
  {
   "cell_type": "markdown",
   "id": "64cfc2f7",
   "metadata": {},
   "source": [
    "# [Question 37](https://projecteuler.net/problem=37)"
   ]
  },
  {
   "cell_type": "markdown",
   "id": "9f30ee9c",
   "metadata": {},
   "source": [
    "## Truncatable Primes\n",
    "The number $3797$ has an interesting property. Being prime itself, it is possible to continuously remove digits from left to right, and remain prime at each stage: $3797$, $797$, $97$, and $7$. Similarly we can work from right to left: $3797$, $379$, $37$, and $3$.<br>\n",
    "Find the sum of the only eleven primes that are both truncatable from left to right and right to left.<br>\n",
    "NOTE: $2$, $3$, $5$, and $7$ are not considered to be truncatable primes.<br>\n"
   ]
  },
  {
   "cell_type": "markdown",
   "id": "f57750ad",
   "metadata": {},
   "source": [
    "# Solution"
   ]
  },
  {
   "cell_type": "code",
   "execution_count": 1,
   "id": "9cf55e4b",
   "metadata": {},
   "outputs": [],
   "source": [
    "from snippet.euler_lib import is_prime"
   ]
  },
  {
   "cell_type": "code",
   "execution_count": 2,
   "id": "69d75813",
   "metadata": {},
   "outputs": [],
   "source": [
    "def is_truncatable_prime(prime: int) -> bool:\n",
    "    prime_string = str(prime)\n",
    "\n",
    "    for i in range(1, len(prime_string)):\n",
    "        left_part = int(prime_string[i:])\n",
    "        right_part = int(prime_string[:i])\n",
    "    \n",
    "        if not is_prime(left_part) or not is_prime(right_part):\n",
    "            return False\n",
    "    \n",
    "    return True"
   ]
  },
  {
   "cell_type": "code",
   "execution_count": 3,
   "id": "0663a3fc",
   "metadata": {},
   "outputs": [],
   "source": [
    "def solution():\n",
    "    counter = 0\n",
    "    total = 0\n",
    "    k = 2\n",
    "\n",
    "    # every prime = 6k+1 and 6k+5 (or 6k-1)\n",
    "    while counter < 11:\n",
    "        for add_on in (1, -1):\n",
    "            number = 6*k + add_on\n",
    "\n",
    "            if is_prime(number) and is_truncatable_prime(number):\n",
    "                counter += 1\n",
    "                total += number\n",
    "        k += 1\n",
    "\n",
    "    return total"
   ]
  },
  {
   "cell_type": "markdown",
   "id": "7607d6ef",
   "metadata": {},
   "source": [
    "# Run"
   ]
  },
  {
   "cell_type": "code",
   "execution_count": 4,
   "id": "68dacf9b",
   "metadata": {},
   "outputs": [
    {
     "name": "stdout",
     "output_type": "stream",
     "text": [
      "CPU times: total: 531 ms\n",
      "Wall time: 661 ms\n"
     ]
    },
    {
     "data": {
      "text/plain": [
       "748317"
      ]
     },
     "execution_count": 4,
     "metadata": {},
     "output_type": "execute_result"
    }
   ],
   "source": [
    "%%time\n",
    "solution()"
   ]
  }
 ],
 "metadata": {
  "kernelspec": {
   "display_name": "Python 3",
   "language": "python",
   "name": "python3"
  },
  "language_info": {
   "codemirror_mode": {
    "name": "ipython",
    "version": 3
   },
   "file_extension": ".py",
   "mimetype": "text/x-python",
   "name": "python",
   "nbconvert_exporter": "python",
   "pygments_lexer": "ipython3",
   "version": "3.11.4"
  }
 },
 "nbformat": 4,
 "nbformat_minor": 5
}
