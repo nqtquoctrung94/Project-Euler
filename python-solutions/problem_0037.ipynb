{
 "cells": [
  {
   "cell_type": "markdown",
   "id": "64cfc2f7",
   "metadata": {},
   "source": [
    "# [Question 37](https://projecteuler.net/problem=37)"
   ]
  },
  {
   "cell_type": "markdown",
   "id": "9f30ee9c",
   "metadata": {},
   "source": [
    "## Truncatable Primes\n",
    "The number $3797$ has an interesting property. Being prime itself, it is possible to continuously remove digits from left to right, and remain prime at each stage: $3797$, $797$, $97$, and $7$. Similarly we can work from right to left: $3797$, $379$, $37$, and $3$.<br>\n",
    "Find the sum of the only eleven primes that are both truncatable from left to right and right to left.<br>\n",
    "NOTE: $2$, $3$, $5$, and $7$ are not considered to be truncatable primes.<br>\n"
   ]
  },
  {
   "cell_type": "markdown",
   "id": "f57750ad",
   "metadata": {},
   "source": [
    "# Solution"
   ]
  },
  {
   "cell_type": "code",
   "execution_count": 33,
   "id": "9cf55e4b",
   "metadata": {},
   "outputs": [],
   "source": [
    "from euler_lib import is_prime"
   ]
  },
  {
   "cell_type": "code",
   "execution_count": 34,
   "id": "69d75813",
   "metadata": {},
   "outputs": [],
   "source": [
    "def is_truncatable_prime(prime: int) -> bool:\n",
    "    prime_string = str(prime)\n",
    "    \n",
    "    # Check truncate left\n",
    "    for i in range(1, len(prime_string)):\n",
    "        if not is_prime(int(prime_string[i:])):\n",
    "            return False\n",
    "        \n",
    "    # Check truncate right\n",
    "    for i in range(1, len(prime_string)):\n",
    "        if not is_prime(int(prime_string[:-i])):\n",
    "            return False\n",
    "        \n",
    "    return True"
   ]
  },
  {
   "cell_type": "code",
   "execution_count": 35,
   "id": "0663a3fc",
   "metadata": {},
   "outputs": [],
   "source": [
    "def solution():\n",
    "\tcounter = 0\n",
    "\ttotal = 0\n",
    "\tk = 2\n",
    "\n",
    "\t# every prime = 6k+1 and 6k+5 (or 6k-1)\n",
    "\twhile counter < 11:\n",
    "\t\tfor add_on in (1, -1):\n",
    "\t\t\tnumber = 6*k + add_on\n",
    "\n",
    "\t\t\tif is_prime(number) and is_truncatable_prime(number):\n",
    "\t\t\t\tcounter += 1\n",
    "\t\t\t\ttotal += number\n",
    "\t\tk += 1\n",
    "\n",
    "\treturn total"
   ]
  },
  {
   "cell_type": "markdown",
   "id": "7607d6ef",
   "metadata": {},
   "source": [
    "# Run"
   ]
  },
  {
   "cell_type": "code",
   "execution_count": 36,
   "id": "68dacf9b",
   "metadata": {},
   "outputs": [
    {
     "name": "stdout",
     "output_type": "stream",
     "text": [
      "CPU times: total: 391 ms\n",
      "Wall time: 715 ms\n"
     ]
    },
    {
     "data": {
      "text/plain": [
       "748317"
      ]
     },
     "execution_count": 36,
     "metadata": {},
     "output_type": "execute_result"
    }
   ],
   "source": [
    "%%time\n",
    "solution()"
   ]
  }
 ],
 "metadata": {
  "kernelspec": {
   "display_name": "Python 3",
   "language": "python",
   "name": "python3"
  },
  "language_info": {
   "codemirror_mode": {
    "name": "ipython",
    "version": 3
   },
   "file_extension": ".py",
   "mimetype": "text/x-python",
   "name": "python",
   "nbconvert_exporter": "python",
   "pygments_lexer": "ipython3",
   "version": "3.11.4"
  }
 },
 "nbformat": 4,
 "nbformat_minor": 5
}
