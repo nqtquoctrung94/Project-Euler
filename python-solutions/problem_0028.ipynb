{
 "cells": [
  {
   "cell_type": "markdown",
   "id": "aa352899",
   "metadata": {},
   "source": [
    "# [Question 28](https://projecteuler.net/problem=28)"
   ]
  },
  {
   "cell_type": "markdown",
   "id": "8efc9ba8",
   "metadata": {},
   "source": [
    "## Number Spiral Diagonals\n",
    "Starting with the number $1$ and moving to the right in a clockwise direction a $5$ by $5$ spiral is formed as follows:<br>\n",
    "\n",
    "<pre style=\"text-align: center;\">\n",
    "<span style=\"color: red\"><b>21</b></span> 22 23 24 <span style=\"color: red\"><b>25</b></span>\n",
    "20  <span style=\"color: red\"><b>7</b></span>  8  <span style=\"color: red\"><b>9</b></span> 10\n",
    "19  6  <span style=\"color: red\"><b>1</b></span>  2 11\n",
    "18  <span style=\"color: red\"><b>5</b></span>  4  <span style=\"color: red\"><b>3</b></span> 12\n",
    "<span style=\"color: red\"><b>17</b></span> 16 15 14 <span style=\"color: red\"><b>13</b></span>\n",
    "</pre>\n",
    "\n",
    "It can be verified that the sum of the numbers on the diagonals is $101$.<br>\n",
    "What is the sum of the numbers on the diagonals in a $1001$ by $1001$ spiral formed in the same way?<br>\n"
   ]
  },
  {
   "cell_type": "markdown",
   "id": "bdfce4e7",
   "metadata": {},
   "source": [
    "# Solution"
   ]
  },
  {
   "cell_type": "code",
   "execution_count": null,
   "id": "fc290843",
   "metadata": {},
   "outputs": [],
   "source": [
    "1x1 0\n",
    "3x3 1\n",
    "5x5 3\n",
    "7x7 5"
   ]
  },
  {
   "cell_type": "markdown",
   "id": "0f7e7dbe",
   "metadata": {},
   "source": [
    "43 44 45 46 47 48 49\n",
    "42 21 22 23 24 25 26\n",
    "41 20  7  8  9 10 27\n",
    "40 19  6  1  2 11 28\n",
    "39 18  5  4  3 12 29\n",
    "38 17 16 15 14 13 30\n",
    "37 36 35 34 33 32 31"
   ]
  },
  {
   "cell_type": "code",
   "execution_count": 1,
   "id": "33753190",
   "metadata": {},
   "outputs": [
    {
     "name": "stdout",
     "output_type": "stream",
     "text": [
      "0 - 1 - 2 - 3 - 4 - 5 - 6 - 7 - 8 - 9 - 10 - 11 - 12 - 13 - 14 - 15 - 16 - 17 - 18 - 19 - 20 - 21 - 22 - 23 - 24 - 25 - 26 - 27 - 28 - 29 - 30 - 31 - 32 - 33 - 34 - 35 - 36 - 37 - 38 - 39 - 40 - 41 - 42 - 43 - 44 - 45 - 46 - 47 - 48 - 49 - "
     ]
    }
   ],
   "source": [
    "for i in range(50):\n",
    "    print(i, end = ' - ')"
   ]
  },
  {
   "cell_type": "code",
   "execution_count": null,
   "id": "92e787dd",
   "metadata": {},
   "outputs": [],
   "source": [
    "1-2-3-4-5-6-7-8-9-10-11-12-13-14-15-16-17-18-19-20-21-22-23-24-25-26-27-28-29-30-31-32-33-34-35-36-37-38-39-40-41-42-43-44-45-46-47-48-49\n",
    "1---3---5---7---9----------13----------17----------21----------25----------------31----------------37----------------43----------------49\n"
   ]
  },
  {
   "cell_type": "code",
   "execution_count": null,
   "id": "ff883f21",
   "metadata": {},
   "outputs": [],
   "source": [
    "def solution():\n",
    "\tpass"
   ]
  },
  {
   "cell_type": "markdown",
   "id": "2c7f1b5c",
   "metadata": {},
   "source": [
    "# Run"
   ]
  },
  {
   "cell_type": "code",
   "execution_count": null,
   "id": "b49e0ed6",
   "metadata": {},
   "outputs": [],
   "source": [
    "%%time\n",
    "solution()"
   ]
  }
 ],
 "metadata": {
  "kernelspec": {
   "display_name": "base",
   "language": "python",
   "name": "python3"
  },
  "language_info": {
   "codemirror_mode": {
    "name": "ipython",
    "version": 3
   },
   "file_extension": ".py",
   "mimetype": "text/x-python",
   "name": "python",
   "nbconvert_exporter": "python",
   "pygments_lexer": "ipython3",
   "version": "3.10.9"
  }
 },
 "nbformat": 4,
 "nbformat_minor": 5
}
