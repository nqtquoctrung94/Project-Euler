{
 "cells": [
  {
   "cell_type": "markdown",
   "id": "aa352899",
   "metadata": {},
   "source": [
    "# [Question 28](https://projecteuler.net/problem=28)"
   ]
  },
  {
   "cell_type": "markdown",
   "id": "8efc9ba8",
   "metadata": {},
   "source": [
    "## Number Spiral Diagonals\n",
    "Starting with the number $1$ and moving to the right in a clockwise direction a $5$ by $5$ spiral is formed as follows:<br>\n",
    "\n",
    "<pre style=\"text-align: center;\">\n",
    "<span style=\"color: red\"><b>21</b></span> 22 23 24 <span style=\"color: red\"><b>25</b></span>\n",
    "20  <span style=\"color: red\"><b>7</b></span>  8  <span style=\"color: red\"><b>9</b></span> 10\n",
    "19  6  <span style=\"color: red\"><b>1</b></span>  2 11\n",
    "18  <span style=\"color: red\"><b>5</b></span>  4  <span style=\"color: red\"><b>3</b></span> 12\n",
    "<span style=\"color: red\"><b>17</b></span> 16 15 14 <span style=\"color: red\"><b>13</b></span>\n",
    "</pre>\n",
    "\n",
    "It can be verified that the sum of the numbers on the diagonals is $101$.<br>\n",
    "What is the sum of the numbers on the diagonals in a $1001$ by $1001$ spiral formed in the same way?<br>\n"
   ]
  },
  {
   "cell_type": "markdown",
   "id": "bdfce4e7",
   "metadata": {},
   "source": [
    "# Solution"
   ]
  },
  {
   "cell_type": "code",
   "execution_count": 65,
   "id": "dbb21c65",
   "metadata": {},
   "outputs": [],
   "source": [
    "# 73 74 75 76 77 78 79 80 81\n",
    "# 72 43 44 45 46 47 48 49 50\n",
    "# 71 42 21 22 23 24 25 26 51\n",
    "# 70 41 20  7  8  9 10 27 52\n",
    "# 69 40 19  6  1  2 11 28 53\n",
    "# 68 39 18  5  4  3 12 29 54\n",
    "# 67 38 17 16 15 14 13 30 55\n",
    "# 66 37 36 35 34 33 32 31 56\n",
    "# 65 64 63 62 61 60 59 58 57"
   ]
  },
  {
   "cell_type": "code",
   "execution_count": 66,
   "id": "483dbed5",
   "metadata": {},
   "outputs": [],
   "source": [
    "# 1-2-3-4-5-6-7-8-9-10-11-12-13-14-15-16-17-18-19-20-21-22-23-24-25-26-27-28-29-30-31-32-33-34-35-36-37-38-39-40-41-42-43-44-45-46-47-48-49\n",
    "# 1---3---5---7---9----------13----------17----------21----------25----------------31----------------37----------------43----------------49"
   ]
  },
  {
   "cell_type": "code",
   "execution_count": 64,
   "id": "096a4211",
   "metadata": {},
   "outputs": [],
   "source": [
    "# ring0 = 1x1 0 - 1             (-0)\n",
    "# ring1 = 3x3 1 - 3 5 7 9       (-2)\n",
    "# ring2 = 5x5 3 - 13 17 21 25   (-4)\n",
    "# ring3 = 7x7 5 - 31 37 43 49   (-6)\n",
    "# ring4 = 9x9 7 - 57 65 73 81   (-8)"
   ]
  },
  {
   "cell_type": "code",
   "execution_count": 67,
   "id": "7bbd4942",
   "metadata": {},
   "outputs": [],
   "source": [
    "def ring_sum_number_spiral(ring: int) -> int:\n",
    "    \"\"\"This function return the sum of the 4 diagonal positions of the ring\"\"\"\n",
    "    size = ring*2 + 1\n",
    "    # The four corners will have the format (size**2 - 2*ring*n) for n=[0,1,2,3]\n",
    "    return sum(size**2 - 2*ring*n for n in range(4))"
   ]
  },
  {
   "cell_type": "code",
   "execution_count": 68,
   "id": "ff883f21",
   "metadata": {},
   "outputs": [],
   "source": [
    "def solution():\n",
    "\t# Ring=1, size=3x3\n",
    "\t# Ring=2, size=5x5\n",
    "\t# ...\n",
    "\t# Ring=500, size=1001x1001\n",
    "\treturn 1 + sum(ring_sum_number_spiral(ring) for ring in range(1,501))"
   ]
  },
  {
   "cell_type": "markdown",
   "id": "2c7f1b5c",
   "metadata": {},
   "source": [
    "# Run"
   ]
  },
  {
   "cell_type": "code",
   "execution_count": 69,
   "id": "b49e0ed6",
   "metadata": {},
   "outputs": [
    {
     "name": "stdout",
     "output_type": "stream",
     "text": [
      "CPU times: total: 0 ns\n",
      "Wall time: 1 ms\n"
     ]
    },
    {
     "data": {
      "text/plain": [
       "669171001"
      ]
     },
     "execution_count": 69,
     "metadata": {},
     "output_type": "execute_result"
    }
   ],
   "source": [
    "%%time\n",
    "solution()"
   ]
  }
 ],
 "metadata": {
  "kernelspec": {
   "display_name": "base",
   "language": "python",
   "name": "python3"
  },
  "language_info": {
   "codemirror_mode": {
    "name": "ipython",
    "version": 3
   },
   "file_extension": ".py",
   "mimetype": "text/x-python",
   "name": "python",
   "nbconvert_exporter": "python",
   "pygments_lexer": "ipython3",
   "version": "3.11.4"
  }
 },
 "nbformat": 4,
 "nbformat_minor": 5
}
