{
 "cells": [
  {
   "cell_type": "markdown",
   "id": "64a7dda4",
   "metadata": {},
   "source": [
    "# [Question 57](https://projecteuler.net/problem=57)"
   ]
  },
  {
   "cell_type": "markdown",
   "id": "fca3921c",
   "metadata": {},
   "source": [
    "## Square Root Convergents\n",
    "It is possible to show that the square root of two can be expressed as an infinite continued fraction.<br>\n",
    "$\\sqrt 2 =1+ \\frac 1 {2+ \\frac 1 {2 +\\frac 1 {2+ \\dots}}}$\n",
    "\n",
    "By expanding this for the first four iterations, we get:<br>\n",
    "$1 + \\frac 1 2 = \\frac  32 = 1.5$\n",
    "\n",
    "$1 + \\frac 1 {2 + \\frac 1 2} = \\frac 7 5 = 1.4$\n",
    "\n",
    "$1 + \\frac 1 {2 + \\frac 1 {2+\\frac 1 2}} = \\frac {17}{12} = 1.41666 \\dots$\n",
    "\n",
    "$1 + \\frac 1 {2 + \\frac 1 {2+\\frac 1 {2+\\frac 1 2}}} = \\frac {41}{29} = 1.41379 \\dots$\n",
    "\n",
    "The next three expansions are $\\frac {99}{70}$, $\\frac {239}{169}$, and $\\frac {577}{408}$, but the eighth expansion, $\\frac {1393}{985}$, is the first example where the number of digits in the numerator exceeds the number of digits in the denominator.<br>\n",
    "In the first one-thousand expansions, how many fractions contain a numerator with more digits than the denominator?<br>\n"
   ]
  },
  {
   "cell_type": "markdown",
   "id": "a8f28f87",
   "metadata": {},
   "source": [
    "# Solution"
   ]
  },
  {
   "cell_type": "markdown",
   "id": "146b9994",
   "metadata": {},
   "source": [
    "The convergents $\\frac{p}{q}$ formed by each iteration are the [Pell number](https://en.wikipedia.org/wiki/Pell_number)\n",
    "\n",
    "The following of $\\frac{p}{q}$ is $\\frac{p + 2q}{p + q}$. Source: https://en.wikipedia.org/wiki/Square_root_of_2#Continued_fraction"
   ]
  },
  {
   "cell_type": "code",
   "execution_count": 21,
   "id": "5932856f",
   "metadata": {},
   "outputs": [],
   "source": [
    "import math"
   ]
  },
  {
   "cell_type": "code",
   "execution_count": 22,
   "id": "0a862735",
   "metadata": {},
   "outputs": [],
   "source": [
    "def update_number(p:int, q:int):\n",
    "    new_p = p+2*q\n",
    "    new_q = p+q\n",
    "    return new_p, new_q"
   ]
  },
  {
   "cell_type": "code",
   "execution_count": 23,
   "id": "50db7e43",
   "metadata": {},
   "outputs": [],
   "source": [
    "a = 1\n",
    "b = 1"
   ]
  },
  {
   "cell_type": "code",
   "execution_count": 24,
   "id": "32c1d21b",
   "metadata": {},
   "outputs": [
    {
     "name": "stdout",
     "output_type": "stream",
     "text": [
      "3 2\n"
     ]
    }
   ],
   "source": [
    "a, b = update_number(a, b)\n",
    "print(a,b)"
   ]
  },
  {
   "cell_type": "code",
   "execution_count": 28,
   "id": "2edb8924",
   "metadata": {},
   "outputs": [],
   "source": [
    "def digit_count(n:int) -> int:\n",
    "    \"\"\"It is checked from problem_0025 that by using math.log10(), the efficiency is currently the best\"\"\"\n",
    "    return int(math.log10(n)) + 1"
   ]
  },
  {
   "cell_type": "code",
   "execution_count": 29,
   "id": "e3b23da2",
   "metadata": {},
   "outputs": [],
   "source": [
    "def solution():\n",
    "\tp = 1\n",
    "\tq = 1\n",
    "\tcounter = 0\n",
    "\tfor iteration in range(1000):\n",
    "\t\tp, q = update_number(p, q)\n",
    "\n",
    "\t\tif digit_count(p) > digit_count(q):\n",
    "\t\t\tcounter += 1\n",
    "\n",
    "\treturn counter\t\t"
   ]
  },
  {
   "cell_type": "markdown",
   "id": "af960d8f",
   "metadata": {},
   "source": [
    "# Run"
   ]
  },
  {
   "cell_type": "code",
   "execution_count": 30,
   "id": "3616e0b1",
   "metadata": {},
   "outputs": [
    {
     "name": "stdout",
     "output_type": "stream",
     "text": [
      "CPU times: total: 0 ns\n",
      "Wall time: 1 ms\n"
     ]
    },
    {
     "data": {
      "text/plain": [
       "153"
      ]
     },
     "execution_count": 30,
     "metadata": {},
     "output_type": "execute_result"
    }
   ],
   "source": [
    "%%time\n",
    "solution()"
   ]
  }
 ],
 "metadata": {
  "kernelspec": {
   "display_name": "Python 3",
   "language": "python",
   "name": "python3"
  },
  "language_info": {
   "codemirror_mode": {
    "name": "ipython",
    "version": 3
   },
   "file_extension": ".py",
   "mimetype": "text/x-python",
   "name": "python",
   "nbconvert_exporter": "python",
   "pygments_lexer": "ipython3",
   "version": "3.11.4"
  }
 },
 "nbformat": 4,
 "nbformat_minor": 5
}
