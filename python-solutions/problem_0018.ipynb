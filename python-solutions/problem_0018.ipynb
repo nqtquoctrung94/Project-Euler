{
 "cells": [
  {
   "attachments": {},
   "cell_type": "markdown",
   "id": "56128af8",
   "metadata": {},
   "source": [
    "# [Question 18](https://projecteuler.net/problem=18)"
   ]
  },
  {
   "attachments": {},
   "cell_type": "markdown",
   "id": "75a44a8b",
   "metadata": {},
   "source": [
    "## Maximum Path Sum I\n",
    "By starting at the top of the triangle below and moving to adjacent numbers on the row below, the maximum total from top to bottom is 23.<br>\n",
    "<pre style=\"text-align: center;\">\n",
    "<span style=\"color: red\"><b>3</b></span>\n",
    "<span style=\"color: red\"><b>7</b></span> 4\n",
    "2 <span style=\"color: red\"><b>4</b></span> 6\n",
    "8 5 <span style=\"color: red\"><b>9</b></span> 3\n",
    "</pre>\n",
    "\n",
    "That is, 3 + 7 + 4 + 9 = 23.<br>\n",
    "Find the maximum total from top to bottom of the triangle below:<br>\n",
    "<pre style=\"text-align: center;\">\n",
    "75\n",
    "95 64\n",
    "17 47 82\n",
    "18 35 87 10\n",
    "20 04 82 47 65\n",
    "19 01 23 75 03 34\n",
    "88 02 77 73 07 63 67\n",
    "99 65 04 28 06 16 70 92\n",
    "41 41 26 56 83 40 80 70 33\n",
    "41 48 72 33 47 32 37 16 94 29\n",
    "53 71 44 65 25 43 91 52 97 51 14\n",
    "70 11 33 28 77 73 17 78 39 68 17 57\n",
    "91 71 52 38 17 14 91 43 58 50 27 29 48\n",
    "63 66 04 68 89 53 67 30 73 16 69 87 40 31\n",
    "04 62 98 27 23 09 70 98 73 93 38 53 60 04 23\n",
    "</pre>\n",
    "NOTE: As there are only 16384 routes, it is possible to solve this problem by trying every route. However, Problem 67, is the same challenge with a triangle containing one-hundred rows; it cannot be solved by brute force, and requires a clever method! ;o)<br>\n"
   ]
  },
  {
   "attachments": {},
   "cell_type": "markdown",
   "id": "a7c101aa",
   "metadata": {},
   "source": [
    "# Solution"
   ]
  },
  {
   "attachments": {},
   "cell_type": "markdown",
   "id": "ed0586d8",
   "metadata": {},
   "source": [
    "If we have a triangle like this\n",
    "<pre style=\"text-align: center;\">\n",
    "a1\n",
    "b1 b2\n",
    "</pre>\n",
    "then the max path will be $max(b_1, b_2) + a_1$"
   ]
  },
  {
   "attachments": {},
   "cell_type": "markdown",
   "id": "91d5360e",
   "metadata": {},
   "source": [
    "For 3-line triangle\n",
    "<pre style=\"text-align: center;\">\n",
    "a1\n",
    "b1 b2\n",
    "c1 c2 c3\n",
    "</pre>\n",
    "Imagine working from line-c to line-b, we have:\n",
    "- To $b_1 = max(c_1, c_2) + b_1$\n",
    "- To $b_2 = max(c_2, c_3) + b_2$\n",
    "- Then to $a_1 = max(b_1, b_2) + a_1$"
   ]
  },
  {
   "attachments": {},
   "cell_type": "markdown",
   "id": "0cde434c",
   "metadata": {},
   "source": [
    "Thus, working from below upward, at position:\n",
    "- pos[row][col] = max(pos[row+1][col], pos[row+1][col+1]) + tri[row][col]"
   ]
  },
  {
   "cell_type": "code",
   "execution_count": 55,
   "id": "cd4c9978",
   "metadata": {},
   "outputs": [],
   "source": [
    "triangle = [\n",
    "    [75],\n",
    "    [95, 64],\n",
    "    [17, 47, 82],\n",
    "    [18, 35, 87, 10],\n",
    "    [20,  4, 82, 47, 65],\n",
    "    [19,  1, 23, 75,  3, 34],\n",
    "    [88,  2, 77, 73,  7, 63, 67],\n",
    "    [99, 65,  4, 28,  6, 16, 70, 92],\n",
    "    [41, 41, 26, 56, 83, 40, 80, 70, 33],\n",
    "    [41, 48, 72, 33, 47, 32, 37, 16, 94, 29],\n",
    "    [53, 71, 44, 65, 25, 43, 91, 52, 97, 51, 14],\n",
    "    [70, 11, 33, 28, 77, 73, 17, 78, 39, 68, 17, 57],\n",
    "    [91, 71, 52, 38, 17, 14, 91, 43, 58, 50, 27, 29, 48],\n",
    "    [63, 66,  4, 68, 89, 53, 67, 30, 73, 16, 69, 87, 40, 31],\n",
    "    [ 4, 62, 98, 27, 23,  9, 70, 98, 73, 93, 38, 53, 60,  4, 23],\n",
    "]"
   ]
  },
  {
   "cell_type": "code",
   "execution_count": 56,
   "id": "c49d3c2b",
   "metadata": {},
   "outputs": [],
   "source": [
    "def calculate_path_sum_upward(row: int, column: int, position: dict) -> int:\n",
    "\t\"\"\"This function update the value of position from row and column input\n",
    "\tMust loop from last_row - 1 upward to update value arcordingly\"\"\"\n",
    "\tposition[row][column] = max(position[row+1][column], position[row+1][column+1]) + triangle[row][column]\n",
    "\n",
    "def solution():\n",
    "\t\"\"\"Create the position_dict, with the same size as the triangle\n",
    "\tLet the last index of dictionary be the last line of the triangle\n",
    "\tThen loop from the last_row - 1 upward to update the postion total sum\"\"\"\n",
    "\tposition_dict = {}\n",
    "\tfor row in range(len(triangle)):\n",
    "\t\tposition_dict[row] = [0]*len(triangle[row])\n",
    "\n",
    "\tlast_row_index = len(triangle) - 1\n",
    "\tposition_dict[last_row_index] = triangle[last_row_index]\n",
    "\n",
    "\tfor row in range(last_row_index - 1, -1, -1):\n",
    "\t\tfor column in range(len(triangle[row])):\n",
    "\t\t\tcalculate_path_sum_upward(row, column, position_dict)\n",
    "\n",
    "\treturn position_dict[0][0]"
   ]
  },
  {
   "attachments": {},
   "cell_type": "markdown",
   "id": "99a1ae72",
   "metadata": {},
   "source": [
    "# Run"
   ]
  },
  {
   "cell_type": "code",
   "execution_count": 57,
   "id": "4a500937",
   "metadata": {},
   "outputs": [
    {
     "name": "stdout",
     "output_type": "stream",
     "text": [
      "CPU times: total: 0 ns\n",
      "Wall time: 0 ns\n"
     ]
    },
    {
     "data": {
      "text/plain": [
       "1074"
      ]
     },
     "execution_count": 57,
     "metadata": {},
     "output_type": "execute_result"
    }
   ],
   "source": [
    "%%time\n",
    "solution()"
   ]
  }
 ],
 "metadata": {
  "kernelspec": {
   "display_name": "Python 3",
   "language": "python",
   "name": "python3"
  },
  "language_info": {
   "codemirror_mode": {
    "name": "ipython",
    "version": 3
   },
   "file_extension": ".py",
   "mimetype": "text/x-python",
   "name": "python",
   "nbconvert_exporter": "python",
   "pygments_lexer": "ipython3",
   "version": "3.11.4"
  }
 },
 "nbformat": 4,
 "nbformat_minor": 5
}
