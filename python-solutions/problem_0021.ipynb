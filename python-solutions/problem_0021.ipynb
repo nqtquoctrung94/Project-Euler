{
 "cells": [
  {
   "attachments": {},
   "cell_type": "markdown",
   "id": "61d7b938",
   "metadata": {},
   "source": [
    "# [Question 21](https://projecteuler.net/problem=21)"
   ]
  },
  {
   "attachments": {},
   "cell_type": "markdown",
   "id": "19b27847",
   "metadata": {},
   "source": [
    "## Amicable Numbers\n",
    "Let $d(n)$ be defined as the sum of proper divisors of $n$ (numbers less than $n$ which divide evenly into $n$).<br>\n",
    "If $d(a) = b$ and $d(b) = a$, where $a \\ne b$, then $a$ and $b$ are an amicable pair and each of $a$ and $b$ are called amicable numbers.<br>\n",
    "For example, the proper divisors of $220$ are $1, 2, 4, 5, 10, 11, 20, 22, 44, 55$ and $110$; therefore $d(220) = 284$. The proper divisors of $284$ are $1, 2, 4, 71$ and $142$; so $d(284) = 220$.<br>\n",
    "Evaluate the sum of all the amicable numbers under $10000$.<br>\n"
   ]
  },
  {
   "attachments": {},
   "cell_type": "markdown",
   "id": "847f0905",
   "metadata": {},
   "source": [
    "# Solution"
   ]
  },
  {
   "attachments": {},
   "cell_type": "markdown",
   "id": "0dff47fb",
   "metadata": {},
   "source": [
    "The idea: We have the list of all the sum of proper divisors, all start at 0\n",
    "- [0,  0,  0,  0,  0,  0,  0,  0,  0,  0,  0,  0,  0,  0,  0,  0,  0,  0,  0,  0,  0]\n",
    "- Each index represent the number\n",
    "- Check divisible for each number, working from largest number, down to the smallest number that higher than current number\n",
    "Each loop add to the current divisors sum\n",
    "\n",
    "It is observed that sum of diviors last update is at n//2, so we can design a function use memory of n+1 (0 till n) and complexity of O(n/2)"
   ]
  },
  {
   "attachments": {},
   "cell_type": "markdown",
   "id": "1edad5a5",
   "metadata": {},
   "source": [
    "|  | 0 | 1 | 2 | 3 | 4 | 5 | 6 | 7 | 8 | 9 | 10 | 11 | 12 | 13 | 14 | 15 | 16 | 17 | 18 | 19 | 20 | 21 | 22 | 23 |\n",
    "|---|:---:|:---:|:---:|:---:|:---:|:---:|:---:|:---:|:---:|:---:|:---:|:---:|:---:|:---:|:---:|:---:|:---:|:---:|:---:|:---:|:---:|:---:|:---:|:---:|\n",
    "| **Initial list** | 0 | 0 | 0 | 0 | 0 | 0 | 0 | 0 | 0 | 0 | 0 | 0 | 0 | 0 | 0 | 0 | 0 | 0 | 0 | 0 | 0 | 0 | 0 | 0 |\n",
    "| **Divisible by 1** | 0 | 0 | <span style='color: red; background: yellow'> 1 | <span style='color: red; background: yellow'> 1 | <span style='color: red; background: yellow'> 1 | <span style='color: red; background: yellow'> 1 | <span style='color: red; background: yellow'> 1 | <span style='color: red; background: yellow'> 1 | <span style='color: red; background: yellow'> 1 | <span style='color: red; background: yellow'> 1 | <span style='color: red; background: yellow'> 1 | <span style='color: red; background: yellow'> 1 | <span style='color: red; background: yellow'> 1 | <span style='color: red; background: yellow'> 1 | <span style='color: red; background: yellow'> 1 | <span style='color: red; background: yellow'> 1 | <span style='color: red; background: yellow'> 1 | <span style='color: red; background: yellow'> 1 | <span style='color: red; background: yellow'> 1 | <span style='color: red; background: yellow'> 1 | <span style='color: red; background: yellow'> 1 | <span style='color: red; background: yellow'> 1 | <span style='color: red; background: yellow'> 1 | <span style='color: red; background: yellow'> 1 |\n",
    "| **Divisible by 2** | 0 | 0 | 1 | 1 | <span style='color: red; background: yellow'> 3 | 1 | <span style='color: red; background: yellow'> 3 | 1 | <span style='color: red; background: yellow'> 3 | 1 | <span style='color: red; background: yellow'> 3 | 1 | <span style='color: red; background: yellow'> 3 | 1 | <span style='color: red; background: yellow'> 3 | 1 | <span style='color: red; background: yellow'> 3 | 1 | <span style='color: red; background: yellow'> 3 | 1 | <span style='color: red; background: yellow'> 3 | 1 | <span style='color: red; background: yellow'> 3 | 1 |\n",
    "| **Divisible by 3** | 0 | 0 | 1 | 1 | 3 | 1 | <span style='color: red; background: yellow'> 6 | 1 | 3 | <span style='color: red; background: yellow'> 4 | 3 | 1 | <span style='color: red; background: yellow'> 6 | 1 | 3 | <span style='color: red; background: yellow'> 4 | 3 | 1 | <span style='color: red; background: yellow'> 6 | 1 | 3 | <span style='color: red; background: yellow'> 4 | 3 | 1 |\n",
    "| **Divisible by 4** | 0 | 0 | 1 | 1 | 3 | 1 | 6 | 1 | <span style='color: red; background: yellow'> 7 | 4 | 3 | 1 | <span style='color: red; background: yellow'> 10 | 1 | 3 | 4 | <span style='color: red; background: yellow'> 7 | 1 | 6 | 1 | <span style='color: red; background: yellow'> 7 | 4 | 3 | 1 |\n",
    "| **Divisible by 5** | 0 | 0 | 1 | 1 | 3 | 1 | 6 | 1 | 7 | 4 | <span style='color: red; background: yellow'> 8 | 1 | 10 | 1 | 3 | <span style='color: red; background: yellow'> 9 | 7 | 1 | 6 | 1 | <span style='color: red; background: yellow'> 12 | 4 | 3 | 1 |\n",
    "| **Divisible by 6** | 0 | 0 | 1 | 1 | 3 | 1 | 6 | 1 | 7 | 4 | 8 | 1 | <span style='color: red; background: yellow'> 16 | 1 | 3 | 9 | 7 | 1 | <span style='color: red; background: yellow'> 12 | 1 | 12 | 4 | 3 | 1 |\n",
    "| **Divisible by 7** | 0 | 0 | 1 | 1 | 3 | 1 | 6 | 1 | 7 | 4 | 8 | 1 | 16 | 1 | <span style='color: red; background: yellow'> 10 | 9 | 7 | 1 | 12 | 1 | 12 | <span style='color: red; background: yellow'> 11 | 3 | 1 |\n",
    "| **Divisible by 8** | 0 | 0 | 1 | 1 | 3 | 1 | 6 | 1 | 7 | 4 | 8 | 1 | 16 | 1 | 10 | 9 | <span style='color: red; background: yellow'> 15 | 1 | 12 | 1 | 12 | 11 | 3 | 1 |\n",
    "| **Divisible by 9** | 0 | 0 | 1 | 1 | 3 | 1 | 6 | 1 | 7 | 4 | 8 | 1 | 16 | 1 | 10 | 9 | 15 | 1 | <span style='color: red; background: yellow'> 21 | 1 | 12 | 11 | 3 | 1 |\n",
    "| **Divisible by 10** | 0 | 0 | 1 | 1 | 3 | 1 | 6 | 1 | 7 | 4 | 8 | 1 | 16 | 1 | 10 | 9 | 15 | 1 | 21 | 1 | <span style='color: red; background: yellow'> 22 | 11 | 3 | 1 |\n",
    "| **Divisible by 11** | 0 | 0 | 1 | 1 | 3 | 1 | 6 | 1 | 7 | 4 | 8 | 1 | 16 | 1 | 10 | 9 | 15 | 1 | 21 | 1 | 22 | 11 | <span style='color: red; background: yellow'> 14 | 1 |\n",
    "| **Divisible by 12** | 0 | 0 | 1 | 1 | 3 | 1 | 6 | 1 | 7 | 4 | 8 | 1 | 16 | 1 | 10 | 9 | 15 | 1 | 21 | 1 | 22 | 11 | 14 | 1 |\n",
    "| **Divisible by 13** | 0 | 0 | 1 | 1 | 3 | 1 | 6 | 1 | 7 | 4 | 8 | 1 | 16 | 1 | 10 | 9 | 15 | 1 | 21 | 1 | 22 | 11 | 14 | 1 |\n",
    "| **Divisible by 14** | 0 | 0 | 1 | 1 | 3 | 1 | 6 | 1 | 7 | 4 | 8 | 1 | 16 | 1 | 10 | 9 | 15 | 1 | 21 | 1 | 22 | 11 | 14 | 1 |\n",
    "| **Divisible by 15** | 0 | 0 | 1 | 1 | 3 | 1 | 6 | 1 | 7 | 4 | 8 | 1 | 16 | 1 | 10 | 9 | 15 | 1 | 21 | 1 | 22 | 11 | 14 | 1 |\n",
    "| **Divisible by 16** | 0 | 0 | 1 | 1 | 3 | 1 | 6 | 1 | 7 | 4 | 8 | 1 | 16 | 1 | 10 | 9 | 15 | 1 | 21 | 1 | 22 | 11 | 14 | 1 |\n",
    "| **Divisible by 17** | 0 | 0 | 1 | 1 | 3 | 1 | 6 | 1 | 7 | 4 | 8 | 1 | 16 | 1 | 10 | 9 | 15 | 1 | 21 | 1 | 22 | 11 | 14 | 1 |\n",
    "| **Divisible by 18** | 0 | 0 | 1 | 1 | 3 | 1 | 6 | 1 | 7 | 4 | 8 | 1 | 16 | 1 | 10 | 9 | 15 | 1 | 21 | 1 | 22 | 11 | 14 | 1 |\n",
    "| **Divisible by 19** | 0 | 0 | 1 | 1 | 3 | 1 | 6 | 1 | 7 | 4 | 8 | 1 | 16 | 1 | 10 | 9 | 15 | 1 | 21 | 1 | 22 | 11 | 14 | 1 |\n",
    "| **Divisible by 20** | 0 | 0 | 1 | 1 | 3 | 1 | 6 | 1 | 7 | 4 | 8 | 1 | 16 | 1 | 10 | 9 | 15 | 1 | 21 | 1 | 22 | 11 | 14 | 1 |"
   ]
  },
  {
   "attachments": {},
   "cell_type": "markdown",
   "id": "90535368",
   "metadata": {},
   "source": [
    "Chúng ta có thể phân tích một số thành tích của các số nguyên tố, sau đó dựa vào tính chất sau:\n",
    "\n",
    "Gọi $p$ là số nguyên tố\n",
    "- Số lượng ước số của $p$, $\\sigma_{0}{(p)} = 2$, tổng ước số là $\\sigma_{1}{(p)} = p+1$\n",
    "- Số lượng ước số của $p^k$, $\\sigma_{0}{(p^k)} = k +1$, tổng ước số là $\\sigma_{1}{(p^k)} = \\frac{p^{k+1}-1}{p-1}$\n",
    "    - Chứng minh:\n",
    "        - Các ước số của $p^k$ lần lượt là $1, p, p^2, p^3,\\dots,p^k$ \n",
    "        - Hay $p^0, p^1, p^2,\\dots,p^k$ \n",
    "        - Vậy:\n",
    "            - Ta có k+1 ước số\n",
    "            - Tổng các ước số = $p^0 + p^1 + p^2 + \\dots + p^k = \\frac{p^{k+1}-1}{p-1} $ \n",
    "            \n",
    "Một số phân tích thành tích của $p_{1}^{m}$ và $p_{2}^{n}$, ta có:\n",
    "- Số lượng ước số:\n",
    "    $\\sigma_{0}{(p_{1}^{m} \\times p_{2}^{n})} = \\sigma_{0}{(p_{1}^{m})} \\times \\sigma_{0}{(p_{2}^{n})} = (m+1)\\times(n+1)$\n",
    "- Tổng ước số\n",
    "    $\\sigma_{1}{(p_{1}^{m} \\times p_{2}^{n})} = \\sigma_{1}{(p_{1}^{m})} \\times \\sigma_{1}{(p_{2}^{n})} = \\frac{p_{1}^{m+1}-1}{p_{1}-1}\\times\\frac{p_{2}^{n+1}-1}{p_{2}-1}$ <br>\n",
    "    Điều này chứng minh được vì ước chung lớn nhất của $p_{1}$ và $p_{2}$ là $gcd(p_{1},p_{2}) = 1$"
   ]
  },
  {
   "cell_type": "code",
   "execution_count": 1,
   "id": "afba3886",
   "metadata": {},
   "outputs": [],
   "source": [
    "def proper_divisors_sum_list(limit: int) -> list:\n",
    "    \"\"\"This function return the divisors sum list from 0 to limit, for more indeep prove, check question 21\"\"\"\n",
    "    \n",
    "    sum_list = [0]*(limit+1)\n",
    "    \n",
    "    for divisor in range(1, limit//2 + 1):\n",
    "        index = divisor*2\n",
    "        while index < limit+1:\n",
    "            sum_list[index] += divisor\n",
    "            index += divisor\n",
    "    return sum_list"
   ]
  },
  {
   "cell_type": "code",
   "execution_count": 2,
   "id": "e1c3fcc4",
   "metadata": {},
   "outputs": [
    {
     "data": {
      "text/plain": [
       "[0, 0, 1, 1, 3, 1, 6, 1, 7, 4, 8, 1, 16, 1, 10, 9, 15, 1, 21, 1, 22, 11, 14, 1]"
      ]
     },
     "execution_count": 2,
     "metadata": {},
     "output_type": "execute_result"
    }
   ],
   "source": [
    "proper_divisors_sum_list(23)"
   ]
  },
  {
   "cell_type": "code",
   "execution_count": 26,
   "id": "9a00d1c4",
   "metadata": {},
   "outputs": [],
   "source": [
    "from euler_lib import proper_divisors_list\n",
    "from euler_lib import sieve_of_eratosthenes as sieve\n",
    "\n",
    "def amicable_pair(a: int) -> int or None:\n",
    "\t\"\"\"This function return amicable pair of a if possible\n",
    "\tIf we call:\n",
    "\t- sum of proper divisors of a -> d(a) = b\n",
    "\t- sum of proper divisors of b -> d(b)\n",
    "\tIf d(b) == a: Then return b as (a,b) form a amicable pair, else return None\n",
    "\t\"\"\"\n",
    "\tda = sum(proper_divisors_list(a))\n",
    "\tif da == a:\treturn None\n",
    "\n",
    "\tdb = sum(proper_divisors_list(da))\n",
    "\tif db == a:\treturn da\n",
    "\treturn None\n",
    "\n",
    "def solution():\n",
    "\tlimit = 10000\n",
    "\tamicable_dict = {}\n",
    "\tprime_list = sieve(limit)\n",
    "\n",
    "\tfor i in range(2, limit):\n",
    "\t\tif i in amicable_dict.keys() or i in prime_list:\n",
    "\t\t\tcontinue\n",
    "\t\t# If found pair, update dictionary\n",
    "\t\tamicable_i = amicable_pair(i)\n",
    "\t\tif amicable_i is not None:\n",
    "\t\t\tamicable_dict[i] = amicable_i\n",
    "\t\t\tamicable_dict[amicable_i] = i\n",
    "\n",
    "\treturn sum([key for key,value in amicable_dict.items() if key < limit and value < limit])"
   ]
  },
  {
   "attachments": {},
   "cell_type": "markdown",
   "id": "eb60af94",
   "metadata": {},
   "source": [
    "# Run"
   ]
  },
  {
   "cell_type": "code",
   "execution_count": 27,
   "id": "d6eac6d5",
   "metadata": {},
   "outputs": [
    {
     "name": "stdout",
     "output_type": "stream",
     "text": [
      "CPU times: total: 438 ms\n",
      "Wall time: 623 ms\n"
     ]
    },
    {
     "data": {
      "text/plain": [
       "31626"
      ]
     },
     "execution_count": 27,
     "metadata": {},
     "output_type": "execute_result"
    }
   ],
   "source": [
    "%%time\n",
    "solution()"
   ]
  }
 ],
 "metadata": {
  "kernelspec": {
   "display_name": "base",
   "language": "python",
   "name": "python3"
  },
  "language_info": {
   "codemirror_mode": {
    "name": "ipython",
    "version": 3
   },
   "file_extension": ".py",
   "mimetype": "text/x-python",
   "name": "python",
   "nbconvert_exporter": "python",
   "pygments_lexer": "ipython3",
   "version": "3.10.9"
  }
 },
 "nbformat": 4,
 "nbformat_minor": 5
}
