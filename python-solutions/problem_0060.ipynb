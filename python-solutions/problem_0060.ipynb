{
 "cells": [
  {
   "cell_type": "markdown",
   "id": "a581323a",
   "metadata": {},
   "source": [
    "# [Question 60](https://projecteuler.net/problem=60)"
   ]
  },
  {
   "cell_type": "markdown",
   "id": "dfe3f003",
   "metadata": {},
   "source": [
    "## Prime Pair Sets\n",
    "The primes $3$, $7$, $109$, and $673$, are quite remarkable. By taking any two primes and concatenating them in any order the result will always be prime. For example, taking $7$ and $109$, both $7109$ and $1097$ are prime. The sum of these four primes, $792$, represents the lowest sum for a set of four primes with this property.<br>\n",
    "Find the lowest sum for a set of five primes for which any two primes concatenate to produce another prime.<br>\n"
   ]
  },
  {
   "cell_type": "markdown",
   "id": "f31e49b7",
   "metadata": {},
   "source": [
    "# Solution"
   ]
  },
  {
   "cell_type": "code",
   "execution_count": 1,
   "id": "5f2b481c",
   "metadata": {},
   "outputs": [],
   "source": [
    "from snippet.euler_lib import is_prime, sieve_of_eratosthenes"
   ]
  },
  {
   "cell_type": "code",
   "execution_count": null,
   "id": "4258f0ef",
   "metadata": {},
   "outputs": [],
   "source": [
    "def is_prime_pair(a:int, b:int):\n",
    "    num1 = int(str(a) + str(b))\n",
    "    num2 = int(str(b) + str(a))\n",
    "    return is_prime(num1) and is_prime(num2)"
   ]
  },
  {
   "cell_type": "code",
   "execution_count": null,
   "id": "92065c3f",
   "metadata": {},
   "outputs": [],
   "source": [
    "def find_pairs(prime_n:int, primes:list) -> list:\n",
    "    \"\"\"This function return the list of numbers that will become pair with prime at index 0\"\"\"\n",
    "    pairs = [prime_n]\n",
    "    for prime in primes:\n",
    "        if prime == prime_n:\n",
    "            continue\n",
    "        if is_prime_pair(prime, prime_n):\n",
    "            pairs.append(prime)\n",
    "    return pairs"
   ]
  },
  {
   "cell_type": "code",
   "execution_count": null,
   "id": "016ea64e",
   "metadata": {},
   "outputs": [],
   "source": [
    "def find_set_of_five(pairs: list, prime_check:dict):\n",
    "    \"\"\"This function will check the pairs result from find_pairs and find the set of five primes within the list.\"\"\""
   ]
  },
  {
   "cell_type": "code",
   "execution_count": null,
   "id": "d721667f",
   "metadata": {},
   "outputs": [],
   "source": [
    "def solution():\n",
    "\tprime_list = sieve_of_eratosthenes(10000)\n",
    "\tprime_check = {prime: False for prime in prime_list}\n",
    "\n",
    "\tfor prime in prime_list:\n",
    "\t\tprime_pairs = find_pairs(prime, prime_list)\n",
    "\tpass"
   ]
  },
  {
   "cell_type": "markdown",
   "id": "b6205012",
   "metadata": {},
   "source": [
    "# Run"
   ]
  },
  {
   "cell_type": "code",
   "execution_count": null,
   "id": "958c119d",
   "metadata": {},
   "outputs": [],
   "source": [
    "%%time\n",
    "solution()"
   ]
  }
 ],
 "metadata": {
  "kernelspec": {
   "display_name": "base",
   "language": "python",
   "name": "python3"
  },
  "language_info": {
   "codemirror_mode": {
    "name": "ipython",
    "version": 3
   },
   "file_extension": ".py",
   "mimetype": "text/x-python",
   "name": "python",
   "nbconvert_exporter": "python",
   "pygments_lexer": "ipython3",
   "version": "3.10.9"
  }
 },
 "nbformat": 4,
 "nbformat_minor": 5
}
