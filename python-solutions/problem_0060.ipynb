{
 "cells": [
  {
   "cell_type": "markdown",
   "id": "a581323a",
   "metadata": {},
   "source": [
    "# [Question 60](https://projecteuler.net/problem=60)"
   ]
  },
  {
   "cell_type": "markdown",
   "id": "dfe3f003",
   "metadata": {},
   "source": [
    "## Prime Pair Sets\n",
    "The primes $3$, $7$, $109$, and $673$, are quite remarkable. By taking any two primes and concatenating them in any order the result will always be prime. For example, taking $7$ and $109$, both $7109$ and $1097$ are prime. The sum of these four primes, $792$, represents the lowest sum for a set of four primes with this property.<br>\n",
    "Find the lowest sum for a set of five primes for which any two primes concatenate to produce another prime.<br>\n"
   ]
  },
  {
   "cell_type": "markdown",
   "id": "f31e49b7",
   "metadata": {},
   "source": [
    "# Solution"
   ]
  },
  {
   "cell_type": "code",
   "execution_count": 313,
   "id": "5f2b481c",
   "metadata": {},
   "outputs": [],
   "source": [
    "from snippet.euler_lib import is_prime, sieve_of_eratosthenes"
   ]
  },
  {
   "cell_type": "code",
   "execution_count": 314,
   "id": "4258f0ef",
   "metadata": {},
   "outputs": [],
   "source": [
    "def is_prime_pair(a:int, b:int):\n",
    "    if a == b:\n",
    "        return False\n",
    "    num1 = int(str(a) + str(b))\n",
    "    num2 = int(str(b) + str(a))\n",
    "    return is_prime(num1) and is_prime(num2)"
   ]
  },
  {
   "cell_type": "code",
   "execution_count": 315,
   "id": "96b5dbc9",
   "metadata": {},
   "outputs": [],
   "source": [
    "def count_pairs(target_prime:int, pairs:set) -> int:\n",
    "    return sum(1 for prime in pairs if is_prime_pair(target_prime, prime))"
   ]
  },
  {
   "cell_type": "code",
   "execution_count": 316,
   "id": "6d34e380",
   "metadata": {},
   "outputs": [],
   "source": [
    "def clean_pairs(pairs:set) -> set:\n",
    "    return set(prime for prime in pairs if count_pairs(prime, pairs) >= 5)"
   ]
  },
  {
   "cell_type": "code",
   "execution_count": 317,
   "id": "92065c3f",
   "metadata": {},
   "outputs": [],
   "source": [
    "def find_pairs(prime_n:int, primes:list) -> set:\n",
    "    \"\"\"This function return the set of numbers that will become pair with prime at index 0\"\"\"\n",
    "    pairs = {prime_n}\n",
    "    for prime in primes:\n",
    "        if is_prime_pair(prime, prime_n):\n",
    "            pairs.add(prime)\n",
    "    return clean_pairs(pairs)"
   ]
  },
  {
   "cell_type": "code",
   "execution_count": 318,
   "id": "d721667f",
   "metadata": {},
   "outputs": [],
   "source": [
    "# Dictionary approach for pre-calculate pairs\n",
    "def solution1():\n",
    "    prime_list = sieve_of_eratosthenes(10000)\n",
    "\n",
    "    prime_dict = {}\n",
    "    for index, prime_a in enumerate(prime_list):\n",
    "        for prime_b in prime_list[index+1:]:\n",
    "            if is_prime_pair(prime_a, prime_b):\n",
    "                prime_dict.setdefault(prime_a, set()).add(prime_b)  # Add prime_b to prime_dict[prime_a]\n",
    "                prime_dict.setdefault(prime_b, set()).add(prime_a)  # Add prime_a to prime_dict[prime_b]\n",
    "\n",
    "    set_sums = set()\n",
    "\n",
    "    # 1st number\n",
    "    for prime1, pairs_set in prime_dict.items():\n",
    "\n",
    "        # 2nd number\n",
    "        for prime2 in pairs_set:\n",
    "            intersect_2 = pairs_set & prime_dict[prime2]\n",
    "\n",
    "            # 3rd number\n",
    "            for prime3 in intersect_2:\n",
    "                intersect_3 = intersect_2 & prime_dict[prime3]\n",
    "\n",
    "                # 4th number\n",
    "                for prime4 in intersect_3:\n",
    "                    intersect_4 = intersect_3 & prime_dict[prime4]\n",
    "                    \n",
    "                    # 5th number\n",
    "                    for prime5 in intersect_4:\n",
    "                        set_of_five = (prime1, prime2, prime3, prime4, prime5)\n",
    "                        # print(set_of_five)\n",
    "                        set_sums.add(sum(set_of_five))\n",
    "                        \n",
    "    return min(set_sums)"
   ]
  },
  {
   "cell_type": "code",
   "execution_count": 319,
   "id": "355ccb28",
   "metadata": {},
   "outputs": [],
   "source": [
    "# OLd solution, set minus approach\n",
    "\n",
    "def solution2():\n",
    "    prime_list = sieve_of_eratosthenes(10000)\n",
    "    set_sums = set()\n",
    "    \n",
    "    # 1st number\n",
    "    for prime1 in prime_list:\n",
    "        prime_pairs = find_pairs(prime1, prime_list)\n",
    "                \n",
    "        # 2nd number\n",
    "        for prime2 in (prime_pairs - {prime1}):\n",
    "\n",
    "            # 3rd number\n",
    "            for prime3 in (prime_pairs - {prime1,prime2}):\n",
    "                if not is_prime_pair(prime2, prime3):\n",
    "                    continue\n",
    "                \n",
    "                # 4th number\n",
    "                for prime4 in (prime_pairs - {prime1,prime2,prime3}):\n",
    "                    if count_pairs(prime4, [prime2, prime3]) != 2:\n",
    "                        continue\n",
    "                    \n",
    "                    # 5th number\n",
    "                    for prime5 in (prime_pairs - {prime1,prime2,prime3,prime4}):\n",
    "                        if count_pairs(prime5, [prime2, prime3, prime4]) != 3:\n",
    "                            continue\n",
    "                        set_of_five = (prime1, prime2, prime3, prime4, prime5)\n",
    "                        set_sums.add(sum(set_of_five))\n",
    "    return min(set_sums)"
   ]
  },
  {
   "cell_type": "markdown",
   "id": "b6205012",
   "metadata": {},
   "source": [
    "# Run"
   ]
  },
  {
   "cell_type": "code",
   "execution_count": 320,
   "id": "ccbcefcc",
   "metadata": {},
   "outputs": [
    {
     "name": "stdout",
     "output_type": "stream",
     "text": [
      "CPU times: total: 5.47 s\n",
      "Wall time: 8.18 s\n"
     ]
    },
    {
     "data": {
      "text/plain": [
       "26033"
      ]
     },
     "execution_count": 320,
     "metadata": {},
     "output_type": "execute_result"
    }
   ],
   "source": [
    "%%time\n",
    "solution1()"
   ]
  },
  {
   "cell_type": "code",
   "execution_count": 321,
   "id": "667b3e43",
   "metadata": {},
   "outputs": [
    {
     "name": "stdout",
     "output_type": "stream",
     "text": [
      "CPU times: total: 49.6 s\n",
      "Wall time: 1min\n"
     ]
    },
    {
     "data": {
      "text/plain": [
       "26033"
      ]
     },
     "execution_count": 321,
     "metadata": {},
     "output_type": "execute_result"
    }
   ],
   "source": [
    "%%time\n",
    "solution2()"
   ]
  }
 ],
 "metadata": {
  "kernelspec": {
   "display_name": "base",
   "language": "python",
   "name": "python3"
  },
  "language_info": {
   "codemirror_mode": {
    "name": "ipython",
    "version": 3
   },
   "file_extension": ".py",
   "mimetype": "text/x-python",
   "name": "python",
   "nbconvert_exporter": "python",
   "pygments_lexer": "ipython3",
   "version": "3.11.4"
  }
 },
 "nbformat": 4,
 "nbformat_minor": 5
}
