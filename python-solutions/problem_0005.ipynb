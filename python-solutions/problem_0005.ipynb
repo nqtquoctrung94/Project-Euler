{
 "cells": [
  {
   "attachments": {},
   "cell_type": "markdown",
   "id": "15b40745",
   "metadata": {},
   "source": [
    "# [Question 5](https://projecteuler.net/problem=5)"
   ]
  },
  {
   "attachments": {},
   "cell_type": "markdown",
   "id": "079d27cb",
   "metadata": {},
   "source": [
    "$2520$ is the smallest number that can be divided by each of the numbers from $1$ to $10$ without any remainder.<br>\n",
    "What is the smallest positive number that is divisible with no remainder by all of the numbers from $1$ to $20$?<br>\n"
   ]
  },
  {
   "attachments": {},
   "cell_type": "markdown",
   "id": "d07d594a",
   "metadata": {},
   "source": [
    "# Solution"
   ]
  },
  {
   "attachments": {},
   "cell_type": "markdown",
   "id": "3ca5d5d4",
   "metadata": {},
   "source": [
    "## Solution 1"
   ]
  },
  {
   "cell_type": "code",
   "execution_count": 1,
   "id": "a8ccaf2f",
   "metadata": {},
   "outputs": [],
   "source": [
    "import math\n",
    "from snippet.euler_lib import least_common_multiple\n",
    "\n",
    "def solution1():\n",
    "    '''We want to find the Least Common Multiple of all the number from 1 to 20\n",
    "    Each loop of this function calculate lcm(a,b) = multiple(a,b) / gcd(a,b) by using math.gcd function'''\n",
    "    result = 1\n",
    "    for i in range(1,21):\n",
    "        result = least_common_multiple(result, i)\n",
    "    return result"
   ]
  },
  {
   "attachments": {},
   "cell_type": "markdown",
   "id": "d02323c2",
   "metadata": {},
   "source": [
    "## Solution 2"
   ]
  },
  {
   "cell_type": "code",
   "execution_count": 2,
   "id": "189f000b",
   "metadata": {},
   "outputs": [],
   "source": [
    "def euclidean_gcd(a:int, b:int):\n",
    "    '''This function calculate the Greatest Common Divisor using Euclidean Algorithm approach\n",
    "    Ref: https://en.wikipedia.org/wiki/Euclidean_algorithm'''\n",
    "    if b == 0:\n",
    "        return a\n",
    "    return euclidean_gcd(b, a%b)\n",
    "\n",
    "def lcm_func(a:int, b:int) -> int:\n",
    "    '''This function return Least Common Multiple of a and b\n",
    "    Ref: https://en.wikipedia.org/wiki/Greatest_common_divisor#Least_common_multiple'''\n",
    "    return (a*b) // euclidean_gcd(a,b)\n",
    "\n",
    "def solution2():\n",
    "    '''This solution attempted to not use gcd built-in function'''\n",
    "    result = 1\n",
    "    for i in range(1,21):\n",
    "        result = lcm_func(result, i)\n",
    "    return result\n"
   ]
  },
  {
   "attachments": {},
   "cell_type": "markdown",
   "id": "f2772ad8",
   "metadata": {},
   "source": [
    "# Run"
   ]
  },
  {
   "cell_type": "code",
   "execution_count": 3,
   "id": "b0052169",
   "metadata": {},
   "outputs": [
    {
     "name": "stdout",
     "output_type": "stream",
     "text": [
      "CPU times: total: 0 ns\n",
      "Wall time: 0 ns\n"
     ]
    },
    {
     "data": {
      "text/plain": [
       "232792560"
      ]
     },
     "execution_count": 3,
     "metadata": {},
     "output_type": "execute_result"
    }
   ],
   "source": [
    "%%time\n",
    "solution1()"
   ]
  },
  {
   "cell_type": "code",
   "execution_count": 4,
   "id": "ffd0cf69",
   "metadata": {},
   "outputs": [
    {
     "name": "stdout",
     "output_type": "stream",
     "text": [
      "CPU times: total: 0 ns\n",
      "Wall time: 0 ns\n"
     ]
    },
    {
     "data": {
      "text/plain": [
       "232792560"
      ]
     },
     "execution_count": 4,
     "metadata": {},
     "output_type": "execute_result"
    }
   ],
   "source": [
    "%%time\n",
    "solution2()"
   ]
  }
 ],
 "metadata": {
  "kernelspec": {
   "display_name": "Python 3",
   "language": "python",
   "name": "python3"
  },
  "language_info": {
   "codemirror_mode": {
    "name": "ipython",
    "version": 3
   },
   "file_extension": ".py",
   "mimetype": "text/x-python",
   "name": "python",
   "nbconvert_exporter": "python",
   "pygments_lexer": "ipython3",
   "version": "3.11.4"
  }
 },
 "nbformat": 4,
 "nbformat_minor": 5
}
