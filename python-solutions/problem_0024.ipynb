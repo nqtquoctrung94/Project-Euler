{
 "cells": [
  {
   "cell_type": "markdown",
   "id": "744cb900",
   "metadata": {},
   "source": [
    "# [Question 24](https://projecteuler.net/problem=24)"
   ]
  },
  {
   "cell_type": "markdown",
   "id": "c4a5d82a",
   "metadata": {},
   "source": [
    "## Lexicographic Permutations\n",
    "A permutation is an ordered arrangement of objects. For example, 3124 is one possible permutation of the digits 1, 2, 3 and 4. If all of the permutations are listed numerically or alphabetically, we call it lexicographic order. The lexicographic permutations of 0, 1 and 2 are:<br>\n",
    "$$012 \\;\\; 021 \\;\\; 102 \\;\\; 120 \\;\\; 201 \\;\\; 210$$\n",
    "What is the millionth lexicographic permutation of the digits 0, 1, 2, 3, 4, 5, 6, 7, 8 and 9?<br>\n"
   ]
  },
  {
   "cell_type": "markdown",
   "id": "09a3ca77",
   "metadata": {},
   "source": [
    "# Solution"
   ]
  },
  {
   "cell_type": "code",
   "execution_count": 1,
   "id": "b732b8d6",
   "metadata": {},
   "outputs": [],
   "source": [
    "import math\n",
    "\n",
    "def solution():\n",
    "\t\"\"\" The idea of this solution is, for 10 digits, we have 10! permutations, and went sorted, each starting digits span in the interval 9! permutations\"\"\"\n",
    "\n",
    "\ttarget_index = 1000000\n",
    "\tstring = ''\n",
    "\tnext_start = 0\n",
    "\tdigits = [0, 1, 2, 3, 4, 5, 6, 7, 8, 9]\n",
    "\t\n",
    "\twhile len(digits) > 0:\n",
    "\t\tfor index, digit in enumerate(digits):\t\t\t\n",
    "\t\t\tpermutation_index_start = next_start + math.factorial(len(digits)-1) * index\n",
    "\t\t\tpermutation_index_end = next_start + math.factorial(len(digits)-1) * (index+1)\n",
    "\n",
    "\t\t\t# If the index span cover the target_index, that's the digit we want to put in, now we:\n",
    "\t\t\t# - Update the starting index\n",
    "\t\t\t# - Add that digit to the output string\n",
    "\t\t\t# - pop that digit out of the list\n",
    "\t\t\tif permutation_index_start <= target_index <= permutation_index_end:\n",
    "\t\t\t\tnext_start = permutation_index_start\n",
    "\t\t\t\tstring += str(digit)\n",
    "\t\t\t\tdigits.remove(digit)\n",
    "\t\t\t\tbreak\n",
    "\n",
    "\treturn string"
   ]
  },
  {
   "cell_type": "markdown",
   "id": "9ca56479",
   "metadata": {},
   "source": [
    "# Run"
   ]
  },
  {
   "cell_type": "code",
   "execution_count": 2,
   "id": "9fc02f17",
   "metadata": {},
   "outputs": [
    {
     "name": "stdout",
     "output_type": "stream",
     "text": [
      "CPU times: total: 0 ns\n",
      "Wall time: 0 ns\n"
     ]
    },
    {
     "data": {
      "text/plain": [
       "'2783915460'"
      ]
     },
     "execution_count": 2,
     "metadata": {},
     "output_type": "execute_result"
    }
   ],
   "source": [
    "%%time\n",
    "solution()"
   ]
  }
 ],
 "metadata": {
  "kernelspec": {
   "display_name": "base",
   "language": "python",
   "name": "python3"
  },
  "language_info": {
   "codemirror_mode": {
    "name": "ipython",
    "version": 3
   },
   "file_extension": ".py",
   "mimetype": "text/x-python",
   "name": "python",
   "nbconvert_exporter": "python",
   "pygments_lexer": "ipython3",
   "version": "3.10.9"
  }
 },
 "nbformat": 4,
 "nbformat_minor": 5
}
