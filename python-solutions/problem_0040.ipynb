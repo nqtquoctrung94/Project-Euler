{
 "cells": [
  {
   "cell_type": "markdown",
   "id": "761e8eca",
   "metadata": {},
   "source": [
    "# [Question 40](https://projecteuler.net/problem=40)"
   ]
  },
  {
   "cell_type": "markdown",
   "id": "227d727f",
   "metadata": {},
   "source": [
    "## Champernowne's Constant\n",
    "An irrational decimal fraction is created by concatenating the positive integers:<br>\n",
    "$$0.12345678910{\\color{red}\\mathbf 1}112131415161718192021\\cdots$$\n",
    "\n",
    "It can be seen that the $12$th digit of the fractional part is $1$.<br>\n",
    "If $d_n$ represents the $n$th digit of the fractional part, find the value of the following expression.<br>\n",
    "$$d_1 \\times d_{10} \\times d_{100} \\times d_{1000} \\times d_{10000} \\times d_{100000} \\times d_{1000000}$$\n",
    "\n"
   ]
  },
  {
   "cell_type": "markdown",
   "id": "4c88ba2a",
   "metadata": {},
   "source": [
    "# Solution"
   ]
  },
  {
   "cell_type": "code",
   "execution_count": 42,
   "id": "10115aee",
   "metadata": {},
   "outputs": [],
   "source": [
    "def solution():\n",
    "\ttarget_digits = iter([1, 10, 100, 1000, 10000, 100000, 1000000])\n",
    "\tproduct = 1\n",
    "\n",
    "\tdigit_count = 0\n",
    "\ttarget_digit = next(target_digits,-1)\n",
    "\tn = 0\n",
    "\twhile True:\n",
    "\t\tn += 1\n",
    "\t\tstring_n = str(n)\n",
    "\t\tdigit_count += len(string_n)\n",
    "\n",
    "\t\t# If the added number cover the digit\n",
    "\t\tif digit_count >= target_digit:\n",
    "\t\t\tstart_index = len(string_n)- (digit_count-target_digit) - 1\n",
    "\t\t\tproduct *= int(string_n[start_index: start_index+1])\n",
    "\t\t\ttarget_digit = next(target_digits,-1)\n",
    "\t\t\tif target_digit == -1:\n",
    "\t\t\t\tbreak\n",
    "\treturn product"
   ]
  },
  {
   "cell_type": "markdown",
   "id": "684df47a",
   "metadata": {},
   "source": [
    "# Run"
   ]
  },
  {
   "cell_type": "code",
   "execution_count": 43,
   "id": "fe818415",
   "metadata": {},
   "outputs": [
    {
     "name": "stdout",
     "output_type": "stream",
     "text": [
      "CPU times: total: 15.6 ms\n",
      "Wall time: 19 ms\n"
     ]
    },
    {
     "data": {
      "text/plain": [
       "210"
      ]
     },
     "execution_count": 43,
     "metadata": {},
     "output_type": "execute_result"
    }
   ],
   "source": [
    "%%time\n",
    "solution()"
   ]
  }
 ],
 "metadata": {
  "kernelspec": {
   "display_name": "Python 3",
   "language": "python",
   "name": "python3"
  },
  "language_info": {
   "codemirror_mode": {
    "name": "ipython",
    "version": 3
   },
   "file_extension": ".py",
   "mimetype": "text/x-python",
   "name": "python",
   "nbconvert_exporter": "python",
   "pygments_lexer": "ipython3",
   "version": "3.11.4"
  }
 },
 "nbformat": 4,
 "nbformat_minor": 5
}
